{
  "cells": [
    {
      "cell_type": "code",
      "execution_count": 1,
      "metadata": {
        "id": "z5M7nhtK2_5y"
      },
      "outputs": [],
      "source": [
        "%load_ext autoreload\n",
        "%autoreload 2\n",
        "%matplotlib inline"
      ]
    },
    {
      "cell_type": "markdown",
      "metadata": {
        "id": "yvVx1gpC2_51"
      },
      "source": [
        "If the `econml` and `wget` python packages are not installed on your machine install them by running the cells below."
      ]
    },
    {
      "cell_type": "code",
      "execution_count": 2,
      "metadata": {
        "id": "FsvTNisb2_52",
        "colab": {
          "base_uri": "https://localhost:8080/"
        },
        "outputId": "dae5686c-4206-4127-974b-14c302a17155"
      },
      "outputs": [
        {
          "output_type": "stream",
          "name": "stdout",
          "text": [
            "Requirement already satisfied: econml in /usr/local/lib/python3.11/dist-packages (0.15.1)\n",
            "Requirement already satisfied: numpy<2 in /usr/local/lib/python3.11/dist-packages (from econml) (1.26.4)\n",
            "Requirement already satisfied: scipy>1.4.0 in /usr/local/lib/python3.11/dist-packages (from econml) (1.15.3)\n",
            "Requirement already satisfied: scikit-learn<1.6,>=1.0 in /usr/local/lib/python3.11/dist-packages (from econml) (1.5.2)\n",
            "Requirement already satisfied: sparse in /usr/local/lib/python3.11/dist-packages (from econml) (0.17.0)\n",
            "Requirement already satisfied: joblib>=0.13.0 in /usr/local/lib/python3.11/dist-packages (from econml) (1.5.1)\n",
            "Requirement already satisfied: statsmodels>=0.10 in /usr/local/lib/python3.11/dist-packages (from econml) (0.14.0)\n",
            "Requirement already satisfied: pandas>1.0 in /usr/local/lib/python3.11/dist-packages (from econml) (2.2.2)\n",
            "Requirement already satisfied: shap<0.44.0,>=0.38.1 in /usr/local/lib/python3.11/dist-packages (from econml) (0.43.0)\n",
            "Requirement already satisfied: lightgbm in /usr/local/lib/python3.11/dist-packages (from econml) (4.5.0)\n",
            "Requirement already satisfied: packaging in /usr/local/lib/python3.11/dist-packages (from econml) (24.2)\n",
            "Requirement already satisfied: python-dateutil>=2.8.2 in /usr/local/lib/python3.11/dist-packages (from pandas>1.0->econml) (2.9.0.post0)\n",
            "Requirement already satisfied: pytz>=2020.1 in /usr/local/lib/python3.11/dist-packages (from pandas>1.0->econml) (2025.2)\n",
            "Requirement already satisfied: tzdata>=2022.7 in /usr/local/lib/python3.11/dist-packages (from pandas>1.0->econml) (2025.2)\n",
            "Requirement already satisfied: threadpoolctl>=3.1.0 in /usr/local/lib/python3.11/dist-packages (from scikit-learn<1.6,>=1.0->econml) (3.6.0)\n",
            "Requirement already satisfied: tqdm>=4.27.0 in /usr/local/lib/python3.11/dist-packages (from shap<0.44.0,>=0.38.1->econml) (4.67.1)\n",
            "Requirement already satisfied: slicer==0.0.7 in /usr/local/lib/python3.11/dist-packages (from shap<0.44.0,>=0.38.1->econml) (0.0.7)\n",
            "Requirement already satisfied: numba in /usr/local/lib/python3.11/dist-packages (from shap<0.44.0,>=0.38.1->econml) (0.60.0)\n",
            "Requirement already satisfied: cloudpickle in /usr/local/lib/python3.11/dist-packages (from shap<0.44.0,>=0.38.1->econml) (3.1.1)\n",
            "Requirement already satisfied: patsy>=0.5.2 in /usr/local/lib/python3.11/dist-packages (from statsmodels>=0.10->econml) (1.0.1)\n",
            "Requirement already satisfied: llvmlite<0.44,>=0.43.0dev0 in /usr/local/lib/python3.11/dist-packages (from numba->shap<0.44.0,>=0.38.1->econml) (0.43.0)\n",
            "Requirement already satisfied: six>=1.5 in /usr/local/lib/python3.11/dist-packages (from python-dateutil>=2.8.2->pandas>1.0->econml) (1.17.0)\n"
          ]
        }
      ],
      "source": [
        "!pip install econml"
      ]
    },
    {
      "cell_type": "code",
      "execution_count": 3,
      "metadata": {
        "id": "pRRPaoDU2_52",
        "colab": {
          "base_uri": "https://localhost:8080/"
        },
        "outputId": "e9526db9-b2d0-45ae-8701-7aa8cdf41b34"
      },
      "outputs": [
        {
          "output_type": "stream",
          "name": "stdout",
          "text": [
            "Requirement already satisfied: wget in /usr/local/lib/python3.11/dist-packages (3.2)\n"
          ]
        }
      ],
      "source": [
        "!pip install wget"
      ]
    },
    {
      "cell_type": "markdown",
      "metadata": {
        "id": "Asg9JcK52_52"
      },
      "source": [
        "Importing all the necessary components"
      ]
    },
    {
      "cell_type": "code",
      "execution_count": 4,
      "metadata": {
        "id": "OnDJYhWb2_53"
      },
      "outputs": [],
      "source": [
        "import numpy as np\n",
        "import matplotlib.pyplot as plt\n",
        "from statsmodels.api import OLS\n",
        "from sklearn.model_selection import StratifiedKFold\n",
        "from sklearn.model_selection import cross_val_predict\n",
        "import pandas as pd"
      ]
    },
    {
      "cell_type": "code",
      "execution_count": 5,
      "metadata": {
        "id": "rvYTlxo72_53",
        "colab": {
          "base_uri": "https://localhost:8080/",
          "height": 35
        },
        "outputId": "a42b0e89-300b-4009-dc69-e22e7cc197e6"
      },
      "outputs": [
        {
          "output_type": "execute_result",
          "data": {
            "text/plain": [
              "'myxgb.py'"
            ],
            "application/vnd.google.colaboratory.intrinsic+json": {
              "type": "string"
            }
          },
          "metadata": {},
          "execution_count": 5
        }
      ],
      "source": [
        "import wget\n",
        "import os\n",
        "\n",
        "if os.path.exists('datasets.py'):\n",
        "    os.remove('datasets.py')\n",
        "wget.download('https://raw.githubusercontent.com/CausalAIBook/MetricsMLNotebooks/main/T/datasets.py')\n",
        "\n",
        "if os.path.exists('myxgb.py'):\n",
        "    os.remove('myxgb.py')\n",
        "wget.download('https://raw.githubusercontent.com/CausalAIBook/MetricsMLNotebooks/main/T/myxgb.py')"
      ]
    },
    {
      "cell_type": "markdown",
      "metadata": {
        "id": "VcCRDcgO2_53"
      },
      "source": [
        "# Setting the High Level Parameters for the Notebook\n",
        "\n",
        "The 401k dataset is downloaded from the source by the code and no need to further download anything:\n",
        "https://raw.githubusercontent.com/CausalAIBook/MetricsMLNotebooks/main/data/401k.csv\n",
        "\n",
        "The welfare dataset is downloaded from the source by the code and no need to further download anything:\n",
        "https://github.com/gsbDBI/ExperimentData/blob/master/Welfare/ProcessedData/welfarenolabel3.csv\n",
        "\n",
        "It is drawn from the analysis in this paper: [Green and Kern, 2012, Modeling Heterogeneous Treatment Effects in Survey Experiments with Bayesian Additive Regression Trees](https://github.com/gsbDBI/ExperimentData/blob/master/Welfare/Green%20and%20Kern%20BART.pdf)"
      ]
    },
    {
      "cell_type": "code",
      "execution_count": 6,
      "metadata": {
        "id": "5UEDqOWd2_54"
      },
      "outputs": [],
      "source": [
        "dataset = 'welfare'"
      ]
    },
    {
      "cell_type": "markdown",
      "source": [
        "dataset が '401k' の場合と 'welfare' の場合で、\n",
        "それぞれのデータセットに合ったパラメータや設定値を定義している。\n",
        "どのデータセットを使うかに応じて分析で使うパラメータを柔軟に切り替えるための条件分岐"
      ],
      "metadata": {
        "id": "qD2tYrNqq651"
      }
    },
    {
      "cell_type": "code",
      "execution_count": 7,
      "metadata": {
        "id": "XMBrj69m2_54"
      },
      "outputs": [],
      "source": [
        "if dataset == '401k':\n",
        "    verbose = 0  # verbosity of auto-ml\n",
        "    n_splits = 5  # cross-fitting and cross-validation splits\n",
        "    cfit = False\n",
        "    data = '401k'  # which dataset, one of {'401k', 'criteo', 'welfare', 'poverty', 'charity'}\n",
        "    plot = True  # whether to plot results\n",
        "    xfeat = 'inc'  # feature to use as x axis in plotting, e.g. for criteo 'f1', for 401k 'inc', for welfare 'polviews'\n",
        "    # Formula for the BLP of CATE regression.\n",
        "    blp_formula = 'np.log(inc)'  # e.g. 'f1' for criteo, np.log(inc)' for 401k, 'C(polviews)' for the welfare case.\n",
        "    blp_formula_short = 'log(inc)'\n",
        "    blp_formula2 = 'np.log(inc) + np.power(np.log(inc), 2) + np.power(np.log(inc), 3) + np.power(np.log(inc), 4)'\n",
        "    blp_formula2_short = 'poly(log(inc), 4)'\n",
        "    control_feats = 'all'  # list of subset of features to be used as confounders or the string 'all' for everything\n",
        "    # list of subset of control features to be used for CATE model or the string 'all' for all controls\n",
        "    hetero_feats = 'all'\n",
        "    cov_clip = .01  # clipping of treatment variance p(x)*(1-p(x)), whenever used in inverse propensities\n",
        "    binary_y = False\n",
        "    random_seed = 1\n",
        "\n",
        "    # treatment policy to evaluate\n",
        "    def policy(x):\n",
        "        return x['inc'] > 30000\n",
        "\n",
        "    # cost of treatment when performing optimal policy learning, can also be viewed as \"threshold for treatment\"\n",
        "    treatment_cost = 4000\n",
        "\n",
        "    # For semi-synthetic data generation\n",
        "    semi_synth = False  # Whether true outcome y should be replaced by a fake outcome from a known CEF\n",
        "    simple_synth = True  # Whether the true CEF of the fake y should be simple or fitted from data\n",
        "    max_depth = 2  # max depth of random forest during for semi-synthetic model fitting\n",
        "    scale = .2  # magnitude of noise in semi-synthetic data\n",
        "\n",
        "elif dataset == 'welfare':\n",
        "    verbose = 0  # verbosity of auto-ml\n",
        "    n_splits = 5  # cross-fitting and cross-validation splits\n",
        "    cfit = True\n",
        "    data = 'welfare'  # which dataset, one of {'401k', 'criteo', 'welfare', 'poverty', 'charity'}\n",
        "    plot = True  # whether to plot results\n",
        "    # feature to use as x axis in plotting, e.g. for criteo 'f1', for 401k 'inc', for welfare 'polviews'\n",
        "    xfeat = 'polviews'\n",
        "    # Formula for the BLP of CATE regression.\n",
        "    blp_formula = 'C(polviews)'  # e.g. 'f1' for criteo, np.log(inc)' for 401k, 'C(polviews)' for the welfare case.\n",
        "    blp_formula_short = 'C(polviews)'\n",
        "    blp_formula2 = 'polviews'\n",
        "    blp_formula2_short = 'polviews'\n",
        "    control_feats = 'all'  # list of subset of features to be used as confounders or the string 'all' for everything\n",
        "    # list of subset of control features to be used for CATE model or the string 'all' for all controls\n",
        "    hetero_feats = 'all'\n",
        "    cov_clip = .01  # clipping of treatment variance p(x)*(1-p(x)), whenever used in inverse propensities\n",
        "    binary_y = True\n",
        "    random_seed = 1\n",
        "\n",
        "    # treatment policy to evaluate\n",
        "    def policy(x):\n",
        "        return x['polviews'] > 0\n",
        "\n",
        "    # cost of treatment when performing optimal policy learning, can also be viewed as \"threshold for treatment\"\n",
        "    treatment_cost = -.3\n",
        "\n",
        "    # For semi-synthetic data generation\n",
        "    semi_synth = False  # Whether true outcome y should be replaced by a fake outcome from a known CEF\n",
        "    simple_synth = True  # Whether the true CEF of the fake y should be simple or fitted from data\n",
        "    max_depth = 2  # max depth of random forest during for semi-synthetic model fitting\n",
        "    scale = .2  # magnitude of noise in semi-synthetic data"
      ]
    },
    {
      "cell_type": "markdown",
      "source": [
        "半合成データ用の簡単な条件付き期待値関数（CEF）を定義している。\n",
        "これにより、推定モデルの性能を「本当の効果」と比較しながら評価している。"
      ],
      "metadata": {
        "id": "qLN5AnIBq3dl"
      }
    },
    {
      "cell_type": "code",
      "execution_count": 8,
      "metadata": {
        "id": "PdbUhjVgKZL5"
      },
      "outputs": [],
      "source": [
        "def simple_true_cef(D, X):  # simple CEF of the outcome for semi-synthetic data\n",
        "    return .5 * np.array(X)[:, 1] * D + np.array(X)[:, 1]"
      ]
    },
    {
      "cell_type": "markdown",
      "metadata": {
        "id": "VWkRUz3I2_54"
      },
      "source": [
        "# Fetching and Constructing the Dataset\n",
        "\n",
        "The data generator also allows for semi-synthetic data generation where the ground truth CATE is known, which can be used for evaluation of different methods."
      ]
    },
    {
      "cell_type": "markdown",
      "source": [
        "指定した条件でデータセットを準備し、説明変数・処置・目的変数などを受け取るための一連の処理を実行している"
      ],
      "metadata": {
        "id": "h825Yo5kqtcz"
      }
    },
    {
      "cell_type": "code",
      "execution_count": 9,
      "metadata": {
        "id": "F6RgjgO-2_54"
      },
      "outputs": [],
      "source": [
        "from datasets import fetch_data_generator\n",
        "\n",
        "get_data, abtest, true_cef, true_cate = fetch_data_generator(data=data, semi_synth=semi_synth,\n",
        "                                                             simple_synth=simple_synth,\n",
        "                                                             scale=scale, true_f=simple_true_cef,\n",
        "                                                             max_depth=max_depth)\n",
        "X, D, y, groups = get_data()"
      ]
    },
    {
      "cell_type": "markdown",
      "source": [
        "semi_synth が True の場合にだけ実行される処理　全データのCATEの平均を計算している。これを True ATE（Average Treatment Effectの真の値）"
      ],
      "metadata": {
        "id": "3jr5HTOxriho"
      }
    },
    {
      "cell_type": "code",
      "execution_count": 10,
      "metadata": {
        "id": "gORrK-bj2_55"
      },
      "outputs": [],
      "source": [
        "if semi_synth:\n",
        "    true_ate = np.mean(true_cate(X))\n",
        "    print(f'True ATE: {true_ate}')"
      ]
    },
    {
      "cell_type": "markdown",
      "source": [
        "「RMSE（Root Mean Squared Error：二乗平均平方根誤差）」を計算する関数"
      ],
      "metadata": {
        "id": "cv8UEOwTr0ie"
      }
    },
    {
      "cell_type": "code",
      "execution_count": 11,
      "metadata": {
        "id": "cX4v7fQ82_55"
      },
      "outputs": [],
      "source": [
        "def rmse(cate, preds):\n",
        "    return np.sqrt(np.mean((cate - preds)**2))"
      ]
    },
    {
      "cell_type": "markdown",
      "metadata": {
        "id": "bhaPwyWJ2_55"
      },
      "source": [
        "# Data Analysis\n",
        "\n",
        "We now have our data $X$, $D$, $y$, of controls, treatments and outcomes. In some datasets, we also have \"groups\", also known as \"clusters\". These are group ids, that define a group of samples that are believed to be correlated through unobesrved factors. For instance, in randomized experiments when a whole class is being treated and we have data at the student level, the students in a class constitute a cluster, as their outcome variables are most probably correlated. In such settings, it is helpful to account for the cluster correlations when calculating confidence intervals and when performing sample splitting for either cross-validation or for nuisance estimation. This notebook will not deal with such group clusters. A more tailored analysis is required.\n",
        "\n",
        "We will be assuming throughout that conditional ignorability is satisfied if we control for all the variables $X$, i.e. the potential outcomes $Y(1), Y(0)$ satisfy\n",
        "\\begin{align}\n",
        "Y(1), Y(0) ~\\perp\\hspace{-1em}\\perp~D \\mid X\n",
        "\\end{align}\n",
        "Equivalently, we assume that the DAG the corresponds to our setting satisfies that $X$ is a valid adjustment set between $D$ and $Y$, i.e. it blocks all backdoor paths in the DAG."
      ]
    },
    {
      "cell_type": "code",
      "execution_count": 12,
      "metadata": {
        "id": "PwBWUvbB2_55",
        "colab": {
          "base_uri": "https://localhost:8080/",
          "height": 346
        },
        "outputId": "040d6f90-a39c-4c7c-adbe-94c5efa8031a"
      },
      "outputs": [
        {
          "output_type": "execute_result",
          "data": {
            "text/plain": [
              "               hrs1        income       rincome           age      polviews  \\\n",
              "count  12907.000000  12907.000000  12907.000000  12907.000000  12907.000000   \n",
              "mean      42.260324     11.305183     10.223367     40.573952      4.083443   \n",
              "std       14.018162      1.635527      2.744435     12.179377      1.376485   \n",
              "min        0.000000      1.000000      1.000000     18.000000      1.000000   \n",
              "25%       38.000000     12.000000      9.000000     31.000000      3.000000   \n",
              "50%       40.000000     12.000000     12.000000     40.000000      4.000000   \n",
              "75%       50.000000     12.000000     12.000000     49.000000      5.000000   \n",
              "max       89.000000     12.000000     12.000000     88.000000      7.000000   \n",
              "\n",
              "               educ        earnrs          sibs        childs         occ80  \\\n",
              "count  12907.000000  12907.000000  12907.000000  12907.000000  12907.000000   \n",
              "mean      14.026497      1.745177      3.426823      1.569613    332.056016   \n",
              "std        2.722665      0.830837      2.918114      1.482378    242.739687   \n",
              "min        0.000000      0.000000      0.000000      0.000000      4.000000   \n",
              "25%       12.000000      1.000000      2.000000      0.000000    156.000000   \n",
              "50%       14.000000      2.000000      3.000000      2.000000    305.000000   \n",
              "75%       16.000000      2.000000      4.000000      2.000000    458.000000   \n",
              "max       20.000000      8.000000     37.000000      8.000000    889.000000   \n",
              "\n",
              "       ...         reg16      family16       parborn        maeduc  \\\n",
              "count  ...  12907.000000  12907.000000  12907.000000  12907.000000   \n",
              "mean   ...      4.417758      1.824669      0.886263     11.745874   \n",
              "std    ...      2.619726      1.662529      2.418884      3.313779   \n",
              "min    ...      0.000000      0.000000      0.000000      0.000000   \n",
              "25%    ...      2.000000      1.000000      0.000000     11.000000   \n",
              "50%    ...      4.000000      1.000000      0.000000     12.000000   \n",
              "75%    ...      6.500000      1.000000      0.000000     13.000000   \n",
              "max    ...      9.000000      8.000000      8.000000     20.000000   \n",
              "\n",
              "             degree        hompop        babies       preteen         teens  \\\n",
              "count  12907.000000  12907.000000  12907.000000  12907.000000  12907.000000   \n",
              "mean       1.758736      2.645619      0.227628      0.303479      0.216782   \n",
              "std        1.177910      1.399372      0.546265      0.656729      0.527373   \n",
              "min        0.000000      1.000000      0.000000      0.000000      0.000000   \n",
              "25%        1.000000      2.000000      0.000000      0.000000      0.000000   \n",
              "50%        1.000000      2.000000      0.000000      0.000000      0.000000   \n",
              "75%        3.000000      4.000000      0.000000      0.000000      0.000000   \n",
              "max        4.000000     11.000000      4.000000      5.000000      4.000000   \n",
              "\n",
              "             adults  \n",
              "count  12907.000000  \n",
              "mean       1.893004  \n",
              "std        0.774679  \n",
              "min        1.000000  \n",
              "25%        1.000000  \n",
              "50%        2.000000  \n",
              "75%        2.000000  \n",
              "max        8.000000  \n",
              "\n",
              "[8 rows x 23 columns]"
            ],
            "text/html": [
              "\n",
              "  <div id=\"df-38abb7c6-6af9-43d4-b81d-271dfd9f56ed\" class=\"colab-df-container\">\n",
              "    <div>\n",
              "<style scoped>\n",
              "    .dataframe tbody tr th:only-of-type {\n",
              "        vertical-align: middle;\n",
              "    }\n",
              "\n",
              "    .dataframe tbody tr th {\n",
              "        vertical-align: top;\n",
              "    }\n",
              "\n",
              "    .dataframe thead th {\n",
              "        text-align: right;\n",
              "    }\n",
              "</style>\n",
              "<table border=\"1\" class=\"dataframe\">\n",
              "  <thead>\n",
              "    <tr style=\"text-align: right;\">\n",
              "      <th></th>\n",
              "      <th>hrs1</th>\n",
              "      <th>income</th>\n",
              "      <th>rincome</th>\n",
              "      <th>age</th>\n",
              "      <th>polviews</th>\n",
              "      <th>educ</th>\n",
              "      <th>earnrs</th>\n",
              "      <th>sibs</th>\n",
              "      <th>childs</th>\n",
              "      <th>occ80</th>\n",
              "      <th>...</th>\n",
              "      <th>reg16</th>\n",
              "      <th>family16</th>\n",
              "      <th>parborn</th>\n",
              "      <th>maeduc</th>\n",
              "      <th>degree</th>\n",
              "      <th>hompop</th>\n",
              "      <th>babies</th>\n",
              "      <th>preteen</th>\n",
              "      <th>teens</th>\n",
              "      <th>adults</th>\n",
              "    </tr>\n",
              "  </thead>\n",
              "  <tbody>\n",
              "    <tr>\n",
              "      <th>count</th>\n",
              "      <td>12907.000000</td>\n",
              "      <td>12907.000000</td>\n",
              "      <td>12907.000000</td>\n",
              "      <td>12907.000000</td>\n",
              "      <td>12907.000000</td>\n",
              "      <td>12907.000000</td>\n",
              "      <td>12907.000000</td>\n",
              "      <td>12907.000000</td>\n",
              "      <td>12907.000000</td>\n",
              "      <td>12907.000000</td>\n",
              "      <td>...</td>\n",
              "      <td>12907.000000</td>\n",
              "      <td>12907.000000</td>\n",
              "      <td>12907.000000</td>\n",
              "      <td>12907.000000</td>\n",
              "      <td>12907.000000</td>\n",
              "      <td>12907.000000</td>\n",
              "      <td>12907.000000</td>\n",
              "      <td>12907.000000</td>\n",
              "      <td>12907.000000</td>\n",
              "      <td>12907.000000</td>\n",
              "    </tr>\n",
              "    <tr>\n",
              "      <th>mean</th>\n",
              "      <td>42.260324</td>\n",
              "      <td>11.305183</td>\n",
              "      <td>10.223367</td>\n",
              "      <td>40.573952</td>\n",
              "      <td>4.083443</td>\n",
              "      <td>14.026497</td>\n",
              "      <td>1.745177</td>\n",
              "      <td>3.426823</td>\n",
              "      <td>1.569613</td>\n",
              "      <td>332.056016</td>\n",
              "      <td>...</td>\n",
              "      <td>4.417758</td>\n",
              "      <td>1.824669</td>\n",
              "      <td>0.886263</td>\n",
              "      <td>11.745874</td>\n",
              "      <td>1.758736</td>\n",
              "      <td>2.645619</td>\n",
              "      <td>0.227628</td>\n",
              "      <td>0.303479</td>\n",
              "      <td>0.216782</td>\n",
              "      <td>1.893004</td>\n",
              "    </tr>\n",
              "    <tr>\n",
              "      <th>std</th>\n",
              "      <td>14.018162</td>\n",
              "      <td>1.635527</td>\n",
              "      <td>2.744435</td>\n",
              "      <td>12.179377</td>\n",
              "      <td>1.376485</td>\n",
              "      <td>2.722665</td>\n",
              "      <td>0.830837</td>\n",
              "      <td>2.918114</td>\n",
              "      <td>1.482378</td>\n",
              "      <td>242.739687</td>\n",
              "      <td>...</td>\n",
              "      <td>2.619726</td>\n",
              "      <td>1.662529</td>\n",
              "      <td>2.418884</td>\n",
              "      <td>3.313779</td>\n",
              "      <td>1.177910</td>\n",
              "      <td>1.399372</td>\n",
              "      <td>0.546265</td>\n",
              "      <td>0.656729</td>\n",
              "      <td>0.527373</td>\n",
              "      <td>0.774679</td>\n",
              "    </tr>\n",
              "    <tr>\n",
              "      <th>min</th>\n",
              "      <td>0.000000</td>\n",
              "      <td>1.000000</td>\n",
              "      <td>1.000000</td>\n",
              "      <td>18.000000</td>\n",
              "      <td>1.000000</td>\n",
              "      <td>0.000000</td>\n",
              "      <td>0.000000</td>\n",
              "      <td>0.000000</td>\n",
              "      <td>0.000000</td>\n",
              "      <td>4.000000</td>\n",
              "      <td>...</td>\n",
              "      <td>0.000000</td>\n",
              "      <td>0.000000</td>\n",
              "      <td>0.000000</td>\n",
              "      <td>0.000000</td>\n",
              "      <td>0.000000</td>\n",
              "      <td>1.000000</td>\n",
              "      <td>0.000000</td>\n",
              "      <td>0.000000</td>\n",
              "      <td>0.000000</td>\n",
              "      <td>1.000000</td>\n",
              "    </tr>\n",
              "    <tr>\n",
              "      <th>25%</th>\n",
              "      <td>38.000000</td>\n",
              "      <td>12.000000</td>\n",
              "      <td>9.000000</td>\n",
              "      <td>31.000000</td>\n",
              "      <td>3.000000</td>\n",
              "      <td>12.000000</td>\n",
              "      <td>1.000000</td>\n",
              "      <td>2.000000</td>\n",
              "      <td>0.000000</td>\n",
              "      <td>156.000000</td>\n",
              "      <td>...</td>\n",
              "      <td>2.000000</td>\n",
              "      <td>1.000000</td>\n",
              "      <td>0.000000</td>\n",
              "      <td>11.000000</td>\n",
              "      <td>1.000000</td>\n",
              "      <td>2.000000</td>\n",
              "      <td>0.000000</td>\n",
              "      <td>0.000000</td>\n",
              "      <td>0.000000</td>\n",
              "      <td>1.000000</td>\n",
              "    </tr>\n",
              "    <tr>\n",
              "      <th>50%</th>\n",
              "      <td>40.000000</td>\n",
              "      <td>12.000000</td>\n",
              "      <td>12.000000</td>\n",
              "      <td>40.000000</td>\n",
              "      <td>4.000000</td>\n",
              "      <td>14.000000</td>\n",
              "      <td>2.000000</td>\n",
              "      <td>3.000000</td>\n",
              "      <td>2.000000</td>\n",
              "      <td>305.000000</td>\n",
              "      <td>...</td>\n",
              "      <td>4.000000</td>\n",
              "      <td>1.000000</td>\n",
              "      <td>0.000000</td>\n",
              "      <td>12.000000</td>\n",
              "      <td>1.000000</td>\n",
              "      <td>2.000000</td>\n",
              "      <td>0.000000</td>\n",
              "      <td>0.000000</td>\n",
              "      <td>0.000000</td>\n",
              "      <td>2.000000</td>\n",
              "    </tr>\n",
              "    <tr>\n",
              "      <th>75%</th>\n",
              "      <td>50.000000</td>\n",
              "      <td>12.000000</td>\n",
              "      <td>12.000000</td>\n",
              "      <td>49.000000</td>\n",
              "      <td>5.000000</td>\n",
              "      <td>16.000000</td>\n",
              "      <td>2.000000</td>\n",
              "      <td>4.000000</td>\n",
              "      <td>2.000000</td>\n",
              "      <td>458.000000</td>\n",
              "      <td>...</td>\n",
              "      <td>6.500000</td>\n",
              "      <td>1.000000</td>\n",
              "      <td>0.000000</td>\n",
              "      <td>13.000000</td>\n",
              "      <td>3.000000</td>\n",
              "      <td>4.000000</td>\n",
              "      <td>0.000000</td>\n",
              "      <td>0.000000</td>\n",
              "      <td>0.000000</td>\n",
              "      <td>2.000000</td>\n",
              "    </tr>\n",
              "    <tr>\n",
              "      <th>max</th>\n",
              "      <td>89.000000</td>\n",
              "      <td>12.000000</td>\n",
              "      <td>12.000000</td>\n",
              "      <td>88.000000</td>\n",
              "      <td>7.000000</td>\n",
              "      <td>20.000000</td>\n",
              "      <td>8.000000</td>\n",
              "      <td>37.000000</td>\n",
              "      <td>8.000000</td>\n",
              "      <td>889.000000</td>\n",
              "      <td>...</td>\n",
              "      <td>9.000000</td>\n",
              "      <td>8.000000</td>\n",
              "      <td>8.000000</td>\n",
              "      <td>20.000000</td>\n",
              "      <td>4.000000</td>\n",
              "      <td>11.000000</td>\n",
              "      <td>4.000000</td>\n",
              "      <td>5.000000</td>\n",
              "      <td>4.000000</td>\n",
              "      <td>8.000000</td>\n",
              "    </tr>\n",
              "  </tbody>\n",
              "</table>\n",
              "<p>8 rows × 23 columns</p>\n",
              "</div>\n",
              "    <div class=\"colab-df-buttons\">\n",
              "\n",
              "  <div class=\"colab-df-container\">\n",
              "    <button class=\"colab-df-convert\" onclick=\"convertToInteractive('df-38abb7c6-6af9-43d4-b81d-271dfd9f56ed')\"\n",
              "            title=\"Convert this dataframe to an interactive table.\"\n",
              "            style=\"display:none;\">\n",
              "\n",
              "  <svg xmlns=\"http://www.w3.org/2000/svg\" height=\"24px\" viewBox=\"0 -960 960 960\">\n",
              "    <path d=\"M120-120v-720h720v720H120Zm60-500h600v-160H180v160Zm220 220h160v-160H400v160Zm0 220h160v-160H400v160ZM180-400h160v-160H180v160Zm440 0h160v-160H620v160ZM180-180h160v-160H180v160Zm440 0h160v-160H620v160Z\"/>\n",
              "  </svg>\n",
              "    </button>\n",
              "\n",
              "  <style>\n",
              "    .colab-df-container {\n",
              "      display:flex;\n",
              "      gap: 12px;\n",
              "    }\n",
              "\n",
              "    .colab-df-convert {\n",
              "      background-color: #E8F0FE;\n",
              "      border: none;\n",
              "      border-radius: 50%;\n",
              "      cursor: pointer;\n",
              "      display: none;\n",
              "      fill: #1967D2;\n",
              "      height: 32px;\n",
              "      padding: 0 0 0 0;\n",
              "      width: 32px;\n",
              "    }\n",
              "\n",
              "    .colab-df-convert:hover {\n",
              "      background-color: #E2EBFA;\n",
              "      box-shadow: 0px 1px 2px rgba(60, 64, 67, 0.3), 0px 1px 3px 1px rgba(60, 64, 67, 0.15);\n",
              "      fill: #174EA6;\n",
              "    }\n",
              "\n",
              "    .colab-df-buttons div {\n",
              "      margin-bottom: 4px;\n",
              "    }\n",
              "\n",
              "    [theme=dark] .colab-df-convert {\n",
              "      background-color: #3B4455;\n",
              "      fill: #D2E3FC;\n",
              "    }\n",
              "\n",
              "    [theme=dark] .colab-df-convert:hover {\n",
              "      background-color: #434B5C;\n",
              "      box-shadow: 0px 1px 3px 1px rgba(0, 0, 0, 0.15);\n",
              "      filter: drop-shadow(0px 1px 2px rgba(0, 0, 0, 0.3));\n",
              "      fill: #FFFFFF;\n",
              "    }\n",
              "  </style>\n",
              "\n",
              "    <script>\n",
              "      const buttonEl =\n",
              "        document.querySelector('#df-38abb7c6-6af9-43d4-b81d-271dfd9f56ed button.colab-df-convert');\n",
              "      buttonEl.style.display =\n",
              "        google.colab.kernel.accessAllowed ? 'block' : 'none';\n",
              "\n",
              "      async function convertToInteractive(key) {\n",
              "        const element = document.querySelector('#df-38abb7c6-6af9-43d4-b81d-271dfd9f56ed');\n",
              "        const dataTable =\n",
              "          await google.colab.kernel.invokeFunction('convertToInteractive',\n",
              "                                                    [key], {});\n",
              "        if (!dataTable) return;\n",
              "\n",
              "        const docLinkHtml = 'Like what you see? Visit the ' +\n",
              "          '<a target=\"_blank\" href=https://colab.research.google.com/notebooks/data_table.ipynb>data table notebook</a>'\n",
              "          + ' to learn more about interactive tables.';\n",
              "        element.innerHTML = '';\n",
              "        dataTable['output_type'] = 'display_data';\n",
              "        await google.colab.output.renderOutput(dataTable, element);\n",
              "        const docLink = document.createElement('div');\n",
              "        docLink.innerHTML = docLinkHtml;\n",
              "        element.appendChild(docLink);\n",
              "      }\n",
              "    </script>\n",
              "  </div>\n",
              "\n",
              "\n",
              "    <div id=\"df-f5f72630-9d7f-4867-83e8-c5ab1bd6188c\">\n",
              "      <button class=\"colab-df-quickchart\" onclick=\"quickchart('df-f5f72630-9d7f-4867-83e8-c5ab1bd6188c')\"\n",
              "                title=\"Suggest charts\"\n",
              "                style=\"display:none;\">\n",
              "\n",
              "<svg xmlns=\"http://www.w3.org/2000/svg\" height=\"24px\"viewBox=\"0 0 24 24\"\n",
              "     width=\"24px\">\n",
              "    <g>\n",
              "        <path d=\"M19 3H5c-1.1 0-2 .9-2 2v14c0 1.1.9 2 2 2h14c1.1 0 2-.9 2-2V5c0-1.1-.9-2-2-2zM9 17H7v-7h2v7zm4 0h-2V7h2v10zm4 0h-2v-4h2v4z\"/>\n",
              "    </g>\n",
              "</svg>\n",
              "      </button>\n",
              "\n",
              "<style>\n",
              "  .colab-df-quickchart {\n",
              "      --bg-color: #E8F0FE;\n",
              "      --fill-color: #1967D2;\n",
              "      --hover-bg-color: #E2EBFA;\n",
              "      --hover-fill-color: #174EA6;\n",
              "      --disabled-fill-color: #AAA;\n",
              "      --disabled-bg-color: #DDD;\n",
              "  }\n",
              "\n",
              "  [theme=dark] .colab-df-quickchart {\n",
              "      --bg-color: #3B4455;\n",
              "      --fill-color: #D2E3FC;\n",
              "      --hover-bg-color: #434B5C;\n",
              "      --hover-fill-color: #FFFFFF;\n",
              "      --disabled-bg-color: #3B4455;\n",
              "      --disabled-fill-color: #666;\n",
              "  }\n",
              "\n",
              "  .colab-df-quickchart {\n",
              "    background-color: var(--bg-color);\n",
              "    border: none;\n",
              "    border-radius: 50%;\n",
              "    cursor: pointer;\n",
              "    display: none;\n",
              "    fill: var(--fill-color);\n",
              "    height: 32px;\n",
              "    padding: 0;\n",
              "    width: 32px;\n",
              "  }\n",
              "\n",
              "  .colab-df-quickchart:hover {\n",
              "    background-color: var(--hover-bg-color);\n",
              "    box-shadow: 0 1px 2px rgba(60, 64, 67, 0.3), 0 1px 3px 1px rgba(60, 64, 67, 0.15);\n",
              "    fill: var(--button-hover-fill-color);\n",
              "  }\n",
              "\n",
              "  .colab-df-quickchart-complete:disabled,\n",
              "  .colab-df-quickchart-complete:disabled:hover {\n",
              "    background-color: var(--disabled-bg-color);\n",
              "    fill: var(--disabled-fill-color);\n",
              "    box-shadow: none;\n",
              "  }\n",
              "\n",
              "  .colab-df-spinner {\n",
              "    border: 2px solid var(--fill-color);\n",
              "    border-color: transparent;\n",
              "    border-bottom-color: var(--fill-color);\n",
              "    animation:\n",
              "      spin 1s steps(1) infinite;\n",
              "  }\n",
              "\n",
              "  @keyframes spin {\n",
              "    0% {\n",
              "      border-color: transparent;\n",
              "      border-bottom-color: var(--fill-color);\n",
              "      border-left-color: var(--fill-color);\n",
              "    }\n",
              "    20% {\n",
              "      border-color: transparent;\n",
              "      border-left-color: var(--fill-color);\n",
              "      border-top-color: var(--fill-color);\n",
              "    }\n",
              "    30% {\n",
              "      border-color: transparent;\n",
              "      border-left-color: var(--fill-color);\n",
              "      border-top-color: var(--fill-color);\n",
              "      border-right-color: var(--fill-color);\n",
              "    }\n",
              "    40% {\n",
              "      border-color: transparent;\n",
              "      border-right-color: var(--fill-color);\n",
              "      border-top-color: var(--fill-color);\n",
              "    }\n",
              "    60% {\n",
              "      border-color: transparent;\n",
              "      border-right-color: var(--fill-color);\n",
              "    }\n",
              "    80% {\n",
              "      border-color: transparent;\n",
              "      border-right-color: var(--fill-color);\n",
              "      border-bottom-color: var(--fill-color);\n",
              "    }\n",
              "    90% {\n",
              "      border-color: transparent;\n",
              "      border-bottom-color: var(--fill-color);\n",
              "    }\n",
              "  }\n",
              "</style>\n",
              "\n",
              "      <script>\n",
              "        async function quickchart(key) {\n",
              "          const quickchartButtonEl =\n",
              "            document.querySelector('#' + key + ' button');\n",
              "          quickchartButtonEl.disabled = true;  // To prevent multiple clicks.\n",
              "          quickchartButtonEl.classList.add('colab-df-spinner');\n",
              "          try {\n",
              "            const charts = await google.colab.kernel.invokeFunction(\n",
              "                'suggestCharts', [key], {});\n",
              "          } catch (error) {\n",
              "            console.error('Error during call to suggestCharts:', error);\n",
              "          }\n",
              "          quickchartButtonEl.classList.remove('colab-df-spinner');\n",
              "          quickchartButtonEl.classList.add('colab-df-quickchart-complete');\n",
              "        }\n",
              "        (() => {\n",
              "          let quickchartButtonEl =\n",
              "            document.querySelector('#df-f5f72630-9d7f-4867-83e8-c5ab1bd6188c button');\n",
              "          quickchartButtonEl.style.display =\n",
              "            google.colab.kernel.accessAllowed ? 'block' : 'none';\n",
              "        })();\n",
              "      </script>\n",
              "    </div>\n",
              "\n",
              "    </div>\n",
              "  </div>\n"
            ],
            "application/vnd.google.colaboratory.intrinsic+json": {
              "type": "dataframe"
            }
          },
          "metadata": {},
          "execution_count": 12
        }
      ],
      "source": [
        "X.describe()"
      ]
    },
    {
      "cell_type": "markdown",
      "source": [
        "もし control_feats という変数が文字列 'all' でない場合、\n",
        "control_feats に指定された列だけを説明変数 X から抜き出して使う、という処理"
      ],
      "metadata": {
        "id": "N5ETFFZWtSsi"
      }
    },
    {
      "cell_type": "code",
      "execution_count": 13,
      "metadata": {
        "id": "YyMxyYwKXKfN"
      },
      "outputs": [],
      "source": [
        "if control_feats != 'all':\n",
        "    X = X[control_feats]\n",
        "    print(X.describe())"
      ]
    },
    {
      "cell_type": "markdown",
      "source": [
        "説明変数 X の各列（特徴量）ごとに平均値を引いて中心化（mean centering）する処理です。　それを X の各対応する列から引くことで、各列のデータの平均が0になるように調整　axis=0 は「縦方向（行方向)」"
      ],
      "metadata": {
        "id": "kaRXLWfrtpuQ"
      }
    },
    {
      "cell_type": "code",
      "execution_count": 14,
      "metadata": {
        "id": "HzQ-w_uMYvu0"
      },
      "outputs": [],
      "source": [
        "X = X - X.mean(axis=0)"
      ]
    },
    {
      "cell_type": "markdown",
      "source": [
        "teratment　人数？　outcome 効果の有無？"
      ],
      "metadata": {
        "id": "mCnwhv-RupbJ"
      }
    },
    {
      "cell_type": "code",
      "execution_count": 15,
      "metadata": {
        "id": "ysDh_Cea2_55",
        "colab": {
          "base_uri": "https://localhost:8080/",
          "height": 468
        },
        "outputId": "69d0eed8-5777-4d88-9068-4d7712cfe423"
      },
      "outputs": [
        {
          "output_type": "display_data",
          "data": {
            "text/plain": [
              "<Figure size 1500x500 with 2 Axes>"
            ],
            "image/png": "[encoded data removed]"
          },
          "metadata": {}
        }
      ],
      "source": [
        "plt.figure(figsize=(15, 5))\n",
        "plt.subplot(1, 2, 1)\n",
        "plt.hist(D)\n",
        "plt.title('Treatment')\n",
        "plt.subplot(1, 2, 2)\n",
        "plt.hist(y)\n",
        "plt.title('Outcome')\n",
        "plt.show()"
      ]
    },
    {
      "cell_type": "markdown",
      "source": [
        "単純に「処置群（D=1）と非処置群（D=0）の平均アウトカムの差」を推定している　ランダム化試験（Randomized Controlled Trial; RCT）でない場合、この推定はバイアスを含み誤った推定になる可能性が高い\n",
        "→ 因果推論のためには、処置と結果に影響する交絡因子を適切に調整する必要がある"
      ],
      "metadata": {
        "id": "QL5TSG_3vI8m"
      }
    },
    {
      "cell_type": "code",
      "execution_count": 16,
      "metadata": {
        "id": "yvczDYFd2_55",
        "colab": {
          "base_uri": "https://localhost:8080/",
          "height": 444
        },
        "outputId": "1283acd4-d186-4c62-8e70-04089a3b9f5f"
      },
      "outputs": [
        {
          "output_type": "execute_result",
          "data": {
            "text/plain": [
              "<class 'statsmodels.iolib.summary.Summary'>\n",
              "\"\"\"\n",
              "                            OLS Regression Results                            \n",
              "==============================================================================\n",
              "Dep. Variable:                      y   R-squared:                       0.164\n",
              "Model:                            OLS   Adj. R-squared:                  0.164\n",
              "Method:                 Least Squares   F-statistic:                     2476.\n",
              "Date:                Sun, 08 Jun 2025   Prob (F-statistic):               0.00\n",
              "Time:                        01:39:01   Log-Likelihood:                -6969.7\n",
              "No. Observations:               12907   AIC:                         1.394e+04\n",
              "Df Residuals:                   12905   BIC:                         1.396e+04\n",
              "Df Model:                           1                                         \n",
              "Covariance Type:                  HC1                                         \n",
              "==============================================================================\n",
              "                 coef    std err          z      P>|z|      [0.025      0.975]\n",
              "------------------------------------------------------------------------------\n",
              "const          0.4798      0.006     76.111      0.000       0.467       0.492\n",
              "x1            -0.3681      0.007    -49.761      0.000      -0.383      -0.354\n",
              "==============================================================================\n",
              "Omnibus:                     1655.598   Durbin-Watson:                   1.990\n",
              "Prob(Omnibus):                  0.000   Jarque-Bera (JB):             1148.663\n",
              "Skew:                           0.621   Prob(JB):                    3.72e-250\n",
              "Kurtosis:                       2.230   Cond. No.                         2.65\n",
              "==============================================================================\n",
              "\n",
              "Notes:\n",
              "[1] Standard Errors are heteroscedasticity robust (HC1)\n",
              "\"\"\""
            ],
            "text/html": [
              "<table class=\"simpletable\">\n",
              "<caption>OLS Regression Results</caption>\n",
              "<tr>\n",
              "  <th>Dep. Variable:</th>            <td>y</td>        <th>  R-squared:         </th> <td>   0.164</td> \n",
              "</tr>\n",
              "<tr>\n",
              "  <th>Model:</th>                   <td>OLS</td>       <th>  Adj. R-squared:    </th> <td>   0.164</td> \n",
              "</tr>\n",
              "<tr>\n",
              "  <th>Method:</th>             <td>Least Squares</td>  <th>  F-statistic:       </th> <td>   2476.</td> \n",
              "</tr>\n",
              "<tr>\n",
              "  <th>Date:</th>             <td>Sun, 08 Jun 2025</td> <th>  Prob (F-statistic):</th>  <td>  0.00</td>  \n",
              "</tr>\n",
              "<tr>\n",
              "  <th>Time:</th>                 <td>01:39:01</td>     <th>  Log-Likelihood:    </th> <td> -6969.7</td> \n",
              "</tr>\n",
              "<tr>\n",
              "  <th>No. Observations:</th>      <td> 12907</td>      <th>  AIC:               </th> <td>1.394e+04</td>\n",
              "</tr>\n",
              "<tr>\n",
              "  <th>Df Residuals:</th>          <td> 12905</td>      <th>  BIC:               </th> <td>1.396e+04</td>\n",
              "</tr>\n",
              "<tr>\n",
              "  <th>Df Model:</th>              <td>     1</td>      <th>                     </th>     <td> </td>    \n",
              "</tr>\n",
              "<tr>\n",
              "  <th>Covariance Type:</th>         <td>HC1</td>       <th>                     </th>     <td> </td>    \n",
              "</tr>\n",
              "</table>\n",
              "<table class=\"simpletable\">\n",
              "<tr>\n",
              "    <td></td>       <th>coef</th>     <th>std err</th>      <th>z</th>      <th>P>|z|</th>  <th>[0.025</th>    <th>0.975]</th>  \n",
              "</tr>\n",
              "<tr>\n",
              "  <th>const</th> <td>    0.4798</td> <td>    0.006</td> <td>   76.111</td> <td> 0.000</td> <td>    0.467</td> <td>    0.492</td>\n",
              "</tr>\n",
              "<tr>\n",
              "  <th>x1</th>    <td>   -0.3681</td> <td>    0.007</td> <td>  -49.761</td> <td> 0.000</td> <td>   -0.383</td> <td>   -0.354</td>\n",
              "</tr>\n",
              "</table>\n",
              "<table class=\"simpletable\">\n",
              "<tr>\n",
              "  <th>Omnibus:</th>       <td>1655.598</td> <th>  Durbin-Watson:     </th> <td>   1.990</td> \n",
              "</tr>\n",
              "<tr>\n",
              "  <th>Prob(Omnibus):</th>  <td> 0.000</td>  <th>  Jarque-Bera (JB):  </th> <td>1148.663</td> \n",
              "</tr>\n",
              "<tr>\n",
              "  <th>Skew:</th>           <td> 0.621</td>  <th>  Prob(JB):          </th> <td>3.72e-250</td>\n",
              "</tr>\n",
              "<tr>\n",
              "  <th>Kurtosis:</th>       <td> 2.230</td>  <th>  Cond. No.          </th> <td>    2.65</td> \n",
              "</tr>\n",
              "</table><br/><br/>Notes:<br/>[1] Standard Errors are heteroscedasticity robust (HC1)"
            ],
            "text/latex": "\\begin{center}\n\\begin{tabular}{lclc}\n\\toprule\n\\textbf{Dep. Variable:}    &        y         & \\textbf{  R-squared:         } &     0.164   \\\\\n\\textbf{Model:}            &       OLS        & \\textbf{  Adj. R-squared:    } &     0.164   \\\\\n\\textbf{Method:}           &  Least Squares   & \\textbf{  F-statistic:       } &     2476.   \\\\\n\\textbf{Date:}             & Sun, 08 Jun 2025 & \\textbf{  Prob (F-statistic):} &     0.00    \\\\\n\\textbf{Time:}             &     01:39:01     & \\textbf{  Log-Likelihood:    } &   -6969.7   \\\\\n\\textbf{No. Observations:} &       12907      & \\textbf{  AIC:               } & 1.394e+04   \\\\\n\\textbf{Df Residuals:}     &       12905      & \\textbf{  BIC:               } & 1.396e+04   \\\\\n\\textbf{Df Model:}         &           1      & \\textbf{                     } &             \\\\\n\\textbf{Covariance Type:}  &       HC1        & \\textbf{                     } &             \\\\\n\\bottomrule\n\\end{tabular}\n\\begin{tabular}{lcccccc}\n               & \\textbf{coef} & \\textbf{std err} & \\textbf{z} & \\textbf{P$> |$z$|$} & \\textbf{[0.025} & \\textbf{0.975]}  \\\\\n\\midrule\n\\textbf{const} &       0.4798  &        0.006     &    76.111  &         0.000        &        0.467    &        0.492     \\\\\n\\textbf{x1}    &      -0.3681  &        0.007     &   -49.761  &         0.000        &       -0.383    &       -0.354     \\\\\n\\bottomrule\n\\end{tabular}\n\\begin{tabular}{lclc}\n\\textbf{Omnibus:}       & 1655.598 & \\textbf{  Durbin-Watson:     } &     1.990  \\\\\n\\textbf{Prob(Omnibus):} &   0.000  & \\textbf{  Jarque-Bera (JB):  } &  1148.663  \\\\\n\\textbf{Skew:}          &   0.621  & \\textbf{  Prob(JB):          } & 3.72e-250  \\\\\n\\textbf{Kurtosis:}      &   2.230  & \\textbf{  Cond. No.          } &      2.65  \\\\\n\\bottomrule\n\\end{tabular}\n%\\caption{OLS Regression Results}\n\\end{center}\n\nNotes: \\newline\n [1] Standard Errors are heteroscedasticity robust (HC1)"
          },
          "metadata": {},
          "execution_count": 16
        }
      ],
      "source": [
        "# simple two means estimate which would be wrong unless an randomized trial\n",
        "OLS(y, np.hstack([np.ones((D.shape[0], 1)), D.reshape(-1, 1)])).fit(cov_type='HC1').summary()"
      ]
    },
    {
      "cell_type": "markdown",
      "metadata": {
        "id": "pHmIX_Ft2_55"
      },
      "source": [
        "# Nuisance Cross-Fitted Estimation and Prediction"
      ]
    },
    {
      "cell_type": "markdown",
      "metadata": {
        "id": "tr-8lvK22_55"
      },
      "source": [
        "We will estimate regression models for each of the nuisance functions that arise in CATE learning approaches. The five models correspond to the following five predictive problems:\n",
        "\\begin{align}\n",
        "\\text{model_y} ~\\rightarrow~& q(x) := E[Y\\mid X=x]\\\\\n",
        "\\text{model_t} ~\\rightarrow~& p(x) := E[D\\mid X=x] = \\Pr(D=1\\mid X=x)\\\\\n",
        "\\text{model_reg_zero} ~\\rightarrow~& g_0(x) := E[Y\\mid D=0, X=x]\\\\\n",
        "\\text{model_reg_one} ~\\rightarrow~& g_1(x) := E[Y\\mid D=1, X=x]\\\\\n",
        "\\end{align}\n",
        "We will use gradient boosting regression with early stopping for each of these models."
      ]
    },
    {
      "cell_type": "markdown",
      "metadata": {
        "id": "YKEollbs2_55"
      },
      "source": [
        "For each of the nuisance models we perform cross-fitting to get out-of-fold predictions from each of these nuisance models. At the end of this process, we will have for each sample $i$, the following out-of-fold nuisance values:\n",
        "\\begin{align}\n",
        "\\text{reg_preds_t} \\rightarrow~& \\hat{g}_0(X_i) (1 - D_i) + \\hat{g}_1(X_i) D_i &\n",
        "\\text{reg_one_preds_t} \\rightarrow~& \\hat{g}_1(X_i) &\n",
        "\\text{reg_zero_preds_t} \\rightarrow~& \\hat{g}_0(X_i)\\\\\n",
        "\\text{res_preds} \\rightarrow~& \\hat{q}(X_i) &\n",
        "\\text{prop_preds} \\rightarrow~& \\hat{p}(X_i)\n",
        "\\end{align}"
      ]
    },
    {
      "cell_type": "markdown",
      "source": [
        "このモデルは「XGBoost」という機械学習の仕組みを使っている。\n",
        "目的変数が数値なら回帰モデル、二値なら分類モデルを自動で選ぶ。\n",
        "分類モデルはクラス1の確率を返すように調整している。"
      ],
      "metadata": {
        "id": "7Ktl9xr0yZ0Q"
      }
    },
    {
      "cell_type": "code",
      "execution_count": 17,
      "metadata": {
        "id": "3rSVD8gO2_56"
      },
      "outputs": [],
      "source": [
        "from myxgb import xgb_reg, xgb_clf, RegWrapper\n",
        "\n",
        "\n",
        "def auto_reg():\n",
        "    return xgb_reg(random_seed)\n",
        "\n",
        "\n",
        "# Disclaimer: The remainder of the code assumes that the `auto_clf` model returns\n",
        "# the probability of class 1, when one calls auto_clf().predict(X)\n",
        "# and not the 0/1 classification. This is what the RegWrapper(xgb_clf()) class does.\n",
        "def auto_clf():\n",
        "    return RegWrapper(xgb_clf(random_seed))\n",
        "\n",
        "\n",
        "modely = auto_clf if binary_y else auto_reg"
      ]
    },
    {
      "cell_type": "markdown",
      "source": [
        "データをグループに分けて、\n",
        "処置を受けた人と受けてない人で別々にモデルを作る。\n",
        "それぞれのグループのモデルで予測をして、全員分の予測を集める。\n",
        "さらに、目的の値と処置の確率を予測するモデルも作っている。"
      ],
      "metadata": {
        "id": "G1OJQgEqyvpb"
      }
    },
    {
      "cell_type": "code",
      "execution_count": 18,
      "metadata": {
        "id": "GHIzWx_D2_56"
      },
      "outputs": [],
      "source": [
        "if cfit:\n",
        "    cv = StratifiedKFold(n_splits=n_splits, shuffle=True, random_state=random_seed)\n",
        "    stratification_label = 2 * D + y if binary_y else D\n",
        "    splits = list(cv.split(X, stratification_label))\n",
        "else:\n",
        "    splits = [(np.arange(X.shape[0]), np.arange(X.shape[0]))]\n",
        "\n",
        "n = X.shape[0]\n",
        "reg_preds_t = np.zeros(n)\n",
        "reg_zero_preds_t = np.zeros(n)\n",
        "reg_one_preds_t = np.zeros(n)\n",
        "\n",
        "for train, test in splits:\n",
        "    reg_zero = modely().fit(X.iloc[train][D[train] == 0], y[train][D[train] == 0])\n",
        "    reg_one = modely().fit(X.iloc[train][D[train] == 1], y[train][D[train] == 1])\n",
        "    reg_zero_preds_t[test] = reg_zero.predict(X.iloc[test])\n",
        "    reg_one_preds_t[test] = reg_one.predict(X.iloc[test])\n",
        "    reg_preds_t[test] = reg_zero_preds_t[test] * (1 - D[test]) + reg_one_preds_t[test] * D[test]\n",
        "\n",
        "res_preds = cross_val_predict(modely(), X, y, cv=splits)\n",
        "prop_preds = cross_val_predict(auto_clf(), X, D, cv=splits)"
      ]
    },
    {
      "cell_type": "markdown",
      "metadata": {
        "id": "5SnpS8QS3bMz"
      },
      "source": [
        "# Evaluating Nuisance Model Performance\n",
        "\n",
        "We now also evaluate the performance of the selected models in terms of R^2"
      ]
    },
    {
      "cell_type": "code",
      "execution_count": 19,
      "metadata": {
        "id": "IYqGlo-Y3XRH"
      },
      "outputs": [],
      "source": [
        "def r2score(y, ypred):\n",
        "    return 1 - np.mean((y - ypred)**2) / np.var(y)"
      ]
    },
    {
      "cell_type": "code",
      "execution_count": 20,
      "metadata": {
        "id": "NSi-SFXa3Vk3",
        "colab": {
          "base_uri": "https://localhost:8080/"
        },
        "outputId": "d02d3d46-2b00-4366-ccbe-4948dd4b16fa"
      },
      "outputs": [
        {
          "output_type": "stream",
          "name": "stdout",
          "text": [
            "R^2 of model for (y ~ X): 0.0458\n",
            "R^2 of model for (D ~ X): -0.0002\n",
            "R^2 of model for (y ~ X | D==0): 0.0690\n",
            "R^2 of model for (y ~ X | D==1): 0.0375\n",
            "R^2 of model for (y ~ D, X): 0.2140\n"
          ]
        }
      ],
      "source": [
        "print(f\"R^2 of model for (y ~ X): {r2score(y, res_preds):.4f}\")\n",
        "print(f\"R^2 of model for (D ~ X): {r2score(D, prop_preds):.4f}\")\n",
        "print(f\"R^2 of model for (y ~ X | D==0): {r2score(y[D==0], reg_zero_preds_t[D==0]):.4f}\")\n",
        "print(f\"R^2 of model for (y ~ X | D==1): {r2score(y[D==1], reg_one_preds_t[D==1]):.4f}\")\n",
        "print(f\"R^2 of model for (y ~ D, X): {r2score(y, reg_preds_t):.4f}\")"
      ]
    },
    {
      "cell_type": "markdown",
      "metadata": {
        "id": "2EytRrmS2_56"
      },
      "source": [
        "# Doubly-Robust ATE Estimation"
      ]
    },
    {
      "cell_type": "markdown",
      "metadata": {
        "id": "XGDHhMSH2_56"
      },
      "source": [
        "Using the doubly robust method. In particular, we construct the doubly robust variables\n",
        "\\begin{align}\n",
        "Y_i^{DR}(\\hat{g},\\hat{p}) := \\hat{g}_1(X_i) - \\hat{g}_0(X_i) + (Y_i - \\hat{g}_{D_i}(X_i))\\frac{D_i - \\hat{p}(X_i)}{\\hat{p}(X_i) (1-\\hat{p}(X_i))}\n",
        "\\end{align}\n",
        "and then we estimate:\n",
        "\\begin{align}\n",
        "ATE = E_n\\left[Y^{DR}(\\hat{g},\\hat{p})\\right]\n",
        "\\end{align}\n",
        "This should be more efficient in the worst-case and should be returning a consistent estimate of the ATE even beyond RCTs and will also correctly account for any imbalances or violations of the randomization assumption in an RCT."
      ]
    },
    {
      "cell_type": "markdown",
      "source": [
        "ダブルロバスト推定で処置効果の予測値を計算し、\n",
        "その平均をOLSで推定し、これはATEを意味する、そして信頼区間などの統計情報を得ている。"
      ],
      "metadata": {
        "id": "0iNw0q6Q0oh7"
      }
    },
    {
      "cell_type": "code",
      "execution_count": 21,
      "metadata": {
        "id": "syeQPPmL2_56",
        "colab": {
          "base_uri": "https://localhost:8080/",
          "height": 423
        },
        "outputId": "2fa40157-de53-4f87-8ad6-fcb068498f4d"
      },
      "outputs": [
        {
          "output_type": "execute_result",
          "data": {
            "text/plain": [
              "<class 'statsmodels.iolib.summary.Summary'>\n",
              "\"\"\"\n",
              "                            OLS Regression Results                            \n",
              "==============================================================================\n",
              "Dep. Variable:                      y   R-squared:                       0.000\n",
              "Model:                            OLS   Adj. R-squared:                  0.000\n",
              "Method:                 Least Squares   F-statistic:                       nan\n",
              "Date:                Sun, 08 Jun 2025   Prob (F-statistic):                nan\n",
              "Time:                        01:39:28   Log-Likelihood:                -15715.\n",
              "No. Observations:               12907   AIC:                         3.143e+04\n",
              "Df Residuals:                   12906   BIC:                         3.144e+04\n",
              "Df Model:                           0                                         \n",
              "Covariance Type:                  HC1                                         \n",
              "==============================================================================\n",
              "                 coef    std err          z      P>|z|      [0.025      0.975]\n",
              "------------------------------------------------------------------------------\n",
              "const         -0.3660      0.007    -50.859      0.000      -0.380      -0.352\n",
              "==============================================================================\n",
              "Omnibus:                     1481.762   Durbin-Watson:                   1.987\n",
              "Prob(Omnibus):                  0.000   Jarque-Bera (JB):              677.411\n",
              "Skew:                           0.385   Prob(JB):                    7.98e-148\n",
              "Kurtosis:                       2.183   Cond. No.                         1.00\n",
              "==============================================================================\n",
              "\n",
              "Notes:\n",
              "[1] Standard Errors are heteroscedasticity robust (HC1)\n",
              "\"\"\""
            ],
            "text/html": [
              "<table class=\"simpletable\">\n",
              "<caption>OLS Regression Results</caption>\n",
              "<tr>\n",
              "  <th>Dep. Variable:</th>            <td>y</td>        <th>  R-squared:         </th> <td>   0.000</td> \n",
              "</tr>\n",
              "<tr>\n",
              "  <th>Model:</th>                   <td>OLS</td>       <th>  Adj. R-squared:    </th> <td>   0.000</td> \n",
              "</tr>\n",
              "<tr>\n",
              "  <th>Method:</th>             <td>Least Squares</td>  <th>  F-statistic:       </th> <td>     nan</td> \n",
              "</tr>\n",
              "<tr>\n",
              "  <th>Date:</th>             <td>Sun, 08 Jun 2025</td> <th>  Prob (F-statistic):</th>  <td>   nan</td>  \n",
              "</tr>\n",
              "<tr>\n",
              "  <th>Time:</th>                 <td>01:39:28</td>     <th>  Log-Likelihood:    </th> <td> -15715.</td> \n",
              "</tr>\n",
              "<tr>\n",
              "  <th>No. Observations:</th>      <td> 12907</td>      <th>  AIC:               </th> <td>3.143e+04</td>\n",
              "</tr>\n",
              "<tr>\n",
              "  <th>Df Residuals:</th>          <td> 12906</td>      <th>  BIC:               </th> <td>3.144e+04</td>\n",
              "</tr>\n",
              "<tr>\n",
              "  <th>Df Model:</th>              <td>     0</td>      <th>                     </th>     <td> </td>    \n",
              "</tr>\n",
              "<tr>\n",
              "  <th>Covariance Type:</th>         <td>HC1</td>       <th>                     </th>     <td> </td>    \n",
              "</tr>\n",
              "</table>\n",
              "<table class=\"simpletable\">\n",
              "<tr>\n",
              "    <td></td>       <th>coef</th>     <th>std err</th>      <th>z</th>      <th>P>|z|</th>  <th>[0.025</th>    <th>0.975]</th>  \n",
              "</tr>\n",
              "<tr>\n",
              "  <th>const</th> <td>   -0.3660</td> <td>    0.007</td> <td>  -50.859</td> <td> 0.000</td> <td>   -0.380</td> <td>   -0.352</td>\n",
              "</tr>\n",
              "</table>\n",
              "<table class=\"simpletable\">\n",
              "<tr>\n",
              "  <th>Omnibus:</th>       <td>1481.762</td> <th>  Durbin-Watson:     </th> <td>   1.987</td> \n",
              "</tr>\n",
              "<tr>\n",
              "  <th>Prob(Omnibus):</th>  <td> 0.000</td>  <th>  Jarque-Bera (JB):  </th> <td> 677.411</td> \n",
              "</tr>\n",
              "<tr>\n",
              "  <th>Skew:</th>           <td> 0.385</td>  <th>  Prob(JB):          </th> <td>7.98e-148</td>\n",
              "</tr>\n",
              "<tr>\n",
              "  <th>Kurtosis:</th>       <td> 2.183</td>  <th>  Cond. No.          </th> <td>    1.00</td> \n",
              "</tr>\n",
              "</table><br/><br/>Notes:<br/>[1] Standard Errors are heteroscedasticity robust (HC1)"
            ],
            "text/latex": "\\begin{center}\n\\begin{tabular}{lclc}\n\\toprule\n\\textbf{Dep. Variable:}    &        y         & \\textbf{  R-squared:         } &     0.000   \\\\\n\\textbf{Model:}            &       OLS        & \\textbf{  Adj. R-squared:    } &     0.000   \\\\\n\\textbf{Method:}           &  Least Squares   & \\textbf{  F-statistic:       } &       nan   \\\\\n\\textbf{Date:}             & Sun, 08 Jun 2025 & \\textbf{  Prob (F-statistic):} &      nan    \\\\\n\\textbf{Time:}             &     01:39:28     & \\textbf{  Log-Likelihood:    } &   -15715.   \\\\\n\\textbf{No. Observations:} &       12907      & \\textbf{  AIC:               } & 3.143e+04   \\\\\n\\textbf{Df Residuals:}     &       12906      & \\textbf{  BIC:               } & 3.144e+04   \\\\\n\\textbf{Df Model:}         &           0      & \\textbf{                     } &             \\\\\n\\textbf{Covariance Type:}  &       HC1        & \\textbf{                     } &             \\\\\n\\bottomrule\n\\end{tabular}\n\\begin{tabular}{lcccccc}\n               & \\textbf{coef} & \\textbf{std err} & \\textbf{z} & \\textbf{P$> |$z$|$} & \\textbf{[0.025} & \\textbf{0.975]}  \\\\\n\\midrule\n\\textbf{const} &      -0.3660  &        0.007     &   -50.859  &         0.000        &       -0.380    &       -0.352     \\\\\n\\bottomrule\n\\end{tabular}\n\\begin{tabular}{lclc}\n\\textbf{Omnibus:}       & 1481.762 & \\textbf{  Durbin-Watson:     } &     1.987  \\\\\n\\textbf{Prob(Omnibus):} &   0.000  & \\textbf{  Jarque-Bera (JB):  } &   677.411  \\\\\n\\textbf{Skew:}          &   0.385  & \\textbf{  Prob(JB):          } & 7.98e-148  \\\\\n\\textbf{Kurtosis:}      &   2.183  & \\textbf{  Cond. No.          } &      1.00  \\\\\n\\bottomrule\n\\end{tabular}\n%\\caption{OLS Regression Results}\n\\end{center}\n\nNotes: \\newline\n [1] Standard Errors are heteroscedasticity robust (HC1)"
          },
          "metadata": {},
          "execution_count": 21
        }
      ],
      "source": [
        "dr_preds = reg_one_preds_t - reg_zero_preds_t\n",
        "dr_preds += (y - reg_preds_t) * (D - prop_preds) / np.clip(prop_preds * (1 - prop_preds), cov_clip, np.inf)\n",
        "\n",
        "OLS(dr_preds, np.ones((len(dr_preds), 1))).fit(cov_type='HC1').summary()"
      ]
    },
    {
      "cell_type": "markdown",
      "metadata": {
        "id": "Ec3Ul72W2_56"
      },
      "source": [
        "# Best Linear CATE Predictor"
      ]
    },
    {
      "cell_type": "markdown",
      "metadata": {
        "id": "Jd-GJWER2_56"
      },
      "source": [
        "We can also use the doubly robust variables as pseudo-outcomes in an OLS regression, so as to estimate the best linear approximation of the true CATE. In an RCT, these should be similar to the coefficients recovered in a plain interactive OLS regression."
      ]
    },
    {
      "cell_type": "markdown",
      "source": [
        "dr_preds の値を説明変数で線形的に説明する最適な係数を求めている。\n",
        "これは「処置効果のベストな線形近似（BLP）」を探している。\n",
        "係数は、処置効果が説明変数にどう依存しているかの形を示します。"
      ],
      "metadata": {
        "id": "2Hnw_Dhb16XT"
      }
    },
    {
      "cell_type": "code",
      "execution_count": 22,
      "metadata": {
        "id": "5MC7zEvX2_56",
        "colab": {
          "base_uri": "https://localhost:8080/",
          "height": 1000
        },
        "outputId": "e9209ef3-ef73-445b-8c6c-522f9e49ff89"
      },
      "outputs": [
        {
          "output_type": "execute_result",
          "data": {
            "text/plain": [
              "<class 'statsmodels.iolib.summary.Summary'>\n",
              "\"\"\"\n",
              "                            OLS Regression Results                            \n",
              "==============================================================================\n",
              "Dep. Variable:                      y   R-squared:                       0.015\n",
              "Model:                            OLS   Adj. R-squared:                  0.012\n",
              "Method:                 Least Squares   F-statistic:                     5.090\n",
              "Date:                Sun, 08 Jun 2025   Prob (F-statistic):           1.29e-24\n",
              "Time:                        01:39:32   Log-Likelihood:                -15618.\n",
              "No. Observations:               12907   AIC:                         3.132e+04\n",
              "Df Residuals:                   12864   BIC:                         3.164e+04\n",
              "Df Model:                          42                                         \n",
              "Covariance Type:                  HC1                                         \n",
              "================================================================================\n",
              "                   coef    std err          z      P>|z|      [0.025      0.975]\n",
              "--------------------------------------------------------------------------------\n",
              "hrs1            -0.0018      0.001     -2.679      0.007      -0.003      -0.000\n",
              "income          -0.0110      0.006     -1.965      0.049      -0.022   -3.01e-05\n",
              "rincome         -0.0047      0.004     -1.256      0.209      -0.012       0.003\n",
              "age              0.0005      0.001      0.600      0.549      -0.001       0.002\n",
              "polviews        -0.0217      0.006     -3.630      0.000      -0.033      -0.010\n",
              "educ             0.0003      0.006      0.051      0.959      -0.011       0.011\n",
              "earnrs           0.0067      0.012      0.546      0.585      -0.017       0.031\n",
              "sibs             0.0021      0.003      0.766      0.444      -0.003       0.007\n",
              "childs           0.0050      0.007      0.724      0.469      -0.008       0.018\n",
              "occ80        -5.333e-05   4.21e-05     -1.266      0.205      -0.000    2.92e-05\n",
              "prestg80        -0.0011      0.001     -1.521      0.128      -0.003       0.000\n",
              "indus80       6.473e-05   3.02e-05      2.145      0.032    5.58e-06       0.000\n",
              "res16            0.0009      0.005      0.176      0.861      -0.009       0.010\n",
              "reg16           -0.0024      0.003     -0.813      0.416      -0.008       0.003\n",
              "family16         0.0076      0.004      1.714      0.087      -0.001       0.016\n",
              "parborn          0.0028      0.005      0.571      0.568      -0.007       0.013\n",
              "maeduc           0.0062      0.003      2.407      0.016       0.001       0.011\n",
              "degree           0.0312      0.013      2.391      0.017       0.006       0.057\n",
              "hompop          -0.1143      0.061     -1.879      0.060      -0.234       0.005\n",
              "babies           0.1233      0.062      1.993      0.046       0.002       0.245\n",
              "preteen          0.1086      0.061      1.766      0.077      -0.012       0.229\n",
              "teens            0.1383      0.062      2.238      0.025       0.017       0.260\n",
              "adults           0.1261      0.062      2.034      0.042       0.005       0.248\n",
              "partyid_1.0     -0.0054      0.024     -0.229      0.819      -0.052       0.041\n",
              "partyid_2.0      0.0256      0.027      0.944      0.345      -0.028       0.079\n",
              "partyid_3.0     -0.0239      0.028     -0.868      0.386      -0.078       0.030\n",
              "partyid_4.0     -0.0808      0.031     -2.583      0.010      -0.142      -0.019\n",
              "partyid_5.0     -0.0664      0.027     -2.435      0.015      -0.120      -0.013\n",
              "partyid_6.0     -0.0906      0.033     -2.749      0.006      -0.155      -0.026\n",
              "partyid_7.0      0.0403      0.069      0.588      0.557      -0.094       0.175\n",
              "wrkstat_2.0      0.0069      0.026      0.261      0.794      -0.045       0.058\n",
              "wrkslf_2.0       0.0166      0.023      0.732      0.464      -0.028       0.061\n",
              "marital_2.0      0.0417      0.046      0.903      0.366      -0.049       0.132\n",
              "marital_3.0      0.0354      0.023      1.540      0.124      -0.010       0.080\n",
              "marital_4.0      0.0470      0.042      1.118      0.263      -0.035       0.129\n",
              "marital_5.0      0.0517      0.022      2.308      0.021       0.008       0.096\n",
              "race_2           0.0160      0.023      0.690      0.490      -0.030       0.062\n",
              "race_3           0.0355      0.033      1.086      0.278      -0.029       0.100\n",
              "mobile16_2.0    -0.0033      0.018     -0.179      0.858      -0.039       0.033\n",
              "mobile16_3.0     0.0206      0.018      1.137      0.256      -0.015       0.056\n",
              "sex_2           -0.0662      0.016     -4.124      0.000      -0.098      -0.035\n",
              "born_2.0        -0.0113      0.042     -0.270      0.787      -0.093       0.071\n",
              "const           -0.3660      0.007    -51.157      0.000      -0.380      -0.352\n",
              "==============================================================================\n",
              "Omnibus:                      833.669   Durbin-Watson:                   1.990\n",
              "Prob(Omnibus):                  0.000   Jarque-Bera (JB):              605.788\n",
              "Skew:                           0.430   Prob(JB):                    2.85e-132\n",
              "Kurtosis:                       2.377   Cond. No.                     6.04e+03\n",
              "==============================================================================\n",
              "\n",
              "Notes:\n",
              "[1] Standard Errors are heteroscedasticity robust (HC1)\n",
              "[2] The condition number is large, 6.04e+03. This might indicate that there are\n",
              "strong multicollinearity or other numerical problems.\n",
              "\"\"\""
            ],
            "text/html": [
              "<table class=\"simpletable\">\n",
              "<caption>OLS Regression Results</caption>\n",
              "<tr>\n",
              "  <th>Dep. Variable:</th>            <td>y</td>        <th>  R-squared:         </th> <td>   0.015</td> \n",
              "</tr>\n",
              "<tr>\n",
              "  <th>Model:</th>                   <td>OLS</td>       <th>  Adj. R-squared:    </th> <td>   0.012</td> \n",
              "</tr>\n",
              "<tr>\n",
              "  <th>Method:</th>             <td>Least Squares</td>  <th>  F-statistic:       </th> <td>   5.090</td> \n",
              "</tr>\n",
              "<tr>\n",
              "  <th>Date:</th>             <td>Sun, 08 Jun 2025</td> <th>  Prob (F-statistic):</th> <td>1.29e-24</td> \n",
              "</tr>\n",
              "<tr>\n",
              "  <th>Time:</th>                 <td>01:39:32</td>     <th>  Log-Likelihood:    </th> <td> -15618.</td> \n",
              "</tr>\n",
              "<tr>\n",
              "  <th>No. Observations:</th>      <td> 12907</td>      <th>  AIC:               </th> <td>3.132e+04</td>\n",
              "</tr>\n",
              "<tr>\n",
              "  <th>Df Residuals:</th>          <td> 12864</td>      <th>  BIC:               </th> <td>3.164e+04</td>\n",
              "</tr>\n",
              "<tr>\n",
              "  <th>Df Model:</th>              <td>    42</td>      <th>                     </th>     <td> </td>    \n",
              "</tr>\n",
              "<tr>\n",
              "  <th>Covariance Type:</th>         <td>HC1</td>       <th>                     </th>     <td> </td>    \n",
              "</tr>\n",
              "</table>\n",
              "<table class=\"simpletable\">\n",
              "<tr>\n",
              "        <td></td>          <th>coef</th>     <th>std err</th>      <th>z</th>      <th>P>|z|</th>  <th>[0.025</th>    <th>0.975]</th>  \n",
              "</tr>\n",
              "<tr>\n",
              "  <th>hrs1</th>         <td>   -0.0018</td> <td>    0.001</td> <td>   -2.679</td> <td> 0.007</td> <td>   -0.003</td> <td>   -0.000</td>\n",
              "</tr>\n",
              "<tr>\n",
              "  <th>income</th>       <td>   -0.0110</td> <td>    0.006</td> <td>   -1.965</td> <td> 0.049</td> <td>   -0.022</td> <td>-3.01e-05</td>\n",
              "</tr>\n",
              "<tr>\n",
              "  <th>rincome</th>      <td>   -0.0047</td> <td>    0.004</td> <td>   -1.256</td> <td> 0.209</td> <td>   -0.012</td> <td>    0.003</td>\n",
              "</tr>\n",
              "<tr>\n",
              "  <th>age</th>          <td>    0.0005</td> <td>    0.001</td> <td>    0.600</td> <td> 0.549</td> <td>   -0.001</td> <td>    0.002</td>\n",
              "</tr>\n",
              "<tr>\n",
              "  <th>polviews</th>     <td>   -0.0217</td> <td>    0.006</td> <td>   -3.630</td> <td> 0.000</td> <td>   -0.033</td> <td>   -0.010</td>\n",
              "</tr>\n",
              "<tr>\n",
              "  <th>educ</th>         <td>    0.0003</td> <td>    0.006</td> <td>    0.051</td> <td> 0.959</td> <td>   -0.011</td> <td>    0.011</td>\n",
              "</tr>\n",
              "<tr>\n",
              "  <th>earnrs</th>       <td>    0.0067</td> <td>    0.012</td> <td>    0.546</td> <td> 0.585</td> <td>   -0.017</td> <td>    0.031</td>\n",
              "</tr>\n",
              "<tr>\n",
              "  <th>sibs</th>         <td>    0.0021</td> <td>    0.003</td> <td>    0.766</td> <td> 0.444</td> <td>   -0.003</td> <td>    0.007</td>\n",
              "</tr>\n",
              "<tr>\n",
              "  <th>childs</th>       <td>    0.0050</td> <td>    0.007</td> <td>    0.724</td> <td> 0.469</td> <td>   -0.008</td> <td>    0.018</td>\n",
              "</tr>\n",
              "<tr>\n",
              "  <th>occ80</th>        <td>-5.333e-05</td> <td> 4.21e-05</td> <td>   -1.266</td> <td> 0.205</td> <td>   -0.000</td> <td> 2.92e-05</td>\n",
              "</tr>\n",
              "<tr>\n",
              "  <th>prestg80</th>     <td>   -0.0011</td> <td>    0.001</td> <td>   -1.521</td> <td> 0.128</td> <td>   -0.003</td> <td>    0.000</td>\n",
              "</tr>\n",
              "<tr>\n",
              "  <th>indus80</th>      <td> 6.473e-05</td> <td> 3.02e-05</td> <td>    2.145</td> <td> 0.032</td> <td> 5.58e-06</td> <td>    0.000</td>\n",
              "</tr>\n",
              "<tr>\n",
              "  <th>res16</th>        <td>    0.0009</td> <td>    0.005</td> <td>    0.176</td> <td> 0.861</td> <td>   -0.009</td> <td>    0.010</td>\n",
              "</tr>\n",
              "<tr>\n",
              "  <th>reg16</th>        <td>   -0.0024</td> <td>    0.003</td> <td>   -0.813</td> <td> 0.416</td> <td>   -0.008</td> <td>    0.003</td>\n",
              "</tr>\n",
              "<tr>\n",
              "  <th>family16</th>     <td>    0.0076</td> <td>    0.004</td> <td>    1.714</td> <td> 0.087</td> <td>   -0.001</td> <td>    0.016</td>\n",
              "</tr>\n",
              "<tr>\n",
              "  <th>parborn</th>      <td>    0.0028</td> <td>    0.005</td> <td>    0.571</td> <td> 0.568</td> <td>   -0.007</td> <td>    0.013</td>\n",
              "</tr>\n",
              "<tr>\n",
              "  <th>maeduc</th>       <td>    0.0062</td> <td>    0.003</td> <td>    2.407</td> <td> 0.016</td> <td>    0.001</td> <td>    0.011</td>\n",
              "</tr>\n",
              "<tr>\n",
              "  <th>degree</th>       <td>    0.0312</td> <td>    0.013</td> <td>    2.391</td> <td> 0.017</td> <td>    0.006</td> <td>    0.057</td>\n",
              "</tr>\n",
              "<tr>\n",
              "  <th>hompop</th>       <td>   -0.1143</td> <td>    0.061</td> <td>   -1.879</td> <td> 0.060</td> <td>   -0.234</td> <td>    0.005</td>\n",
              "</tr>\n",
              "<tr>\n",
              "  <th>babies</th>       <td>    0.1233</td> <td>    0.062</td> <td>    1.993</td> <td> 0.046</td> <td>    0.002</td> <td>    0.245</td>\n",
              "</tr>\n",
              "<tr>\n",
              "  <th>preteen</th>      <td>    0.1086</td> <td>    0.061</td> <td>    1.766</td> <td> 0.077</td> <td>   -0.012</td> <td>    0.229</td>\n",
              "</tr>\n",
              "<tr>\n",
              "  <th>teens</th>        <td>    0.1383</td> <td>    0.062</td> <td>    2.238</td> <td> 0.025</td> <td>    0.017</td> <td>    0.260</td>\n",
              "</tr>\n",
              "<tr>\n",
              "  <th>adults</th>       <td>    0.1261</td> <td>    0.062</td> <td>    2.034</td> <td> 0.042</td> <td>    0.005</td> <td>    0.248</td>\n",
              "</tr>\n",
              "<tr>\n",
              "  <th>partyid_1.0</th>  <td>   -0.0054</td> <td>    0.024</td> <td>   -0.229</td> <td> 0.819</td> <td>   -0.052</td> <td>    0.041</td>\n",
              "</tr>\n",
              "<tr>\n",
              "  <th>partyid_2.0</th>  <td>    0.0256</td> <td>    0.027</td> <td>    0.944</td> <td> 0.345</td> <td>   -0.028</td> <td>    0.079</td>\n",
              "</tr>\n",
              "<tr>\n",
              "  <th>partyid_3.0</th>  <td>   -0.0239</td> <td>    0.028</td> <td>   -0.868</td> <td> 0.386</td> <td>   -0.078</td> <td>    0.030</td>\n",
              "</tr>\n",
              "<tr>\n",
              "  <th>partyid_4.0</th>  <td>   -0.0808</td> <td>    0.031</td> <td>   -2.583</td> <td> 0.010</td> <td>   -0.142</td> <td>   -0.019</td>\n",
              "</tr>\n",
              "<tr>\n",
              "  <th>partyid_5.0</th>  <td>   -0.0664</td> <td>    0.027</td> <td>   -2.435</td> <td> 0.015</td> <td>   -0.120</td> <td>   -0.013</td>\n",
              "</tr>\n",
              "<tr>\n",
              "  <th>partyid_6.0</th>  <td>   -0.0906</td> <td>    0.033</td> <td>   -2.749</td> <td> 0.006</td> <td>   -0.155</td> <td>   -0.026</td>\n",
              "</tr>\n",
              "<tr>\n",
              "  <th>partyid_7.0</th>  <td>    0.0403</td> <td>    0.069</td> <td>    0.588</td> <td> 0.557</td> <td>   -0.094</td> <td>    0.175</td>\n",
              "</tr>\n",
              "<tr>\n",
              "  <th>wrkstat_2.0</th>  <td>    0.0069</td> <td>    0.026</td> <td>    0.261</td> <td> 0.794</td> <td>   -0.045</td> <td>    0.058</td>\n",
              "</tr>\n",
              "<tr>\n",
              "  <th>wrkslf_2.0</th>   <td>    0.0166</td> <td>    0.023</td> <td>    0.732</td> <td> 0.464</td> <td>   -0.028</td> <td>    0.061</td>\n",
              "</tr>\n",
              "<tr>\n",
              "  <th>marital_2.0</th>  <td>    0.0417</td> <td>    0.046</td> <td>    0.903</td> <td> 0.366</td> <td>   -0.049</td> <td>    0.132</td>\n",
              "</tr>\n",
              "<tr>\n",
              "  <th>marital_3.0</th>  <td>    0.0354</td> <td>    0.023</td> <td>    1.540</td> <td> 0.124</td> <td>   -0.010</td> <td>    0.080</td>\n",
              "</tr>\n",
              "<tr>\n",
              "  <th>marital_4.0</th>  <td>    0.0470</td> <td>    0.042</td> <td>    1.118</td> <td> 0.263</td> <td>   -0.035</td> <td>    0.129</td>\n",
              "</tr>\n",
              "<tr>\n",
              "  <th>marital_5.0</th>  <td>    0.0517</td> <td>    0.022</td> <td>    2.308</td> <td> 0.021</td> <td>    0.008</td> <td>    0.096</td>\n",
              "</tr>\n",
              "<tr>\n",
              "  <th>race_2</th>       <td>    0.0160</td> <td>    0.023</td> <td>    0.690</td> <td> 0.490</td> <td>   -0.030</td> <td>    0.062</td>\n",
              "</tr>\n",
              "<tr>\n",
              "  <th>race_3</th>       <td>    0.0355</td> <td>    0.033</td> <td>    1.086</td> <td> 0.278</td> <td>   -0.029</td> <td>    0.100</td>\n",
              "</tr>\n",
              "<tr>\n",
              "  <th>mobile16_2.0</th> <td>   -0.0033</td> <td>    0.018</td> <td>   -0.179</td> <td> 0.858</td> <td>   -0.039</td> <td>    0.033</td>\n",
              "</tr>\n",
              "<tr>\n",
              "  <th>mobile16_3.0</th> <td>    0.0206</td> <td>    0.018</td> <td>    1.137</td> <td> 0.256</td> <td>   -0.015</td> <td>    0.056</td>\n",
              "</tr>\n",
              "<tr>\n",
              "  <th>sex_2</th>        <td>   -0.0662</td> <td>    0.016</td> <td>   -4.124</td> <td> 0.000</td> <td>   -0.098</td> <td>   -0.035</td>\n",
              "</tr>\n",
              "<tr>\n",
              "  <th>born_2.0</th>     <td>   -0.0113</td> <td>    0.042</td> <td>   -0.270</td> <td> 0.787</td> <td>   -0.093</td> <td>    0.071</td>\n",
              "</tr>\n",
              "<tr>\n",
              "  <th>const</th>        <td>   -0.3660</td> <td>    0.007</td> <td>  -51.157</td> <td> 0.000</td> <td>   -0.380</td> <td>   -0.352</td>\n",
              "</tr>\n",
              "</table>\n",
              "<table class=\"simpletable\">\n",
              "<tr>\n",
              "  <th>Omnibus:</th>       <td>833.669</td> <th>  Durbin-Watson:     </th> <td>   1.990</td> \n",
              "</tr>\n",
              "<tr>\n",
              "  <th>Prob(Omnibus):</th> <td> 0.000</td>  <th>  Jarque-Bera (JB):  </th> <td> 605.788</td> \n",
              "</tr>\n",
              "<tr>\n",
              "  <th>Skew:</th>          <td> 0.430</td>  <th>  Prob(JB):          </th> <td>2.85e-132</td>\n",
              "</tr>\n",
              "<tr>\n",
              "  <th>Kurtosis:</th>      <td> 2.377</td>  <th>  Cond. No.          </th> <td>6.04e+03</td> \n",
              "</tr>\n",
              "</table><br/><br/>Notes:<br/>[1] Standard Errors are heteroscedasticity robust (HC1)<br/>[2] The condition number is large, 6.04e+03. This might indicate that there are<br/>strong multicollinearity or other numerical problems."
            ],
            "text/latex": "\\begin{center}\n\\begin{tabular}{lclc}\n\\toprule\n\\textbf{Dep. Variable:}    &        y         & \\textbf{  R-squared:         } &     0.015   \\\\\n\\textbf{Model:}            &       OLS        & \\textbf{  Adj. R-squared:    } &     0.012   \\\\\n\\textbf{Method:}           &  Least Squares   & \\textbf{  F-statistic:       } &     5.090   \\\\\n\\textbf{Date:}             & Sun, 08 Jun 2025 & \\textbf{  Prob (F-statistic):} &  1.29e-24   \\\\\n\\textbf{Time:}             &     01:39:32     & \\textbf{  Log-Likelihood:    } &   -15618.   \\\\\n\\textbf{No. Observations:} &       12907      & \\textbf{  AIC:               } & 3.132e+04   \\\\\n\\textbf{Df Residuals:}     &       12864      & \\textbf{  BIC:               } & 3.164e+04   \\\\\n\\textbf{Df Model:}         &          42      & \\textbf{                     } &             \\\\\n\\textbf{Covariance Type:}  &       HC1        & \\textbf{                     } &             \\\\\n\\bottomrule\n\\end{tabular}\n\\begin{tabular}{lcccccc}\n                       & \\textbf{coef} & \\textbf{std err} & \\textbf{z} & \\textbf{P$> |$z$|$} & \\textbf{[0.025} & \\textbf{0.975]}  \\\\\n\\midrule\n\\textbf{hrs1}          &      -0.0018  &        0.001     &    -2.679  &         0.007        &       -0.003    &       -0.000     \\\\\n\\textbf{income}        &      -0.0110  &        0.006     &    -1.965  &         0.049        &       -0.022    &    -3.01e-05     \\\\\n\\textbf{rincome}       &      -0.0047  &        0.004     &    -1.256  &         0.209        &       -0.012    &        0.003     \\\\\n\\textbf{age}           &       0.0005  &        0.001     &     0.600  &         0.549        &       -0.001    &        0.002     \\\\\n\\textbf{polviews}      &      -0.0217  &        0.006     &    -3.630  &         0.000        &       -0.033    &       -0.010     \\\\\n\\textbf{educ}          &       0.0003  &        0.006     &     0.051  &         0.959        &       -0.011    &        0.011     \\\\\n\\textbf{earnrs}        &       0.0067  &        0.012     &     0.546  &         0.585        &       -0.017    &        0.031     \\\\\n\\textbf{sibs}          &       0.0021  &        0.003     &     0.766  &         0.444        &       -0.003    &        0.007     \\\\\n\\textbf{childs}        &       0.0050  &        0.007     &     0.724  &         0.469        &       -0.008    &        0.018     \\\\\n\\textbf{occ80}         &   -5.333e-05  &     4.21e-05     &    -1.266  &         0.205        &       -0.000    &     2.92e-05     \\\\\n\\textbf{prestg80}      &      -0.0011  &        0.001     &    -1.521  &         0.128        &       -0.003    &        0.000     \\\\\n\\textbf{indus80}       &    6.473e-05  &     3.02e-05     &     2.145  &         0.032        &     5.58e-06    &        0.000     \\\\\n\\textbf{res16}         &       0.0009  &        0.005     &     0.176  &         0.861        &       -0.009    &        0.010     \\\\\n\\textbf{reg16}         &      -0.0024  &        0.003     &    -0.813  &         0.416        &       -0.008    &        0.003     \\\\\n\\textbf{family16}      &       0.0076  &        0.004     &     1.714  &         0.087        &       -0.001    &        0.016     \\\\\n\\textbf{parborn}       &       0.0028  &        0.005     &     0.571  &         0.568        &       -0.007    &        0.013     \\\\\n\\textbf{maeduc}        &       0.0062  &        0.003     &     2.407  &         0.016        &        0.001    &        0.011     \\\\\n\\textbf{degree}        &       0.0312  &        0.013     &     2.391  &         0.017        &        0.006    &        0.057     \\\\\n\\textbf{hompop}        &      -0.1143  &        0.061     &    -1.879  &         0.060        &       -0.234    &        0.005     \\\\\n\\textbf{babies}        &       0.1233  &        0.062     &     1.993  &         0.046        &        0.002    &        0.245     \\\\\n\\textbf{preteen}       &       0.1086  &        0.061     &     1.766  &         0.077        &       -0.012    &        0.229     \\\\\n\\textbf{teens}         &       0.1383  &        0.062     &     2.238  &         0.025        &        0.017    &        0.260     \\\\\n\\textbf{adults}        &       0.1261  &        0.062     &     2.034  &         0.042        &        0.005    &        0.248     \\\\\n\\textbf{partyid\\_1.0}  &      -0.0054  &        0.024     &    -0.229  &         0.819        &       -0.052    &        0.041     \\\\\n\\textbf{partyid\\_2.0}  &       0.0256  &        0.027     &     0.944  &         0.345        &       -0.028    &        0.079     \\\\\n\\textbf{partyid\\_3.0}  &      -0.0239  &        0.028     &    -0.868  &         0.386        &       -0.078    &        0.030     \\\\\n\\textbf{partyid\\_4.0}  &      -0.0808  &        0.031     &    -2.583  &         0.010        &       -0.142    &       -0.019     \\\\\n\\textbf{partyid\\_5.0}  &      -0.0664  &        0.027     &    -2.435  &         0.015        &       -0.120    &       -0.013     \\\\\n\\textbf{partyid\\_6.0}  &      -0.0906  &        0.033     &    -2.749  &         0.006        &       -0.155    &       -0.026     \\\\\n\\textbf{partyid\\_7.0}  &       0.0403  &        0.069     &     0.588  &         0.557        &       -0.094    &        0.175     \\\\\n\\textbf{wrkstat\\_2.0}  &       0.0069  &        0.026     &     0.261  &         0.794        &       -0.045    &        0.058     \\\\\n\\textbf{wrkslf\\_2.0}   &       0.0166  &        0.023     &     0.732  &         0.464        &       -0.028    &        0.061     \\\\\n\\textbf{marital\\_2.0}  &       0.0417  &        0.046     &     0.903  &         0.366        &       -0.049    &        0.132     \\\\\n\\textbf{marital\\_3.0}  &       0.0354  &        0.023     &     1.540  &         0.124        &       -0.010    &        0.080     \\\\\n\\textbf{marital\\_4.0}  &       0.0470  &        0.042     &     1.118  &         0.263        &       -0.035    &        0.129     \\\\\n\\textbf{marital\\_5.0}  &       0.0517  &        0.022     &     2.308  &         0.021        &        0.008    &        0.096     \\\\\n\\textbf{race\\_2}       &       0.0160  &        0.023     &     0.690  &         0.490        &       -0.030    &        0.062     \\\\\n\\textbf{race\\_3}       &       0.0355  &        0.033     &     1.086  &         0.278        &       -0.029    &        0.100     \\\\\n\\textbf{mobile16\\_2.0} &      -0.0033  &        0.018     &    -0.179  &         0.858        &       -0.039    &        0.033     \\\\\n\\textbf{mobile16\\_3.0} &       0.0206  &        0.018     &     1.137  &         0.256        &       -0.015    &        0.056     \\\\\n\\textbf{sex\\_2}        &      -0.0662  &        0.016     &    -4.124  &         0.000        &       -0.098    &       -0.035     \\\\\n\\textbf{born\\_2.0}     &      -0.0113  &        0.042     &    -0.270  &         0.787        &       -0.093    &        0.071     \\\\\n\\textbf{const}         &      -0.3660  &        0.007     &   -51.157  &         0.000        &       -0.380    &       -0.352     \\\\\n\\bottomrule\n\\end{tabular}\n\\begin{tabular}{lclc}\n\\textbf{Omnibus:}       & 833.669 & \\textbf{  Durbin-Watson:     } &     1.990  \\\\\n\\textbf{Prob(Omnibus):} &   0.000 & \\textbf{  Jarque-Bera (JB):  } &   605.788  \\\\\n\\textbf{Skew:}          &   0.430 & \\textbf{  Prob(JB):          } & 2.85e-132  \\\\\n\\textbf{Kurtosis:}      &   2.377 & \\textbf{  Cond. No.          } &  6.04e+03  \\\\\n\\bottomrule\n\\end{tabular}\n%\\caption{OLS Regression Results}\n\\end{center}\n\nNotes: \\newline\n [1] Standard Errors are heteroscedasticity robust (HC1) \\newline\n [2] The condition number is large, 6.04e+03. This might indicate that there are \\newline\n strong multicollinearity or other numerical problems."
          },
          "metadata": {},
          "execution_count": 22
        }
      ],
      "source": [
        "dfX = X.copy()\n",
        "dfX['const'] = 1\n",
        "lr = OLS(dr_preds, dfX).fit(cov_type='HC1')\n",
        "cov = lr.get_robustcov_results(cov_type='HC1')\n",
        "lr.summary()"
      ]
    },
    {
      "cell_type": "markdown",
      "metadata": {
        "id": "WCJu-ajr2_56"
      },
      "source": [
        "# Simultaneous (Joint) Confidence Intervals\n",
        "We can also perform joint inference on all these parameters controlling the joint probability of failure of the confidence intervals by 95%."
      ]
    },
    {
      "cell_type": "markdown",
      "source": [
        "多変量正規分布の乱数を使ってパラメータの同時ばらつきを考慮し、\n",
        "同時に95%の信頼区間を計算している。　　理解していない\n"
      ],
      "metadata": {
        "id": "tVRa_2C93Ike"
      }
    },
    {
      "cell_type": "code",
      "execution_count": 23,
      "metadata": {
        "id": "unfUkJFk2_56",
        "colab": {
          "base_uri": "https://localhost:8080/",
          "height": 1000
        },
        "outputId": "6abf592d-670b-4aa9-b26b-6d7af66b6a1b"
      },
      "outputs": [
        {
          "output_type": "execute_result",
          "data": {
            "text/plain": [
              "                  coef   std err        lb        ub statsig\n",
              "hrs1         -0.001809  0.000675 -0.003996  0.000377        \n",
              "income       -0.011030  0.005612 -0.029202  0.007142        \n",
              "rincome      -0.004747  0.003779 -0.016984  0.007491        \n",
              "age           0.000504  0.000840 -0.002215  0.003223        \n",
              "polviews     -0.021687  0.005975 -0.041034 -0.002341      **\n",
              "educ          0.000293  0.005695 -0.018146  0.018732        \n",
              "earnrs        0.006672  0.012223 -0.032905  0.046249        \n",
              "sibs          0.002066  0.002696 -0.006665  0.010797        \n",
              "childs        0.004955  0.006842 -0.017198  0.027108        \n",
              "occ80        -0.000053  0.000042 -0.000190  0.000083        \n",
              "prestg80     -0.001132  0.000744 -0.003541  0.001278        \n",
              "indus80       0.000065  0.000030 -0.000033  0.000162        \n",
              "res16         0.000861  0.004899 -0.015003  0.016725        \n",
              "reg16        -0.002369  0.002913 -0.011803  0.007064        \n",
              "family16      0.007558  0.004411 -0.006723  0.021839        \n",
              "parborn       0.002841  0.004977 -0.013274  0.018956        \n",
              "maeduc        0.006167  0.002562 -0.002127  0.014461        \n",
              "degree        0.031193  0.013048 -0.011057  0.073443        \n",
              "hompop       -0.114345  0.060869 -0.311435  0.082745        \n",
              "babies        0.123339  0.061901 -0.077092  0.323770        \n",
              "preteen       0.108575  0.061474 -0.090474  0.307625        \n",
              "teens         0.138347  0.061821 -0.061827  0.338521        \n",
              "adults        0.126069  0.061968 -0.074582  0.326720        \n",
              "partyid_1.0  -0.005427  0.023671 -0.082073  0.071219        \n",
              "partyid_2.0   0.025589  0.027103 -0.062169  0.113346        \n",
              "partyid_3.0  -0.023944  0.027598 -0.113305  0.065416        \n",
              "partyid_4.0  -0.080796  0.031276 -0.182065  0.020473        \n",
              "partyid_5.0  -0.066419  0.027279 -0.154747  0.021909        \n",
              "partyid_6.0  -0.090602  0.032962 -0.197331  0.016127        \n",
              "partyid_7.0   0.040313  0.068572 -0.181721  0.262347        \n",
              "wrkstat_2.0   0.006860  0.026236 -0.078091  0.091812        \n",
              "wrkslf_2.0    0.016569  0.022631 -0.056708  0.089846        \n",
              "marital_2.0   0.041724  0.046181 -0.107808  0.191256        \n",
              "marital_3.0   0.035404  0.022992 -0.039043  0.109851        \n",
              "marital_4.0   0.046980  0.042012 -0.089053  0.183012        \n",
              "marital_5.0   0.051652  0.022379 -0.020812  0.124115        \n",
              "race_2        0.016041  0.023237 -0.059198  0.091279        \n",
              "race_3        0.035486  0.032680 -0.070329  0.141302        \n",
              "mobile16_2.0 -0.003283  0.018351 -0.062702  0.056135        \n",
              "mobile16_3.0  0.020595  0.018115 -0.038061  0.079251        \n",
              "sex_2        -0.066202  0.016053 -0.118180 -0.014224      **\n",
              "born_2.0     -0.011301  0.041897 -0.146962  0.124360        \n",
              "const        -0.366014  0.007155 -0.389181 -0.342848      **"
            ],
            "text/html": [
              "\n",
              "  <div id=\"df-f4f7c967-4a3e-454a-afae-a914ed83ba82\" class=\"colab-df-container\">\n",
              "    <div>\n",
              "<style scoped>\n",
              "    .dataframe tbody tr th:only-of-type {\n",
              "        vertical-align: middle;\n",
              "    }\n",
              "\n",
              "    .dataframe tbody tr th {\n",
              "        vertical-align: top;\n",
              "    }\n",
              "\n",
              "    .dataframe thead th {\n",
              "        text-align: right;\n",
              "    }\n",
              "</style>\n",
              "<table border=\"1\" class=\"dataframe\">\n",
              "  <thead>\n",
              "    <tr style=\"text-align: right;\">\n",
              "      <th></th>\n",
              "      <th>coef</th>\n",
              "      <th>std err</th>\n",
              "      <th>lb</th>\n",
              "      <th>ub</th>\n",
              "      <th>statsig</th>\n",
              "    </tr>\n",
              "  </thead>\n",
              "  <tbody>\n",
              "    <tr>\n",
              "      <th>hrs1</th>\n",
              "      <td>-0.001809</td>\n",
              "      <td>0.000675</td>\n",
              "      <td>-0.003996</td>\n",
              "      <td>0.000377</td>\n",
              "      <td></td>\n",
              "    </tr>\n",
              "    <tr>\n",
              "      <th>income</th>\n",
              "      <td>-0.011030</td>\n",
              "      <td>0.005612</td>\n",
              "      <td>-0.029202</td>\n",
              "      <td>0.007142</td>\n",
              "      <td></td>\n",
              "    </tr>\n",
              "    <tr>\n",
              "      <th>rincome</th>\n",
              "      <td>-0.004747</td>\n",
              "      <td>0.003779</td>\n",
              "      <td>-0.016984</td>\n",
              "      <td>0.007491</td>\n",
              "      <td></td>\n",
              "    </tr>\n",
              "    <tr>\n",
              "      <th>age</th>\n",
              "      <td>0.000504</td>\n",
              "      <td>0.000840</td>\n",
              "      <td>-0.002215</td>\n",
              "      <td>0.003223</td>\n",
              "      <td></td>\n",
              "    </tr>\n",
              "    <tr>\n",
              "      <th>polviews</th>\n",
              "      <td>-0.021687</td>\n",
              "      <td>0.005975</td>\n",
              "      <td>-0.041034</td>\n",
              "      <td>-0.002341</td>\n",
              "      <td>**</td>\n",
              "    </tr>\n",
              "    <tr>\n",
              "      <th>educ</th>\n",
              "      <td>0.000293</td>\n",
              "      <td>0.005695</td>\n",
              "      <td>-0.018146</td>\n",
              "      <td>0.018732</td>\n",
              "      <td></td>\n",
              "    </tr>\n",
              "    <tr>\n",
              "      <th>earnrs</th>\n",
              "      <td>0.006672</td>\n",
              "      <td>0.012223</td>\n",
              "      <td>-0.032905</td>\n",
              "      <td>0.046249</td>\n",
              "      <td></td>\n",
              "    </tr>\n",
              "    <tr>\n",
              "      <th>sibs</th>\n",
              "      <td>0.002066</td>\n",
              "      <td>0.002696</td>\n",
              "      <td>-0.006665</td>\n",
              "      <td>0.010797</td>\n",
              "      <td></td>\n",
              "    </tr>\n",
              "    <tr>\n",
              "      <th>childs</th>\n",
              "      <td>0.004955</td>\n",
              "      <td>0.006842</td>\n",
              "      <td>-0.017198</td>\n",
              "      <td>0.027108</td>\n",
              "      <td></td>\n",
              "    </tr>\n",
              "    <tr>\n",
              "      <th>occ80</th>\n",
              "      <td>-0.000053</td>\n",
              "      <td>0.000042</td>\n",
              "      <td>-0.000190</td>\n",
              "      <td>0.000083</td>\n",
              "      <td></td>\n",
              "    </tr>\n",
              "    <tr>\n",
              "      <th>prestg80</th>\n",
              "      <td>-0.001132</td>\n",
              "      <td>0.000744</td>\n",
              "      <td>-0.003541</td>\n",
              "      <td>0.001278</td>\n",
              "      <td></td>\n",
              "    </tr>\n",
              "    <tr>\n",
              "      <th>indus80</th>\n",
              "      <td>0.000065</td>\n",
              "      <td>0.000030</td>\n",
              "      <td>-0.000033</td>\n",
              "      <td>0.000162</td>\n",
              "      <td></td>\n",
              "    </tr>\n",
              "    <tr>\n",
              "      <th>res16</th>\n",
              "      <td>0.000861</td>\n",
              "      <td>0.004899</td>\n",
              "      <td>-0.015003</td>\n",
              "      <td>0.016725</td>\n",
              "      <td></td>\n",
              "    </tr>\n",
              "    <tr>\n",
              "      <th>reg16</th>\n",
              "      <td>-0.002369</td>\n",
              "      <td>0.002913</td>\n",
              "      <td>-0.011803</td>\n",
              "      <td>0.007064</td>\n",
              "      <td></td>\n",
              "    </tr>\n",
              "    <tr>\n",
              "      <th>family16</th>\n",
              "      <td>0.007558</td>\n",
              "      <td>0.004411</td>\n",
              "      <td>-0.006723</td>\n",
              "      <td>0.021839</td>\n",
              "      <td></td>\n",
              "    </tr>\n",
              "    <tr>\n",
              "      <th>parborn</th>\n",
              "      <td>0.002841</td>\n",
              "      <td>0.004977</td>\n",
              "      <td>-0.013274</td>\n",
              "      <td>0.018956</td>\n",
              "      <td></td>\n",
              "    </tr>\n",
              "    <tr>\n",
              "      <th>maeduc</th>\n",
              "      <td>0.006167</td>\n",
              "      <td>0.002562</td>\n",
              "      <td>-0.002127</td>\n",
              "      <td>0.014461</td>\n",
              "      <td></td>\n",
              "    </tr>\n",
              "    <tr>\n",
              "      <th>degree</th>\n",
              "      <td>0.031193</td>\n",
              "      <td>0.013048</td>\n",
              "      <td>-0.011057</td>\n",
              "      <td>0.073443</td>\n",
              "      <td></td>\n",
              "    </tr>\n",
              "    <tr>\n",
              "      <th>hompop</th>\n",
              "      <td>-0.114345</td>\n",
              "      <td>0.060869</td>\n",
              "      <td>-0.311435</td>\n",
              "      <td>0.082745</td>\n",
              "      <td></td>\n",
              "    </tr>\n",
              "    <tr>\n",
              "      <th>babies</th>\n",
              "      <td>0.123339</td>\n",
              "      <td>0.061901</td>\n",
              "      <td>-0.077092</td>\n",
              "      <td>0.323770</td>\n",
              "      <td></td>\n",
              "    </tr>\n",
              "    <tr>\n",
              "      <th>preteen</th>\n",
              "      <td>0.108575</td>\n",
              "      <td>0.061474</td>\n",
              "      <td>-0.090474</td>\n",
              "      <td>0.307625</td>\n",
              "      <td></td>\n",
              "    </tr>\n",
              "    <tr>\n",
              "      <th>teens</th>\n",
              "      <td>0.138347</td>\n",
              "      <td>0.061821</td>\n",
              "      <td>-0.061827</td>\n",
              "      <td>0.338521</td>\n",
              "      <td></td>\n",
              "    </tr>\n",
              "    <tr>\n",
              "      <th>adults</th>\n",
              "      <td>0.126069</td>\n",
              "      <td>0.061968</td>\n",
              "      <td>-0.074582</td>\n",
              "      <td>0.326720</td>\n",
              "      <td></td>\n",
              "    </tr>\n",
              "    <tr>\n",
              "      <th>partyid_1.0</th>\n",
              "      <td>-0.005427</td>\n",
              "      <td>0.023671</td>\n",
              "      <td>-0.082073</td>\n",
              "      <td>0.071219</td>\n",
              "      <td></td>\n",
              "    </tr>\n",
              "    <tr>\n",
              "      <th>partyid_2.0</th>\n",
              "      <td>0.025589</td>\n",
              "      <td>0.027103</td>\n",
              "      <td>-0.062169</td>\n",
              "      <td>0.113346</td>\n",
              "      <td></td>\n",
              "    </tr>\n",
              "    <tr>\n",
              "      <th>partyid_3.0</th>\n",
              "      <td>-0.023944</td>\n",
              "      <td>0.027598</td>\n",
              "      <td>-0.113305</td>\n",
              "      <td>0.065416</td>\n",
              "      <td></td>\n",
              "    </tr>\n",
              "    <tr>\n",
              "      <th>partyid_4.0</th>\n",
              "      <td>-0.080796</td>\n",
              "      <td>0.031276</td>\n",
              "      <td>-0.182065</td>\n",
              "      <td>0.020473</td>\n",
              "      <td></td>\n",
              "    </tr>\n",
              "    <tr>\n",
              "      <th>partyid_5.0</th>\n",
              "      <td>-0.066419</td>\n",
              "      <td>0.027279</td>\n",
              "      <td>-0.154747</td>\n",
              "      <td>0.021909</td>\n",
              "      <td></td>\n",
              "    </tr>\n",
              "    <tr>\n",
              "      <th>partyid_6.0</th>\n",
              "      <td>-0.090602</td>\n",
              "      <td>0.032962</td>\n",
              "      <td>-0.197331</td>\n",
              "      <td>0.016127</td>\n",
              "      <td></td>\n",
              "    </tr>\n",
              "    <tr>\n",
              "      <th>partyid_7.0</th>\n",
              "      <td>0.040313</td>\n",
              "      <td>0.068572</td>\n",
              "      <td>-0.181721</td>\n",
              "      <td>0.262347</td>\n",
              "      <td></td>\n",
              "    </tr>\n",
              "    <tr>\n",
              "      <th>wrkstat_2.0</th>\n",
              "      <td>0.006860</td>\n",
              "      <td>0.026236</td>\n",
              "      <td>-0.078091</td>\n",
              "      <td>0.091812</td>\n",
              "      <td></td>\n",
              "    </tr>\n",
              "    <tr>\n",
              "      <th>wrkslf_2.0</th>\n",
              "      <td>0.016569</td>\n",
              "      <td>0.022631</td>\n",
              "      <td>-0.056708</td>\n",
              "      <td>0.089846</td>\n",
              "      <td></td>\n",
              "    </tr>\n",
              "    <tr>\n",
              "      <th>marital_2.0</th>\n",
              "      <td>0.041724</td>\n",
              "      <td>0.046181</td>\n",
              "      <td>-0.107808</td>\n",
              "      <td>0.191256</td>\n",
              "      <td></td>\n",
              "    </tr>\n",
              "    <tr>\n",
              "      <th>marital_3.0</th>\n",
              "      <td>0.035404</td>\n",
              "      <td>0.022992</td>\n",
              "      <td>-0.039043</td>\n",
              "      <td>0.109851</td>\n",
              "      <td></td>\n",
              "    </tr>\n",
              "    <tr>\n",
              "      <th>marital_4.0</th>\n",
              "      <td>0.046980</td>\n",
              "      <td>0.042012</td>\n",
              "      <td>-0.089053</td>\n",
              "      <td>0.183012</td>\n",
              "      <td></td>\n",
              "    </tr>\n",
              "    <tr>\n",
              "      <th>marital_5.0</th>\n",
              "      <td>0.051652</td>\n",
              "      <td>0.022379</td>\n",
              "      <td>-0.020812</td>\n",
              "      <td>0.124115</td>\n",
              "      <td></td>\n",
              "    </tr>\n",
              "    <tr>\n",
              "      <th>race_2</th>\n",
              "      <td>0.016041</td>\n",
              "      <td>0.023237</td>\n",
              "      <td>-0.059198</td>\n",
              "      <td>0.091279</td>\n",
              "      <td></td>\n",
              "    </tr>\n",
              "    <tr>\n",
              "      <th>race_3</th>\n",
              "      <td>0.035486</td>\n",
              "      <td>0.032680</td>\n",
              "      <td>-0.070329</td>\n",
              "      <td>0.141302</td>\n",
              "      <td></td>\n",
              "    </tr>\n",
              "    <tr>\n",
              "      <th>mobile16_2.0</th>\n",
              "      <td>-0.003283</td>\n",
              "      <td>0.018351</td>\n",
              "      <td>-0.062702</td>\n",
              "      <td>0.056135</td>\n",
              "      <td></td>\n",
              "    </tr>\n",
              "    <tr>\n",
              "      <th>mobile16_3.0</th>\n",
              "      <td>0.020595</td>\n",
              "      <td>0.018115</td>\n",
              "      <td>-0.038061</td>\n",
              "      <td>0.079251</td>\n",
              "      <td></td>\n",
              "    </tr>\n",
              "    <tr>\n",
              "      <th>sex_2</th>\n",
              "      <td>-0.066202</td>\n",
              "      <td>0.016053</td>\n",
              "      <td>-0.118180</td>\n",
              "      <td>-0.014224</td>\n",
              "      <td>**</td>\n",
              "    </tr>\n",
              "    <tr>\n",
              "      <th>born_2.0</th>\n",
              "      <td>-0.011301</td>\n",
              "      <td>0.041897</td>\n",
              "      <td>-0.146962</td>\n",
              "      <td>0.124360</td>\n",
              "      <td></td>\n",
              "    </tr>\n",
              "    <tr>\n",
              "      <th>const</th>\n",
              "      <td>-0.366014</td>\n",
              "      <td>0.007155</td>\n",
              "      <td>-0.389181</td>\n",
              "      <td>-0.342848</td>\n",
              "      <td>**</td>\n",
              "    </tr>\n",
              "  </tbody>\n",
              "</table>\n",
              "</div>\n",
              "    <div class=\"colab-df-buttons\">\n",
              "\n",
              "  <div class=\"colab-df-container\">\n",
              "    <button class=\"colab-df-convert\" onclick=\"convertToInteractive('df-f4f7c967-4a3e-454a-afae-a914ed83ba82')\"\n",
              "            title=\"Convert this dataframe to an interactive table.\"\n",
              "            style=\"display:none;\">\n",
              "\n",
              "  <svg xmlns=\"http://www.w3.org/2000/svg\" height=\"24px\" viewBox=\"0 -960 960 960\">\n",
              "    <path d=\"M120-120v-720h720v720H120Zm60-500h600v-160H180v160Zm220 220h160v-160H400v160Zm0 220h160v-160H400v160ZM180-400h160v-160H180v160Zm440 0h160v-160H620v160ZM180-180h160v-160H180v160Zm440 0h160v-160H620v160Z\"/>\n",
              "  </svg>\n",
              "    </button>\n",
              "\n",
              "  <style>\n",
              "    .colab-df-container {\n",
              "      display:flex;\n",
              "      gap: 12px;\n",
              "    }\n",
              "\n",
              "    .colab-df-convert {\n",
              "      background-color: #E8F0FE;\n",
              "      border: none;\n",
              "      border-radius: 50%;\n",
              "      cursor: pointer;\n",
              "      display: none;\n",
              "      fill: #1967D2;\n",
              "      height: 32px;\n",
              "      padding: 0 0 0 0;\n",
              "      width: 32px;\n",
              "    }\n",
              "\n",
              "    .colab-df-convert:hover {\n",
              "      background-color: #E2EBFA;\n",
              "      box-shadow: 0px 1px 2px rgba(60, 64, 67, 0.3), 0px 1px 3px 1px rgba(60, 64, 67, 0.15);\n",
              "      fill: #174EA6;\n",
              "    }\n",
              "\n",
              "    .colab-df-buttons div {\n",
              "      margin-bottom: 4px;\n",
              "    }\n",
              "\n",
              "    [theme=dark] .colab-df-convert {\n",
              "      background-color: #3B4455;\n",
              "      fill: #D2E3FC;\n",
              "    }\n",
              "\n",
              "    [theme=dark] .colab-df-convert:hover {\n",
              "      background-color: #434B5C;\n",
              "      box-shadow: 0px 1px 3px 1px rgba(0, 0, 0, 0.15);\n",
              "      filter: drop-shadow(0px 1px 2px rgba(0, 0, 0, 0.3));\n",
              "      fill: #FFFFFF;\n",
              "    }\n",
              "  </style>\n",
              "\n",
              "    <script>\n",
              "      const buttonEl =\n",
              "        document.querySelector('#df-f4f7c967-4a3e-454a-afae-a914ed83ba82 button.colab-df-convert');\n",
              "      buttonEl.style.display =\n",
              "        google.colab.kernel.accessAllowed ? 'block' : 'none';\n",
              "\n",
              "      async function convertToInteractive(key) {\n",
              "        const element = document.querySelector('#df-f4f7c967-4a3e-454a-afae-a914ed83ba82');\n",
              "        const dataTable =\n",
              "          await google.colab.kernel.invokeFunction('convertToInteractive',\n",
              "                                                    [key], {});\n",
              "        if (!dataTable) return;\n",
              "\n",
              "        const docLinkHtml = 'Like what you see? Visit the ' +\n",
              "          '<a target=\"_blank\" href=https://colab.research.google.com/notebooks/data_table.ipynb>data table notebook</a>'\n",
              "          + ' to learn more about interactive tables.';\n",
              "        element.innerHTML = '';\n",
              "        dataTable['output_type'] = 'display_data';\n",
              "        await google.colab.output.renderOutput(dataTable, element);\n",
              "        const docLink = document.createElement('div');\n",
              "        docLink.innerHTML = docLinkHtml;\n",
              "        element.appendChild(docLink);\n",
              "      }\n",
              "    </script>\n",
              "  </div>\n",
              "\n",
              "\n",
              "    <div id=\"df-919b40e1-1f1d-4f20-9f7a-5d5d1ab53b6b\">\n",
              "      <button class=\"colab-df-quickchart\" onclick=\"quickchart('df-919b40e1-1f1d-4f20-9f7a-5d5d1ab53b6b')\"\n",
              "                title=\"Suggest charts\"\n",
              "                style=\"display:none;\">\n",
              "\n",
              "<svg xmlns=\"http://www.w3.org/2000/svg\" height=\"24px\"viewBox=\"0 0 24 24\"\n",
              "     width=\"24px\">\n",
              "    <g>\n",
              "        <path d=\"M19 3H5c-1.1 0-2 .9-2 2v14c0 1.1.9 2 2 2h14c1.1 0 2-.9 2-2V5c0-1.1-.9-2-2-2zM9 17H7v-7h2v7zm4 0h-2V7h2v10zm4 0h-2v-4h2v4z\"/>\n",
              "    </g>\n",
              "</svg>\n",
              "      </button>\n",
              "\n",
              "<style>\n",
              "  .colab-df-quickchart {\n",
              "      --bg-color: #E8F0FE;\n",
              "      --fill-color: #1967D2;\n",
              "      --hover-bg-color: #E2EBFA;\n",
              "      --hover-fill-color: #174EA6;\n",
              "      --disabled-fill-color: #AAA;\n",
              "      --disabled-bg-color: #DDD;\n",
              "  }\n",
              "\n",
              "  [theme=dark] .colab-df-quickchart {\n",
              "      --bg-color: #3B4455;\n",
              "      --fill-color: #D2E3FC;\n",
              "      --hover-bg-color: #434B5C;\n",
              "      --hover-fill-color: #FFFFFF;\n",
              "      --disabled-bg-color: #3B4455;\n",
              "      --disabled-fill-color: #666;\n",
              "  }\n",
              "\n",
              "  .colab-df-quickchart {\n",
              "    background-color: var(--bg-color);\n",
              "    border: none;\n",
              "    border-radius: 50%;\n",
              "    cursor: pointer;\n",
              "    display: none;\n",
              "    fill: var(--fill-color);\n",
              "    height: 32px;\n",
              "    padding: 0;\n",
              "    width: 32px;\n",
              "  }\n",
              "\n",
              "  .colab-df-quickchart:hover {\n",
              "    background-color: var(--hover-bg-color);\n",
              "    box-shadow: 0 1px 2px rgba(60, 64, 67, 0.3), 0 1px 3px 1px rgba(60, 64, 67, 0.15);\n",
              "    fill: var(--button-hover-fill-color);\n",
              "  }\n",
              "\n",
              "  .colab-df-quickchart-complete:disabled,\n",
              "  .colab-df-quickchart-complete:disabled:hover {\n",
              "    background-color: var(--disabled-bg-color);\n",
              "    fill: var(--disabled-fill-color);\n",
              "    box-shadow: none;\n",
              "  }\n",
              "\n",
              "  .colab-df-spinner {\n",
              "    border: 2px solid var(--fill-color);\n",
              "    border-color: transparent;\n",
              "    border-bottom-color: var(--fill-color);\n",
              "    animation:\n",
              "      spin 1s steps(1) infinite;\n",
              "  }\n",
              "\n",
              "  @keyframes spin {\n",
              "    0% {\n",
              "      border-color: transparent;\n",
              "      border-bottom-color: var(--fill-color);\n",
              "      border-left-color: var(--fill-color);\n",
              "    }\n",
              "    20% {\n",
              "      border-color: transparent;\n",
              "      border-left-color: var(--fill-color);\n",
              "      border-top-color: var(--fill-color);\n",
              "    }\n",
              "    30% {\n",
              "      border-color: transparent;\n",
              "      border-left-color: var(--fill-color);\n",
              "      border-top-color: var(--fill-color);\n",
              "      border-right-color: var(--fill-color);\n",
              "    }\n",
              "    40% {\n",
              "      border-color: transparent;\n",
              "      border-right-color: var(--fill-color);\n",
              "      border-top-color: var(--fill-color);\n",
              "    }\n",
              "    60% {\n",
              "      border-color: transparent;\n",
              "      border-right-color: var(--fill-color);\n",
              "    }\n",
              "    80% {\n",
              "      border-color: transparent;\n",
              "      border-right-color: var(--fill-color);\n",
              "      border-bottom-color: var(--fill-color);\n",
              "    }\n",
              "    90% {\n",
              "      border-color: transparent;\n",
              "      border-bottom-color: var(--fill-color);\n",
              "    }\n",
              "  }\n",
              "</style>\n",
              "\n",
              "      <script>\n",
              "        async function quickchart(key) {\n",
              "          const quickchartButtonEl =\n",
              "            document.querySelector('#' + key + ' button');\n",
              "          quickchartButtonEl.disabled = true;  // To prevent multiple clicks.\n",
              "          quickchartButtonEl.classList.add('colab-df-spinner');\n",
              "          try {\n",
              "            const charts = await google.colab.kernel.invokeFunction(\n",
              "                'suggestCharts', [key], {});\n",
              "          } catch (error) {\n",
              "            console.error('Error during call to suggestCharts:', error);\n",
              "          }\n",
              "          quickchartButtonEl.classList.remove('colab-df-spinner');\n",
              "          quickchartButtonEl.classList.add('colab-df-quickchart-complete');\n",
              "        }\n",
              "        (() => {\n",
              "          let quickchartButtonEl =\n",
              "            document.querySelector('#df-919b40e1-1f1d-4f20-9f7a-5d5d1ab53b6b button');\n",
              "          quickchartButtonEl.style.display =\n",
              "            google.colab.kernel.accessAllowed ? 'block' : 'none';\n",
              "        })();\n",
              "      </script>\n",
              "    </div>\n",
              "\n",
              "  <div id=\"id_3d8b7f10-486f-4ad8-98c1-81a238baa126\">\n",
              "    <style>\n",
              "      .colab-df-generate {\n",
              "        background-color: #E8F0FE;\n",
              "        border: none;\n",
              "        border-radius: 50%;\n",
              "        cursor: pointer;\n",
              "        display: none;\n",
              "        fill: #1967D2;\n",
              "        height: 32px;\n",
              "        padding: 0 0 0 0;\n",
              "        width: 32px;\n",
              "      }\n",
              "\n",
              "      .colab-df-generate:hover {\n",
              "        background-color: #E2EBFA;\n",
              "        box-shadow: 0px 1px 2px rgba(60, 64, 67, 0.3), 0px 1px 3px 1px rgba(60, 64, 67, 0.15);\n",
              "        fill: #174EA6;\n",
              "      }\n",
              "\n",
              "      [theme=dark] .colab-df-generate {\n",
              "        background-color: #3B4455;\n",
              "        fill: #D2E3FC;\n",
              "      }\n",
              "\n",
              "      [theme=dark] .colab-df-generate:hover {\n",
              "        background-color: #434B5C;\n",
              "        box-shadow: 0px 1px 3px 1px rgba(0, 0, 0, 0.15);\n",
              "        filter: drop-shadow(0px 1px 2px rgba(0, 0, 0, 0.3));\n",
              "        fill: #FFFFFF;\n",
              "      }\n",
              "    </style>\n",
              "    <button class=\"colab-df-generate\" onclick=\"generateWithVariable('jointsummary')\"\n",
              "            title=\"Generate code using this dataframe.\"\n",
              "            style=\"display:none;\">\n",
              "\n",
              "  <svg xmlns=\"http://www.w3.org/2000/svg\" height=\"24px\"viewBox=\"0 0 24 24\"\n",
              "       width=\"24px\">\n",
              "    <path d=\"M7,19H8.4L18.45,9,17,7.55,7,17.6ZM5,21V16.75L18.45,3.32a2,2,0,0,1,2.83,0l1.4,1.43a1.91,1.91,0,0,1,.58,1.4,1.91,1.91,0,0,1-.58,1.4L9.25,21ZM18.45,9,17,7.55Zm-12,3A5.31,5.31,0,0,0,4.9,8.1,5.31,5.31,0,0,0,1,6.5,5.31,5.31,0,0,0,4.9,4.9,5.31,5.31,0,0,0,6.5,1,5.31,5.31,0,0,0,8.1,4.9,5.31,5.31,0,0,0,12,6.5,5.46,5.46,0,0,0,6.5,12Z\"/>\n",
              "  </svg>\n",
              "    </button>\n",
              "    <script>\n",
              "      (() => {\n",
              "      const buttonEl =\n",
              "        document.querySelector('#id_3d8b7f10-486f-4ad8-98c1-81a238baa126 button.colab-df-generate');\n",
              "      buttonEl.style.display =\n",
              "        google.colab.kernel.accessAllowed ? 'block' : 'none';\n",
              "\n",
              "      buttonEl.onclick = () => {\n",
              "        google.colab.notebook.generateWithVariable('jointsummary');\n",
              "      }\n",
              "      })();\n",
              "    </script>\n",
              "  </div>\n",
              "\n",
              "    </div>\n",
              "  </div>\n"
            ],
            "application/vnd.google.colaboratory.intrinsic+json": {
              "type": "dataframe",
              "variable_name": "jointsummary",
              "summary": "{\n  \"name\": \"jointsummary\",\n  \"rows\": 43,\n  \"fields\": [\n    {\n      \"column\": \"coef\",\n      \"properties\": {\n        \"dtype\": \"number\",\n        \"std\": 0.0767679867812661,\n        \"min\": -0.36601426593593817,\n        \"max\": 0.13834727802480706,\n        \"num_unique_values\": 43,\n        \"samples\": [\n          0.0354864198258874,\n          0.025588844310698262,\n          -0.023944416400628245\n        ],\n        \"semantic_type\": \"\",\n        \"description\": \"\"\n      }\n    },\n    {\n      \"column\": \"std err\",\n      \"properties\": {\n        \"dtype\": \"number\",\n        \"std\": 0.020675570693240608,\n        \"min\": 3.017559043458853e-05,\n        \"max\": 0.06857229046484488,\n        \"num_unique_values\": 43,\n        \"samples\": [\n          0.03267968588210514,\n          0.02710273554525867,\n          0.027597855476231708\n        ],\n        \"semantic_type\": \"\",\n        \"description\": \"\"\n      }\n    },\n    {\n      \"column\": \"lb\",\n      \"properties\": {\n        \"dtype\": \"number\",\n        \"std\": 0.08265577911923165,\n        \"min\": -0.3891809680144524,\n        \"max\": -3.2979826566651276e-05,\n        \"num_unique_values\": 43,\n        \"samples\": [\n          -0.0703289131135243,\n          -0.062168577704816916,\n          -0.11330501417890494\n        ],\n        \"semantic_type\": \"\",\n        \"description\": \"\"\n      }\n    },\n    {\n      \"column\": \"ub\",\n      \"properties\": {\n        \"dtype\": \"number\",\n        \"std\": 0.11797606659010257,\n        \"min\": -0.34284756385742393,\n        \"max\": 0.33852142145209063,\n        \"num_unique_values\": 43,\n        \"samples\": [\n          0.1413017527652991,\n          0.11334626632621343,\n          0.06541618137764844\n        ],\n        \"semantic_type\": \"\",\n        \"description\": \"\"\n      }\n    },\n    {\n      \"column\": \"statsig\",\n      \"properties\": {\n        \"dtype\": \"category\",\n        \"num_unique_values\": 2,\n        \"samples\": [\n          \"**\",\n          \"\"\n        ],\n        \"semantic_type\": \"\",\n        \"description\": \"\"\n      }\n    }\n  ]\n}"
            }
          },
          "metadata": {},
          "execution_count": 23
        }
      ],
      "source": [
        "V = cov.cov_params()\n",
        "S = np.diag(np.diagonal(V)**(-1 / 2))\n",
        "epsilon = np.random.multivariate_normal(np.zeros(V.shape[0]), S @ V @ S, size=(1000))\n",
        "critical = np.percentile(np.max(np.abs(epsilon), axis=1), 95)\n",
        "stderr = np.diagonal(V)**(1 / 2)\n",
        "lb = cov.params - critical * stderr\n",
        "ub = cov.params + critical * stderr\n",
        "jointsummary = pd.DataFrame({'coef': cov.params,\n",
        "                             'std err': stderr,\n",
        "                             'lb': lb,\n",
        "                             'ub': ub,\n",
        "                             'statsig': ['' if ((l <= 0) & (0 <= u)) else '**' for (l, u) in zip(lb, ub)]},\n",
        "                            index=dfX.columns)\n",
        "jointsummary"
      ]
    },
    {
      "cell_type": "markdown",
      "metadata": {
        "id": "UWNdzosR2_57"
      },
      "source": [
        "# Confidence Intervals on BLP of CATE Predictions\n",
        "\n",
        "We can also produce confidence intervals for the predictions of the CATE at particular points"
      ]
    },
    {
      "cell_type": "markdown",
      "source": [
        "ある特徴量（xfeat）だけ値を変えて、\n",
        "それに対するモデルの予測（処置効果）と信頼できる範囲を計算し、\n",
        "グラフで見やすく表示している"
      ],
      "metadata": {
        "id": "oevI0qtI38XX"
      }
    },
    {
      "cell_type": "code",
      "execution_count": 24,
      "metadata": {
        "id": "CTRIRfei2_57",
        "colab": {
          "base_uri": "https://localhost:8080/",
          "height": 449
        },
        "outputId": "a256e818-7bfc-43c9-9d51-ef8d4aea5959"
      },
      "outputs": [
        {
          "output_type": "display_data",
          "data": {
            "text/plain": [
              "<Figure size 640x480 with 1 Axes>"
            ],
            "image/png": "[encoded data removed]"
          },
          "metadata": {}
        }
      ],
      "source": [
        "grid = np.unique(np.percentile(dfX[xfeat], np.arange(0, 110, 20)))\n",
        "\n",
        "Zpd = pd.DataFrame(np.tile(np.median(dfX, axis=0, keepdims=True), (len(grid), 1)),\n",
        "                   columns=dfX.columns)\n",
        "Zpd[xfeat] = grid\n",
        "\n",
        "pred_df = lr.get_prediction(Zpd).summary_frame()\n",
        "preds, lb, ub = pred_df['mean'].values, pred_df['mean_ci_lower'].values, pred_df['mean_ci_upper'].values\n",
        "preds = preds.flatten()\n",
        "lb = lb.flatten()\n",
        "ub = ub.flatten()\n",
        "plt.errorbar(Zpd[xfeat], preds, yerr=(preds - lb, ub - preds))\n",
        "plt.xlabel(xfeat)\n",
        "plt.ylabel('Predicted CATE (at median value of other features)')\n",
        "plt.show()"
      ]
    },
    {
      "cell_type": "markdown",
      "metadata": {
        "id": "jmXVt9xT2_57"
      },
      "source": [
        "# Simultaneous (Joint) Confidence Intervals on BLP of CATE Predictions\n",
        "\n",
        "And even simultaneous inference on all these predictions that controls the joint failure probability of these confidence intervals to be at most 95%"
      ]
    },
    {
      "cell_type": "markdown",
      "source": [
        "複数の予測点に対して「全部同時に正しい信頼区間」を計算し、信頼区間付きのグラフを描いているコード　理解していない"
      ],
      "metadata": {
        "id": "5XN-aQf345y7"
      }
    },
    {
      "cell_type": "code",
      "execution_count": 25,
      "metadata": {
        "id": "YDmeaAsi2_57",
        "colab": {
          "base_uri": "https://localhost:8080/",
          "height": 449
        },
        "outputId": "253ad2fe-cd3a-49e0-eb76-26186bee8971"
      },
      "outputs": [
        {
          "output_type": "display_data",
          "data": {
            "text/plain": [
              "<Figure size 640x480 with 1 Axes>"
            ],
            "image/png": "[encoded data removed]"
          },
          "metadata": {}
        }
      ],
      "source": [
        "predsV = Zpd.values @ V @ Zpd.values.T\n",
        "predsS = np.diag(np.diagonal(predsV)**(-1 / 2))\n",
        "epsilon = np.random.multivariate_normal(np.zeros(predsV.shape[0]), predsS @ predsV @ predsS, size=(1000))\n",
        "critical = np.percentile(np.max(np.abs(epsilon), axis=1), 95)\n",
        "stderr = np.diagonal(predsV)**(1 / 2)\n",
        "lb = preds - critical * stderr\n",
        "ub = preds + critical * stderr\n",
        "\n",
        "plt.errorbar(Zpd[xfeat], preds, yerr=(preds - lb, ub - preds))\n",
        "plt.xlabel(xfeat)\n",
        "plt.ylabel('Predicted CATE (at median value of other features)')\n",
        "plt.show()"
      ]
    },
    {
      "cell_type": "markdown",
      "metadata": {
        "id": "BeKRN-4-2_6D"
      },
      "source": [
        "# Simpler Best Linear Projections of CATE"
      ]
    },
    {
      "cell_type": "markdown",
      "source": [
        "処置効果が説明変数の値によってどう変わるのか（影響を調べる）\n",
        "その関係を数式（線形モデル）でまとめて推定している\n",
        "先ほどのモデルに比べて説明変数の数をかなり減らして単純化している"
      ],
      "metadata": {
        "id": "TslhpJdg5UGw"
      }
    },
    {
      "cell_type": "code",
      "execution_count": 26,
      "metadata": {
        "id": "HLcRxLjI2_6E",
        "colab": {
          "base_uri": "https://localhost:8080/",
          "height": 549
        },
        "outputId": "a218b42e-efcc-4609-dfec-30b2013ebc95"
      },
      "outputs": [
        {
          "output_type": "execute_result",
          "data": {
            "text/plain": [
              "<class 'statsmodels.iolib.summary.Summary'>\n",
              "\"\"\"\n",
              "                            OLS Regression Results                            \n",
              "==============================================================================\n",
              "Dep. Variable:                     dr   R-squared:                       0.005\n",
              "Model:                            OLS   Adj. R-squared:                  0.004\n",
              "Method:                 Least Squares   F-statistic:                     11.19\n",
              "Date:                Sun, 08 Jun 2025   Prob (F-statistic):           1.71e-12\n",
              "Time:                        01:39:43   Log-Likelihood:                -15683.\n",
              "No. Observations:               12907   AIC:                         3.138e+04\n",
              "Df Residuals:                   12900   BIC:                         3.143e+04\n",
              "Df Model:                           6                                         \n",
              "Covariance Type:                  HC1                                         \n",
              "=======================================================================================================\n",
              "                                          coef    std err          z      P>|z|      [0.025      0.975]\n",
              "-------------------------------------------------------------------------------------------------------\n",
              "Intercept                              -0.2511      0.040     -6.315      0.000      -0.329      -0.173\n",
              "C(polviews)[T.-2.083443092895328]      -0.0215      0.044     -0.490      0.624      -0.107       0.064\n",
              "C(polviews)[T.-1.0834430928953278]     -0.0474      0.044     -1.080      0.280      -0.134       0.039\n",
              "C(polviews)[T.-0.08344309289532781]    -0.1290      0.042     -3.108      0.002      -0.210      -0.048\n",
              "C(polviews)[T.0.9165569071046722]      -0.1736      0.044     -3.977      0.000      -0.259      -0.088\n",
              "C(polviews)[T.1.9165569071046722]      -0.1557      0.045     -3.497      0.000      -0.243      -0.068\n",
              "C(polviews)[T.2.916556907104672]       -0.2122      0.060     -3.535      0.000      -0.330      -0.095\n",
              "==============================================================================\n",
              "Omnibus:                     1118.479   Durbin-Watson:                   1.988\n",
              "Prob(Omnibus):                  0.000   Jarque-Bera (JB):              642.869\n",
              "Skew:                           0.407   Prob(JB):                    2.53e-140\n",
              "Kurtosis:                       2.269   Cond. No.                         18.0\n",
              "==============================================================================\n",
              "\n",
              "Notes:\n",
              "[1] Standard Errors are heteroscedasticity robust (HC1)\n",
              "\"\"\""
            ],
            "text/html": [
              "<table class=\"simpletable\">\n",
              "<caption>OLS Regression Results</caption>\n",
              "<tr>\n",
              "  <th>Dep. Variable:</th>           <td>dr</td>        <th>  R-squared:         </th> <td>   0.005</td> \n",
              "</tr>\n",
              "<tr>\n",
              "  <th>Model:</th>                   <td>OLS</td>       <th>  Adj. R-squared:    </th> <td>   0.004</td> \n",
              "</tr>\n",
              "<tr>\n",
              "  <th>Method:</th>             <td>Least Squares</td>  <th>  F-statistic:       </th> <td>   11.19</td> \n",
              "</tr>\n",
              "<tr>\n",
              "  <th>Date:</th>             <td>Sun, 08 Jun 2025</td> <th>  Prob (F-statistic):</th> <td>1.71e-12</td> \n",
              "</tr>\n",
              "<tr>\n",
              "  <th>Time:</th>                 <td>01:39:43</td>     <th>  Log-Likelihood:    </th> <td> -15683.</td> \n",
              "</tr>\n",
              "<tr>\n",
              "  <th>No. Observations:</th>      <td> 12907</td>      <th>  AIC:               </th> <td>3.138e+04</td>\n",
              "</tr>\n",
              "<tr>\n",
              "  <th>Df Residuals:</th>          <td> 12900</td>      <th>  BIC:               </th> <td>3.143e+04</td>\n",
              "</tr>\n",
              "<tr>\n",
              "  <th>Df Model:</th>              <td>     6</td>      <th>                     </th>     <td> </td>    \n",
              "</tr>\n",
              "<tr>\n",
              "  <th>Covariance Type:</th>         <td>HC1</td>       <th>                     </th>     <td> </td>    \n",
              "</tr>\n",
              "</table>\n",
              "<table class=\"simpletable\">\n",
              "<tr>\n",
              "                   <td></td>                      <th>coef</th>     <th>std err</th>      <th>z</th>      <th>P>|z|</th>  <th>[0.025</th>    <th>0.975]</th>  \n",
              "</tr>\n",
              "<tr>\n",
              "  <th>Intercept</th>                           <td>   -0.2511</td> <td>    0.040</td> <td>   -6.315</td> <td> 0.000</td> <td>   -0.329</td> <td>   -0.173</td>\n",
              "</tr>\n",
              "<tr>\n",
              "  <th>C(polviews)[T.-2.083443092895328]</th>   <td>   -0.0215</td> <td>    0.044</td> <td>   -0.490</td> <td> 0.624</td> <td>   -0.107</td> <td>    0.064</td>\n",
              "</tr>\n",
              "<tr>\n",
              "  <th>C(polviews)[T.-1.0834430928953278]</th>  <td>   -0.0474</td> <td>    0.044</td> <td>   -1.080</td> <td> 0.280</td> <td>   -0.134</td> <td>    0.039</td>\n",
              "</tr>\n",
              "<tr>\n",
              "  <th>C(polviews)[T.-0.08344309289532781]</th> <td>   -0.1290</td> <td>    0.042</td> <td>   -3.108</td> <td> 0.002</td> <td>   -0.210</td> <td>   -0.048</td>\n",
              "</tr>\n",
              "<tr>\n",
              "  <th>C(polviews)[T.0.9165569071046722]</th>   <td>   -0.1736</td> <td>    0.044</td> <td>   -3.977</td> <td> 0.000</td> <td>   -0.259</td> <td>   -0.088</td>\n",
              "</tr>\n",
              "<tr>\n",
              "  <th>C(polviews)[T.1.9165569071046722]</th>   <td>   -0.1557</td> <td>    0.045</td> <td>   -3.497</td> <td> 0.000</td> <td>   -0.243</td> <td>   -0.068</td>\n",
              "</tr>\n",
              "<tr>\n",
              "  <th>C(polviews)[T.2.916556907104672]</th>    <td>   -0.2122</td> <td>    0.060</td> <td>   -3.535</td> <td> 0.000</td> <td>   -0.330</td> <td>   -0.095</td>\n",
              "</tr>\n",
              "</table>\n",
              "<table class=\"simpletable\">\n",
              "<tr>\n",
              "  <th>Omnibus:</th>       <td>1118.479</td> <th>  Durbin-Watson:     </th> <td>   1.988</td> \n",
              "</tr>\n",
              "<tr>\n",
              "  <th>Prob(Omnibus):</th>  <td> 0.000</td>  <th>  Jarque-Bera (JB):  </th> <td> 642.869</td> \n",
              "</tr>\n",
              "<tr>\n",
              "  <th>Skew:</th>           <td> 0.407</td>  <th>  Prob(JB):          </th> <td>2.53e-140</td>\n",
              "</tr>\n",
              "<tr>\n",
              "  <th>Kurtosis:</th>       <td> 2.269</td>  <th>  Cond. No.          </th> <td>    18.0</td> \n",
              "</tr>\n",
              "</table><br/><br/>Notes:<br/>[1] Standard Errors are heteroscedasticity robust (HC1)"
            ],
            "text/latex": "\\begin{center}\n\\begin{tabular}{lclc}\n\\toprule\n\\textbf{Dep. Variable:}                      &        dr        & \\textbf{  R-squared:         } &     0.005   \\\\\n\\textbf{Model:}                              &       OLS        & \\textbf{  Adj. R-squared:    } &     0.004   \\\\\n\\textbf{Method:}                             &  Least Squares   & \\textbf{  F-statistic:       } &     11.19   \\\\\n\\textbf{Date:}                               & Sun, 08 Jun 2025 & \\textbf{  Prob (F-statistic):} &  1.71e-12   \\\\\n\\textbf{Time:}                               &     01:39:43     & \\textbf{  Log-Likelihood:    } &   -15683.   \\\\\n\\textbf{No. Observations:}                   &       12907      & \\textbf{  AIC:               } & 3.138e+04   \\\\\n\\textbf{Df Residuals:}                       &       12900      & \\textbf{  BIC:               } & 3.143e+04   \\\\\n\\textbf{Df Model:}                           &           6      & \\textbf{                     } &             \\\\\n\\textbf{Covariance Type:}                    &       HC1        & \\textbf{                     } &             \\\\\n\\bottomrule\n\\end{tabular}\n\\begin{tabular}{lcccccc}\n                                             & \\textbf{coef} & \\textbf{std err} & \\textbf{z} & \\textbf{P$> |$z$|$} & \\textbf{[0.025} & \\textbf{0.975]}  \\\\\n\\midrule\n\\textbf{Intercept}                           &      -0.2511  &        0.040     &    -6.315  &         0.000        &       -0.329    &       -0.173     \\\\\n\\textbf{C(polviews)[T.-2.083443092895328]}   &      -0.0215  &        0.044     &    -0.490  &         0.624        &       -0.107    &        0.064     \\\\\n\\textbf{C(polviews)[T.-1.0834430928953278]}  &      -0.0474  &        0.044     &    -1.080  &         0.280        &       -0.134    &        0.039     \\\\\n\\textbf{C(polviews)[T.-0.08344309289532781]} &      -0.1290  &        0.042     &    -3.108  &         0.002        &       -0.210    &       -0.048     \\\\\n\\textbf{C(polviews)[T.0.9165569071046722]}   &      -0.1736  &        0.044     &    -3.977  &         0.000        &       -0.259    &       -0.088     \\\\\n\\textbf{C(polviews)[T.1.9165569071046722]}   &      -0.1557  &        0.045     &    -3.497  &         0.000        &       -0.243    &       -0.068     \\\\\n\\textbf{C(polviews)[T.2.916556907104672]}    &      -0.2122  &        0.060     &    -3.535  &         0.000        &       -0.330    &       -0.095     \\\\\n\\bottomrule\n\\end{tabular}\n\\begin{tabular}{lclc}\n\\textbf{Omnibus:}       & 1118.479 & \\textbf{  Durbin-Watson:     } &     1.988  \\\\\n\\textbf{Prob(Omnibus):} &   0.000  & \\textbf{  Jarque-Bera (JB):  } &   642.869  \\\\\n\\textbf{Skew:}          &   0.407  & \\textbf{  Prob(JB):          } & 2.53e-140  \\\\\n\\textbf{Kurtosis:}      &   2.269  & \\textbf{  Cond. No.          } &      18.0  \\\\\n\\bottomrule\n\\end{tabular}\n%\\caption{OLS Regression Results}\n\\end{center}\n\nNotes: \\newline\n [1] Standard Errors are heteroscedasticity robust (HC1)"
          },
          "metadata": {},
          "execution_count": 26
        }
      ],
      "source": [
        "from statsmodels.formula.api import ols\n",
        "df = X.copy()\n",
        "df['dr'] = dr_preds\n",
        "lr = ols('dr ~ ' + blp_formula, df).fit(cov_type='HC1')\n",
        "lr.summary()"
      ]
    },
    {
      "cell_type": "markdown",
      "source": [
        "ある特徴量 xfeat の変化に伴う予測値の推移と信頼区間を細かく計算するための準備をしているコード\n",
        "他の説明変数は中央値で固定し、xfeat のみ影響を調べている。"
      ],
      "metadata": {
        "id": "pmwvynFj6AMG"
      }
    },
    {
      "cell_type": "code",
      "execution_count": 27,
      "metadata": {
        "id": "LH6xA_VC2_6E"
      },
      "outputs": [],
      "source": [
        "grid = np.unique(np.percentile(X[xfeat], np.arange(0, 102, 2)))\n",
        "Xpd = pd.DataFrame(np.tile(np.median(X, axis=0, keepdims=True), (len(grid), 1)),\n",
        "                   columns=X.columns)\n",
        "Xpd[xfeat] = grid\n",
        "pred_df = lr.get_prediction(Xpd).summary_frame(alpha=.1)"
      ]
    },
    {
      "cell_type": "code",
      "execution_count": 28,
      "metadata": {
        "id": "F4o22epR2_6E",
        "colab": {
          "base_uri": "https://localhost:8080/",
          "height": 472
        },
        "outputId": "41908309-6096-4c14-8496-0a7bf80fbea3"
      },
      "outputs": [
        {
          "output_type": "display_data",
          "data": {
            "text/plain": [
              "<Figure size 640x480 with 1 Axes>"
            ],
            "image/png": "[encoded data removed]"
          },
          "metadata": {}
        }
      ],
      "source": [
        "plt.plot(Xpd[xfeat], pred_df['mean'])\n",
        "plt.fill_between(Xpd[xfeat], pred_df['mean_ci_lower'], pred_df['mean_ci_upper'], alpha=.4)\n",
        "plt.xlabel(xfeat + ' (other features fixed at median value)')\n",
        "plt.title('Predicted CATE BLP: cate ~' + blp_formula)\n",
        "plt.ylabel('CATE')\n",
        "plt.show()"
      ]
    },
    {
      "cell_type": "markdown",
      "source": [
        "drという目的変数を用意して、\n",
        "blp_formula2で指定した説明変数を使って、\n",
        "ヘテロスケダスティック対応のOLS回帰を実行している、\n",
        "その結果をlrに保存している"
      ],
      "metadata": {
        "id": "kF4lpHkq6bCK"
      }
    },
    {
      "cell_type": "code",
      "execution_count": 29,
      "metadata": {
        "id": "ir12CLlM2_6E"
      },
      "outputs": [],
      "source": [
        "from statsmodels.formula.api import ols\n",
        "df = X.copy()\n",
        "df['dr'] = dr_preds\n",
        "lr = ols('dr ~ ' + blp_formula2, df).fit(cov_type='HC1')"
      ]
    },
    {
      "cell_type": "markdown",
      "source": [
        "xfeat の変化に伴うモデルの予測値を、他の説明変数を中央値に固定して計算し、\n",
        "その予測値と信頼区間を取得している。"
      ],
      "metadata": {
        "id": "c9jmZV9o6omG"
      }
    },
    {
      "cell_type": "code",
      "execution_count": 30,
      "metadata": {
        "id": "AEHVWKe22_6E"
      },
      "outputs": [],
      "source": [
        "grid = np.unique(np.percentile(X[xfeat], np.arange(0, 102, 2)))\n",
        "Xpd = pd.DataFrame(np.tile(np.median(X, axis=0, keepdims=True), (len(grid), 1)),\n",
        "                   columns=X.columns)\n",
        "Xpd[xfeat] = grid\n",
        "pred_df2 = lr.get_prediction(Xpd).summary_frame(alpha=.1)"
      ]
    },
    {
      "cell_type": "code",
      "execution_count": 31,
      "metadata": {
        "id": "XOWJEJTT2_6E",
        "colab": {
          "base_uri": "https://localhost:8080/",
          "height": 472
        },
        "outputId": "5e0a4ae9-419a-4a08-df4a-de365ca24d0a"
      },
      "outputs": [
        {
          "output_type": "display_data",
          "data": {
            "text/plain": [
              "<Figure size 640x480 with 1 Axes>"
            ],
            "image/png": "[encoded data removed]"
          },
          "metadata": {}
        }
      ],
      "source": [
        "plt.plot(Xpd[xfeat], pred_df2['mean'])\n",
        "plt.fill_between(Xpd[xfeat], pred_df2['mean_ci_lower'], pred_df2['mean_ci_upper'], alpha=.4)\n",
        "plt.xlabel(xfeat + ' (other features fixed at median value)')\n",
        "plt.ylabel('CATE')\n",
        "plt.title('cate ~' + blp_formula2)\n",
        "plt.show()"
      ]
    },
    {
      "cell_type": "markdown",
      "metadata": {
        "id": "U0H-C_j52_6E"
      },
      "source": [
        "# Non-Parametric Confidence Intervals on CATE Predictions"
      ]
    },
    {
      "cell_type": "markdown",
      "metadata": {
        "id": "TRnIbW5x2_6E"
      },
      "source": [
        "We now move on to the subject of constructing confidence intervals for the predictions of CATE models. Confidence intervals for CATE predictions is an inherently harder task. In its generality it is at least as hard as constructing confidence intervals for the predictions of a non-parametric regression function; which is a statistically daunting task.\n",
        "\n",
        "We will use data-adaptive approaches like random forests to side step the curse of dimensionality and potentially adapt to sparsity in the regression function (though theoretically such an adaptivity is in the worst case imposssible; it tends to work well in practice). This is the approach taken by CausalForests or Doubly Robust Forests that are both based on the idea of Generalized Random Forests, which is an extension of classical forests for solving problems defined via conditional moment restrictions."
      ]
    },
    {
      "cell_type": "markdown",
      "metadata": {
        "id": "L4Kri6NH2_6E"
      },
      "source": [
        "# Non-Parametric Confidence Intervals with Causal Forests"
      ]
    },
    {
      "cell_type": "markdown",
      "source": [
        "説明変数（特徴量）の準備"
      ],
      "metadata": {
        "id": "a4IOKQOH7-L8"
      }
    },
    {
      "cell_type": "code",
      "execution_count": 32,
      "metadata": {
        "id": "YPl6vc922_6E"
      },
      "outputs": [],
      "source": [
        "if hetero_feats == 'all':\n",
        "    Z = X\n",
        "else:\n",
        "    Z = X[hetero_feats]"
      ]
    },
    {
      "cell_type": "markdown",
      "source": [
        "大量データか否かでパラメータ調整　データが100万件以上なら木の葉の最小サンプル数を大きくして（500）、\n",
        "サンプリング割合も減らして（5%）計算を軽くする。\n",
        "少なければ通常設定。"
      ],
      "metadata": {
        "id": "P9zJiijb7_JE"
      }
    },
    {
      "cell_type": "code",
      "execution_count": 33,
      "metadata": {
        "id": "iI3dlYGk2_6E"
      },
      "outputs": [],
      "source": [
        "if Z.shape[0] > 1e6:\n",
        "    min_samples_leaf = 500\n",
        "    max_samples = 0.05\n",
        "else:\n",
        "    min_samples_leaf = 50\n",
        "    max_samples = .4"
      ]
    },
    {
      "cell_type": "markdown",
      "source": [
        " Causal Forestのインポートと初期化 準備した説明変数 Z と処置の残差 Dres、アウトカムの残差 yres を使ってcausal forestを学習。"
      ],
      "metadata": {
        "id": "uE2SFmmU8MNI"
      }
    },
    {
      "cell_type": "code",
      "execution_count": 34,
      "metadata": {
        "id": "8UXA0krD2_6E",
        "colab": {
          "base_uri": "https://localhost:8080/",
          "height": 97
        },
        "outputId": "5bb351d7-8c03-4c36-df1a-24eb64b7d9e9"
      },
      "outputs": [
        {
          "output_type": "execute_result",
          "data": {
            "text/plain": [
              "CausalForest(criterion='het', max_samples=0.4, min_samples_leaf=50,\n",
              "             n_estimators=4000, random_state=1)"
            ],
            "text/html": [
              "<style>#sk-container-id-1 {\n",
              "  /* Definition of color scheme common for light and dark mode */\n",
              "  --sklearn-color-text: black;\n",
              "  --sklearn-color-line: gray;\n",
              "  /* Definition of color scheme for unfitted estimators */\n",
              "  --sklearn-color-unfitted-level-0: #fff5e6;\n",
              "  --sklearn-color-unfitted-level-1: #f6e4d2;\n",
              "  --sklearn-color-unfitted-level-2: #ffe0b3;\n",
              "  --sklearn-color-unfitted-level-3: chocolate;\n",
              "  /* Definition of color scheme for fitted estimators */\n",
              "  --sklearn-color-fitted-level-0: #f0f8ff;\n",
              "  --sklearn-color-fitted-level-1: #d4ebff;\n",
              "  --sklearn-color-fitted-level-2: #b3dbfd;\n",
              "  --sklearn-color-fitted-level-3: cornflowerblue;\n",
              "\n",
              "  /* Specific color for light theme */\n",
              "  --sklearn-color-text-on-default-background: var(--sg-text-color, var(--theme-code-foreground, var(--jp-content-font-color1, black)));\n",
              "  --sklearn-color-background: var(--sg-background-color, var(--theme-background, var(--jp-layout-color0, white)));\n",
              "  --sklearn-color-border-box: var(--sg-text-color, var(--theme-code-foreground, var(--jp-content-font-color1, black)));\n",
              "  --sklearn-color-icon: #696969;\n",
              "\n",
              "  @media (prefers-color-scheme: dark) {\n",
              "    /* Redefinition of color scheme for dark theme */\n",
              "    --sklearn-color-text-on-default-background: var(--sg-text-color, var(--theme-code-foreground, var(--jp-content-font-color1, white)));\n",
              "    --sklearn-color-background: var(--sg-background-color, var(--theme-background, var(--jp-layout-color0, #111)));\n",
              "    --sklearn-color-border-box: var(--sg-text-color, var(--theme-code-foreground, var(--jp-content-font-color1, white)));\n",
              "    --sklearn-color-icon: #878787;\n",
              "  }\n",
              "}\n",
              "\n",
              "#sk-container-id-1 {\n",
              "  color: var(--sklearn-color-text);\n",
              "}\n",
              "\n",
              "#sk-container-id-1 pre {\n",
              "  padding: 0;\n",
              "}\n",
              "\n",
              "#sk-container-id-1 input.sk-hidden--visually {\n",
              "  border: 0;\n",
              "  clip: rect(1px 1px 1px 1px);\n",
              "  clip: rect(1px, 1px, 1px, 1px);\n",
              "  height: 1px;\n",
              "  margin: -1px;\n",
              "  overflow: hidden;\n",
              "  padding: 0;\n",
              "  position: absolute;\n",
              "  width: 1px;\n",
              "}\n",
              "\n",
              "#sk-container-id-1 div.sk-dashed-wrapped {\n",
              "  border: 1px dashed var(--sklearn-color-line);\n",
              "  margin: 0 0.4em 0.5em 0.4em;\n",
              "  box-sizing: border-box;\n",
              "  padding-bottom: 0.4em;\n",
              "  background-color: var(--sklearn-color-background);\n",
              "}\n",
              "\n",
              "#sk-container-id-1 div.sk-container {\n",
              "  /* jupyter's `normalize.less` sets `[hidden] { display: none; }`\n",
              "     but bootstrap.min.css set `[hidden] { display: none !important; }`\n",
              "     so we also need the `!important` here to be able to override the\n",
              "     default hidden behavior on the sphinx rendered scikit-learn.org.\n",
              "     See: https://github.com/scikit-learn/scikit-learn/issues/21755 */\n",
              "  display: inline-block !important;\n",
              "  position: relative;\n",
              "}\n",
              "\n",
              "#sk-container-id-1 div.sk-text-repr-fallback {\n",
              "  display: none;\n",
              "}\n",
              "\n",
              "div.sk-parallel-item,\n",
              "div.sk-serial,\n",
              "div.sk-item {\n",
              "  /* draw centered vertical line to link estimators */\n",
              "  background-image: linear-gradient(var(--sklearn-color-text-on-default-background), var(--sklearn-color-text-on-default-background));\n",
              "  background-size: 2px 100%;\n",
              "  background-repeat: no-repeat;\n",
              "  background-position: center center;\n",
              "}\n",
              "\n",
              "/* Parallel-specific style estimator block */\n",
              "\n",
              "#sk-container-id-1 div.sk-parallel-item::after {\n",
              "  content: \"\";\n",
              "  width: 100%;\n",
              "  border-bottom: 2px solid var(--sklearn-color-text-on-default-background);\n",
              "  flex-grow: 1;\n",
              "}\n",
              "\n",
              "#sk-container-id-1 div.sk-parallel {\n",
              "  display: flex;\n",
              "  align-items: stretch;\n",
              "  justify-content: center;\n",
              "  background-color: var(--sklearn-color-background);\n",
              "  position: relative;\n",
              "}\n",
              "\n",
              "#sk-container-id-1 div.sk-parallel-item {\n",
              "  display: flex;\n",
              "  flex-direction: column;\n",
              "}\n",
              "\n",
              "#sk-container-id-1 div.sk-parallel-item:first-child::after {\n",
              "  align-self: flex-end;\n",
              "  width: 50%;\n",
              "}\n",
              "\n",
              "#sk-container-id-1 div.sk-parallel-item:last-child::after {\n",
              "  align-self: flex-start;\n",
              "  width: 50%;\n",
              "}\n",
              "\n",
              "#sk-container-id-1 div.sk-parallel-item:only-child::after {\n",
              "  width: 0;\n",
              "}\n",
              "\n",
              "/* Serial-specific style estimator block */\n",
              "\n",
              "#sk-container-id-1 div.sk-serial {\n",
              "  display: flex;\n",
              "  flex-direction: column;\n",
              "  align-items: center;\n",
              "  background-color: var(--sklearn-color-background);\n",
              "  padding-right: 1em;\n",
              "  padding-left: 1em;\n",
              "}\n",
              "\n",
              "\n",
              "/* Toggleable style: style used for estimator/Pipeline/ColumnTransformer box that is\n",
              "clickable and can be expanded/collapsed.\n",
              "- Pipeline and ColumnTransformer use this feature and define the default style\n",
              "- Estimators will overwrite some part of the style using the `sk-estimator` class\n",
              "*/\n",
              "\n",
              "/* Pipeline and ColumnTransformer style (default) */\n",
              "\n",
              "#sk-container-id-1 div.sk-toggleable {\n",
              "  /* Default theme specific background. It is overwritten whether we have a\n",
              "  specific estimator or a Pipeline/ColumnTransformer */\n",
              "  background-color: var(--sklearn-color-background);\n",
              "}\n",
              "\n",
              "/* Toggleable label */\n",
              "#sk-container-id-1 label.sk-toggleable__label {\n",
              "  cursor: pointer;\n",
              "  display: block;\n",
              "  width: 100%;\n",
              "  margin-bottom: 0;\n",
              "  padding: 0.5em;\n",
              "  box-sizing: border-box;\n",
              "  text-align: center;\n",
              "}\n",
              "\n",
              "#sk-container-id-1 label.sk-toggleable__label-arrow:before {\n",
              "  /* Arrow on the left of the label */\n",
              "  content: \"▸\";\n",
              "  float: left;\n",
              "  margin-right: 0.25em;\n",
              "  color: var(--sklearn-color-icon);\n",
              "}\n",
              "\n",
              "#sk-container-id-1 label.sk-toggleable__label-arrow:hover:before {\n",
              "  color: var(--sklearn-color-text);\n",
              "}\n",
              "\n",
              "/* Toggleable content - dropdown */\n",
              "\n",
              "#sk-container-id-1 div.sk-toggleable__content {\n",
              "  max-height: 0;\n",
              "  max-width: 0;\n",
              "  overflow: hidden;\n",
              "  text-align: left;\n",
              "  /* unfitted */\n",
              "  background-color: var(--sklearn-color-unfitted-level-0);\n",
              "}\n",
              "\n",
              "#sk-container-id-1 div.sk-toggleable__content.fitted {\n",
              "  /* fitted */\n",
              "  background-color: var(--sklearn-color-fitted-level-0);\n",
              "}\n",
              "\n",
              "#sk-container-id-1 div.sk-toggleable__content pre {\n",
              "  margin: 0.2em;\n",
              "  border-radius: 0.25em;\n",
              "  color: var(--sklearn-color-text);\n",
              "  /* unfitted */\n",
              "  background-color: var(--sklearn-color-unfitted-level-0);\n",
              "}\n",
              "\n",
              "#sk-container-id-1 div.sk-toggleable__content.fitted pre {\n",
              "  /* unfitted */\n",
              "  background-color: var(--sklearn-color-fitted-level-0);\n",
              "}\n",
              "\n",
              "#sk-container-id-1 input.sk-toggleable__control:checked~div.sk-toggleable__content {\n",
              "  /* Expand drop-down */\n",
              "  max-height: 200px;\n",
              "  max-width: 100%;\n",
              "  overflow: auto;\n",
              "}\n",
              "\n",
              "#sk-container-id-1 input.sk-toggleable__control:checked~label.sk-toggleable__label-arrow:before {\n",
              "  content: \"▾\";\n",
              "}\n",
              "\n",
              "/* Pipeline/ColumnTransformer-specific style */\n",
              "\n",
              "#sk-container-id-1 div.sk-label input.sk-toggleable__control:checked~label.sk-toggleable__label {\n",
              "  color: var(--sklearn-color-text);\n",
              "  background-color: var(--sklearn-color-unfitted-level-2);\n",
              "}\n",
              "\n",
              "#sk-container-id-1 div.sk-label.fitted input.sk-toggleable__control:checked~label.sk-toggleable__label {\n",
              "  background-color: var(--sklearn-color-fitted-level-2);\n",
              "}\n",
              "\n",
              "/* Estimator-specific style */\n",
              "\n",
              "/* Colorize estimator box */\n",
              "#sk-container-id-1 div.sk-estimator input.sk-toggleable__control:checked~label.sk-toggleable__label {\n",
              "  /* unfitted */\n",
              "  background-color: var(--sklearn-color-unfitted-level-2);\n",
              "}\n",
              "\n",
              "#sk-container-id-1 div.sk-estimator.fitted input.sk-toggleable__control:checked~label.sk-toggleable__label {\n",
              "  /* fitted */\n",
              "  background-color: var(--sklearn-color-fitted-level-2);\n",
              "}\n",
              "\n",
              "#sk-container-id-1 div.sk-label label.sk-toggleable__label,\n",
              "#sk-container-id-1 div.sk-label label {\n",
              "  /* The background is the default theme color */\n",
              "  color: var(--sklearn-color-text-on-default-background);\n",
              "}\n",
              "\n",
              "/* On hover, darken the color of the background */\n",
              "#sk-container-id-1 div.sk-label:hover label.sk-toggleable__label {\n",
              "  color: var(--sklearn-color-text);\n",
              "  background-color: var(--sklearn-color-unfitted-level-2);\n",
              "}\n",
              "\n",
              "/* Label box, darken color on hover, fitted */\n",
              "#sk-container-id-1 div.sk-label.fitted:hover label.sk-toggleable__label.fitted {\n",
              "  color: var(--sklearn-color-text);\n",
              "  background-color: var(--sklearn-color-fitted-level-2);\n",
              "}\n",
              "\n",
              "/* Estimator label */\n",
              "\n",
              "#sk-container-id-1 div.sk-label label {\n",
              "  font-family: monospace;\n",
              "  font-weight: bold;\n",
              "  display: inline-block;\n",
              "  line-height: 1.2em;\n",
              "}\n",
              "\n",
              "#sk-container-id-1 div.sk-label-container {\n",
              "  text-align: center;\n",
              "}\n",
              "\n",
              "/* Estimator-specific */\n",
              "#sk-container-id-1 div.sk-estimator {\n",
              "  font-family: monospace;\n",
              "  border: 1px dotted var(--sklearn-color-border-box);\n",
              "  border-radius: 0.25em;\n",
              "  box-sizing: border-box;\n",
              "  margin-bottom: 0.5em;\n",
              "  /* unfitted */\n",
              "  background-color: var(--sklearn-color-unfitted-level-0);\n",
              "}\n",
              "\n",
              "#sk-container-id-1 div.sk-estimator.fitted {\n",
              "  /* fitted */\n",
              "  background-color: var(--sklearn-color-fitted-level-0);\n",
              "}\n",
              "\n",
              "/* on hover */\n",
              "#sk-container-id-1 div.sk-estimator:hover {\n",
              "  /* unfitted */\n",
              "  background-color: var(--sklearn-color-unfitted-level-2);\n",
              "}\n",
              "\n",
              "#sk-container-id-1 div.sk-estimator.fitted:hover {\n",
              "  /* fitted */\n",
              "  background-color: var(--sklearn-color-fitted-level-2);\n",
              "}\n",
              "\n",
              "/* Specification for estimator info (e.g. \"i\" and \"?\") */\n",
              "\n",
              "/* Common style for \"i\" and \"?\" */\n",
              "\n",
              ".sk-estimator-doc-link,\n",
              "a:link.sk-estimator-doc-link,\n",
              "a:visited.sk-estimator-doc-link {\n",
              "  float: right;\n",
              "  font-size: smaller;\n",
              "  line-height: 1em;\n",
              "  font-family: monospace;\n",
              "  background-color: var(--sklearn-color-background);\n",
              "  border-radius: 1em;\n",
              "  height: 1em;\n",
              "  width: 1em;\n",
              "  text-decoration: none !important;\n",
              "  margin-left: 1ex;\n",
              "  /* unfitted */\n",
              "  border: var(--sklearn-color-unfitted-level-1) 1pt solid;\n",
              "  color: var(--sklearn-color-unfitted-level-1);\n",
              "}\n",
              "\n",
              ".sk-estimator-doc-link.fitted,\n",
              "a:link.sk-estimator-doc-link.fitted,\n",
              "a:visited.sk-estimator-doc-link.fitted {\n",
              "  /* fitted */\n",
              "  border: var(--sklearn-color-fitted-level-1) 1pt solid;\n",
              "  color: var(--sklearn-color-fitted-level-1);\n",
              "}\n",
              "\n",
              "/* On hover */\n",
              "div.sk-estimator:hover .sk-estimator-doc-link:hover,\n",
              ".sk-estimator-doc-link:hover,\n",
              "div.sk-label-container:hover .sk-estimator-doc-link:hover,\n",
              ".sk-estimator-doc-link:hover {\n",
              "  /* unfitted */\n",
              "  background-color: var(--sklearn-color-unfitted-level-3);\n",
              "  color: var(--sklearn-color-background);\n",
              "  text-decoration: none;\n",
              "}\n",
              "\n",
              "div.sk-estimator.fitted:hover .sk-estimator-doc-link.fitted:hover,\n",
              ".sk-estimator-doc-link.fitted:hover,\n",
              "div.sk-label-container:hover .sk-estimator-doc-link.fitted:hover,\n",
              ".sk-estimator-doc-link.fitted:hover {\n",
              "  /* fitted */\n",
              "  background-color: var(--sklearn-color-fitted-level-3);\n",
              "  color: var(--sklearn-color-background);\n",
              "  text-decoration: none;\n",
              "}\n",
              "\n",
              "/* Span, style for the box shown on hovering the info icon */\n",
              ".sk-estimator-doc-link span {\n",
              "  display: none;\n",
              "  z-index: 9999;\n",
              "  position: relative;\n",
              "  font-weight: normal;\n",
              "  right: .2ex;\n",
              "  padding: .5ex;\n",
              "  margin: .5ex;\n",
              "  width: min-content;\n",
              "  min-width: 20ex;\n",
              "  max-width: 50ex;\n",
              "  color: var(--sklearn-color-text);\n",
              "  box-shadow: 2pt 2pt 4pt #999;\n",
              "  /* unfitted */\n",
              "  background: var(--sklearn-color-unfitted-level-0);\n",
              "  border: .5pt solid var(--sklearn-color-unfitted-level-3);\n",
              "}\n",
              "\n",
              ".sk-estimator-doc-link.fitted span {\n",
              "  /* fitted */\n",
              "  background: var(--sklearn-color-fitted-level-0);\n",
              "  border: var(--sklearn-color-fitted-level-3);\n",
              "}\n",
              "\n",
              ".sk-estimator-doc-link:hover span {\n",
              "  display: block;\n",
              "}\n",
              "\n",
              "/* \"?\"-specific style due to the `<a>` HTML tag */\n",
              "\n",
              "#sk-container-id-1 a.estimator_doc_link {\n",
              "  float: right;\n",
              "  font-size: 1rem;\n",
              "  line-height: 1em;\n",
              "  font-family: monospace;\n",
              "  background-color: var(--sklearn-color-background);\n",
              "  border-radius: 1rem;\n",
              "  height: 1rem;\n",
              "  width: 1rem;\n",
              "  text-decoration: none;\n",
              "  /* unfitted */\n",
              "  color: var(--sklearn-color-unfitted-level-1);\n",
              "  border: var(--sklearn-color-unfitted-level-1) 1pt solid;\n",
              "}\n",
              "\n",
              "#sk-container-id-1 a.estimator_doc_link.fitted {\n",
              "  /* fitted */\n",
              "  border: var(--sklearn-color-fitted-level-1) 1pt solid;\n",
              "  color: var(--sklearn-color-fitted-level-1);\n",
              "}\n",
              "\n",
              "/* On hover */\n",
              "#sk-container-id-1 a.estimator_doc_link:hover {\n",
              "  /* unfitted */\n",
              "  background-color: var(--sklearn-color-unfitted-level-3);\n",
              "  color: var(--sklearn-color-background);\n",
              "  text-decoration: none;\n",
              "}\n",
              "\n",
              "#sk-container-id-1 a.estimator_doc_link.fitted:hover {\n",
              "  /* fitted */\n",
              "  background-color: var(--sklearn-color-fitted-level-3);\n",
              "}\n",
              "</style><div id=\"sk-container-id-1\" class=\"sk-top-container\"><div class=\"sk-text-repr-fallback\"><pre>CausalForest(criterion=&#x27;het&#x27;, max_samples=0.4, min_samples_leaf=50,\n",
              "             n_estimators=4000, random_state=1)</pre><b>In a Jupyter environment, please rerun this cell to show the HTML representation or trust the notebook. <br />On GitHub, the HTML representation is unable to render, please try loading this page with nbviewer.org.</b></div><div class=\"sk-container\" hidden><div class=\"sk-item\"><div class=\"sk-estimator fitted sk-toggleable\"><input class=\"sk-toggleable__control sk-hidden--visually\" id=\"sk-estimator-id-1\" type=\"checkbox\" checked><label for=\"sk-estimator-id-1\" class=\"sk-toggleable__label fitted sk-toggleable__label-arrow fitted\">&nbsp;CausalForest<span class=\"sk-estimator-doc-link fitted\">i<span>Fitted</span></span></label><div class=\"sk-toggleable__content fitted\"><pre>CausalForest(criterion=&#x27;het&#x27;, max_samples=0.4, min_samples_leaf=50,\n",
              "             n_estimators=4000, random_state=1)</pre></div> </div></div></div></div>"
            ]
          },
          "metadata": {},
          "execution_count": 34
        }
      ],
      "source": [
        "from econml.grf import CausalForest\n",
        "\n",
        "yres = y - res_preds\n",
        "Dres = D - prop_preds\n",
        "cf = CausalForest(4000, criterion='het', max_depth=None,\n",
        "                  max_samples=max_samples,\n",
        "                  min_samples_leaf=min_samples_leaf,\n",
        "                  min_weight_fraction_leaf=.0,\n",
        "                  random_state=random_seed)\n",
        "cf.fit(Z, Dres, yres)"
      ]
    },
    {
      "cell_type": "markdown",
      "source": [
        "重要特徴量の抽出と可視化準備"
      ],
      "metadata": {
        "id": "NrR6SRjR8QAi"
      }
    },
    {
      "cell_type": "code",
      "execution_count": 35,
      "metadata": {
        "id": "55jW99F12_6E",
        "colab": {
          "base_uri": "https://localhost:8080/"
        },
        "outputId": "025f3834-f810-47d7-93a4-9caf2fbc838d"
      },
      "outputs": [
        {
          "output_type": "stream",
          "name": "stdout",
          "text": [
            "polviews\n"
          ]
        }
      ],
      "source": [
        "top_feat = np.argsort(cf.feature_importances_)[-1]\n",
        "print(Z.columns[top_feat])"
      ]
    },
    {
      "cell_type": "markdown",
      "source": [
        "重要特徴量の分位点ごとにCATE予測 CATEの予測と信頼区間の取得・プロット"
      ],
      "metadata": {
        "id": "uQFwWmRM8rL5"
      }
    },
    {
      "cell_type": "code",
      "execution_count": 36,
      "metadata": {
        "id": "nwsoM6xt2_6F",
        "colab": {
          "base_uri": "https://localhost:8080/",
          "height": 449
        },
        "outputId": "e10998bd-6235-4742-85c6-fc30bc26bf72"
      },
      "outputs": [
        {
          "output_type": "display_data",
          "data": {
            "text/plain": [
              "<Figure size 640x480 with 1 Axes>"
            ],
            "image/png": "[encoded data removed]"
          },
          "metadata": {}
        }
      ],
      "source": [
        "grid = np.unique(np.percentile(Z.iloc[:, top_feat], np.arange(0, 105, 5)))\n",
        "Zpd = pd.DataFrame(np.tile(np.median(Z, axis=0, keepdims=True), (len(grid), 1)),\n",
        "                   columns=Z.columns)\n",
        "Zpd.iloc[:, top_feat] = grid\n",
        "\n",
        "preds, lb, ub = cf.predict(Zpd, interval=True, alpha=.1)\n",
        "preds = preds.flatten()\n",
        "lb = lb.flatten()\n",
        "ub = ub.flatten()\n",
        "plt.errorbar(Zpd.iloc[:, top_feat], preds, yerr=(preds - lb, ub - preds))\n",
        "plt.xlabel(Zpd.columns[top_feat])\n",
        "plt.ylabel('Predicted CATE (at median value of other features)')\n",
        "plt.savefig(f'{data}-causal-forest.png', dpi=600)\n",
        "plt.show()"
      ]
    },
    {
      "cell_type": "markdown",
      "source": [
        "半合成データの場合の真のCATEとの比較"
      ],
      "metadata": {
        "id": "KzkicJfH84oU"
      }
    },
    {
      "cell_type": "code",
      "execution_count": 37,
      "metadata": {
        "id": "fdV2venN2_6F"
      },
      "outputs": [],
      "source": [
        "if semi_synth:\n",
        "    true_proj = true_cate(X)\n",
        "    preds, lb, ub = cf.predict(Z, interval=True, alpha=.1)\n",
        "    preds = preds.flatten()\n",
        "    lb = lb.flatten()\n",
        "    ub = ub.flatten()\n",
        "    inds = np.argsort(true_proj)\n",
        "    plt.plot(true_proj[inds], preds[inds])\n",
        "    plt.fill_between(true_proj[inds], lb[inds].flatten(), ub[inds].flatten(), alpha=.4)\n",
        "    plt.plot(np.linspace(np.min(true_proj), np.max(true_proj), 100),\n",
        "             np.linspace(np.min(true_proj), np.max(true_proj), 100))\n",
        "    plt.xlabel('True CATE')\n",
        "    plt.ylabel('Predicted CATE')\n",
        "    plt.show()"
      ]
    },
    {
      "cell_type": "markdown",
      "source": [
        "上位4つの重要特徴量それぞれについてのマージナル効果"
      ],
      "metadata": {
        "id": "QbIeJxCb8-Tl"
      }
    },
    {
      "cell_type": "code",
      "execution_count": 38,
      "metadata": {
        "id": "EDsjdk_52_6F",
        "colab": {
          "base_uri": "https://localhost:8080/"
        },
        "outputId": "386c67ff-80ce-4ef3-c9dd-1f81897bad5d"
      },
      "outputs": [
        {
          "output_type": "execute_result",
          "data": {
            "text/plain": [
              "Index(['polviews', 'indus80', 'educ', 'hrs1'], dtype='object')"
            ]
          },
          "metadata": {},
          "execution_count": 38
        }
      ],
      "source": [
        "important_feats = Z.columns[np.argsort(cf.feature_importances_)[::-1]]\n",
        "important_feats[:4]"
      ]
    },
    {
      "cell_type": "markdown",
      "source": [
        "可視化"
      ],
      "metadata": {
        "id": "CwSJZObd8-1q"
      }
    },
    {
      "cell_type": "code",
      "execution_count": 39,
      "metadata": {
        "id": "8tuWZEX12_6F",
        "colab": {
          "base_uri": "https://localhost:8080/",
          "height": 707
        },
        "outputId": "dcc2c940-737b-47e2-d5dd-89d16f432fc2"
      },
      "outputs": [
        {
          "output_type": "display_data",
          "data": {
            "text/plain": [
              "<Figure size 1000x700 with 4 Axes>"
            ],
            "image/png": "[encoded data removed]"
          },
          "metadata": {}
        }
      ],
      "source": [
        "plt.figure(figsize=(10, 7))\n",
        "for it, feature in enumerate(important_feats[:4]):\n",
        "    plt.subplot(2, 2, it + 1)\n",
        "    grid = np.unique(np.percentile(Z[feature], np.arange(0, 105, 5)))\n",
        "    Zpd = pd.DataFrame(np.tile(np.median(Z, axis=0, keepdims=True), (len(grid), 1)),\n",
        "                       columns=Z.columns)\n",
        "    Zpd[feature] = grid\n",
        "\n",
        "    preds, lb, ub = cf.predict(Zpd, interval=True, alpha=.1)\n",
        "    preds = preds.flatten()\n",
        "    lb = lb.flatten()\n",
        "    ub = ub.flatten()\n",
        "    plt.errorbar(Zpd[feature], preds, yerr=(preds - lb, ub - preds))\n",
        "    plt.xlabel(feature)\n",
        "    plt.ylabel('Predicted CATE')\n",
        "plt.tight_layout()\n",
        "plt.savefig(f'{data}-cf-marginal-plots.png', dpi=600)\n",
        "plt.show()"
      ]
    },
    {
      "cell_type": "markdown",
      "source": [
        "Causal Forests\n",
        "　→ ランダムフォレストで因果効果（CATE）を推定。\n",
        "　→ モデルが正しくないと誤差が出やすい。"
      ],
      "metadata": {
        "id": "oNWcdQrtGZiy"
      }
    },
    {
      "cell_type": "markdown",
      "source": [
        "Doubly Robust Forests\n",
        "　→ アウトカムモデルと処置モデルの両方を使い、\n",
        "　→ どちらか片方が正しければ正確に推定できる頑健な方法。\n",
        "　→ 信頼区間もより正確に作れる。"
      ],
      "metadata": {
        "id": "sMfeNzS0GVi5"
      }
    },
    {
      "cell_type": "markdown",
      "metadata": {
        "id": "owgItlJv2_6F"
      },
      "source": [
        "# Non-Parametric Confidence Intervals with Doubly Robust Forests"
      ]
    },
    {
      "cell_type": "markdown",
      "metadata": {
        "id": "GqwRym_E2_6F"
      },
      "source": [
        "(standard errors here ignore cluster/group correlations)"
      ]
    },
    {
      "cell_type": "markdown",
      "source": [
        "回帰森林モデルの初期化"
      ],
      "metadata": {
        "id": "2ui-EAKV9YIt"
      }
    },
    {
      "cell_type": "code",
      "execution_count": 40,
      "metadata": {
        "id": "C1pZAGCB2_6F",
        "colab": {
          "base_uri": "https://localhost:8080/",
          "height": 97
        },
        "outputId": "cbfaad69-c35d-4355-cdb6-25bb354249fe"
      },
      "outputs": [
        {
          "output_type": "execute_result",
          "data": {
            "text/plain": [
              "RegressionForest(max_depth=5, max_samples=0.4, min_samples_leaf=50,\n",
              "                 n_estimators=4000, random_state=1)"
            ],
            "text/html": [
              "<style>#sk-container-id-2 {\n",
              "  /* Definition of color scheme common for light and dark mode */\n",
              "  --sklearn-color-text: black;\n",
              "  --sklearn-color-line: gray;\n",
              "  /* Definition of color scheme for unfitted estimators */\n",
              "  --sklearn-color-unfitted-level-0: #fff5e6;\n",
              "  --sklearn-color-unfitted-level-1: #f6e4d2;\n",
              "  --sklearn-color-unfitted-level-2: #ffe0b3;\n",
              "  --sklearn-color-unfitted-level-3: chocolate;\n",
              "  /* Definition of color scheme for fitted estimators */\n",
              "  --sklearn-color-fitted-level-0: #f0f8ff;\n",
              "  --sklearn-color-fitted-level-1: #d4ebff;\n",
              "  --sklearn-color-fitted-level-2: #b3dbfd;\n",
              "  --sklearn-color-fitted-level-3: cornflowerblue;\n",
              "\n",
              "  /* Specific color for light theme */\n",
              "  --sklearn-color-text-on-default-background: var(--sg-text-color, var(--theme-code-foreground, var(--jp-content-font-color1, black)));\n",
              "  --sklearn-color-background: var(--sg-background-color, var(--theme-background, var(--jp-layout-color0, white)));\n",
              "  --sklearn-color-border-box: var(--sg-text-color, var(--theme-code-foreground, var(--jp-content-font-color1, black)));\n",
              "  --sklearn-color-icon: #696969;\n",
              "\n",
              "  @media (prefers-color-scheme: dark) {\n",
              "    /* Redefinition of color scheme for dark theme */\n",
              "    --sklearn-color-text-on-default-background: var(--sg-text-color, var(--theme-code-foreground, var(--jp-content-font-color1, white)));\n",
              "    --sklearn-color-background: var(--sg-background-color, var(--theme-background, var(--jp-layout-color0, #111)));\n",
              "    --sklearn-color-border-box: var(--sg-text-color, var(--theme-code-foreground, var(--jp-content-font-color1, white)));\n",
              "    --sklearn-color-icon: #878787;\n",
              "  }\n",
              "}\n",
              "\n",
              "#sk-container-id-2 {\n",
              "  color: var(--sklearn-color-text);\n",
              "}\n",
              "\n",
              "#sk-container-id-2 pre {\n",
              "  padding: 0;\n",
              "}\n",
              "\n",
              "#sk-container-id-2 input.sk-hidden--visually {\n",
              "  border: 0;\n",
              "  clip: rect(1px 1px 1px 1px);\n",
              "  clip: rect(1px, 1px, 1px, 1px);\n",
              "  height: 1px;\n",
              "  margin: -1px;\n",
              "  overflow: hidden;\n",
              "  padding: 0;\n",
              "  position: absolute;\n",
              "  width: 1px;\n",
              "}\n",
              "\n",
              "#sk-container-id-2 div.sk-dashed-wrapped {\n",
              "  border: 1px dashed var(--sklearn-color-line);\n",
              "  margin: 0 0.4em 0.5em 0.4em;\n",
              "  box-sizing: border-box;\n",
              "  padding-bottom: 0.4em;\n",
              "  background-color: var(--sklearn-color-background);\n",
              "}\n",
              "\n",
              "#sk-container-id-2 div.sk-container {\n",
              "  /* jupyter's `normalize.less` sets `[hidden] { display: none; }`\n",
              "     but bootstrap.min.css set `[hidden] { display: none !important; }`\n",
              "     so we also need the `!important` here to be able to override the\n",
              "     default hidden behavior on the sphinx rendered scikit-learn.org.\n",
              "     See: https://github.com/scikit-learn/scikit-learn/issues/21755 */\n",
              "  display: inline-block !important;\n",
              "  position: relative;\n",
              "}\n",
              "\n",
              "#sk-container-id-2 div.sk-text-repr-fallback {\n",
              "  display: none;\n",
              "}\n",
              "\n",
              "div.sk-parallel-item,\n",
              "div.sk-serial,\n",
              "div.sk-item {\n",
              "  /* draw centered vertical line to link estimators */\n",
              "  background-image: linear-gradient(var(--sklearn-color-text-on-default-background), var(--sklearn-color-text-on-default-background));\n",
              "  background-size: 2px 100%;\n",
              "  background-repeat: no-repeat;\n",
              "  background-position: center center;\n",
              "}\n",
              "\n",
              "/* Parallel-specific style estimator block */\n",
              "\n",
              "#sk-container-id-2 div.sk-parallel-item::after {\n",
              "  content: \"\";\n",
              "  width: 100%;\n",
              "  border-bottom: 2px solid var(--sklearn-color-text-on-default-background);\n",
              "  flex-grow: 1;\n",
              "}\n",
              "\n",
              "#sk-container-id-2 div.sk-parallel {\n",
              "  display: flex;\n",
              "  align-items: stretch;\n",
              "  justify-content: center;\n",
              "  background-color: var(--sklearn-color-background);\n",
              "  position: relative;\n",
              "}\n",
              "\n",
              "#sk-container-id-2 div.sk-parallel-item {\n",
              "  display: flex;\n",
              "  flex-direction: column;\n",
              "}\n",
              "\n",
              "#sk-container-id-2 div.sk-parallel-item:first-child::after {\n",
              "  align-self: flex-end;\n",
              "  width: 50%;\n",
              "}\n",
              "\n",
              "#sk-container-id-2 div.sk-parallel-item:last-child::after {\n",
              "  align-self: flex-start;\n",
              "  width: 50%;\n",
              "}\n",
              "\n",
              "#sk-container-id-2 div.sk-parallel-item:only-child::after {\n",
              "  width: 0;\n",
              "}\n",
              "\n",
              "/* Serial-specific style estimator block */\n",
              "\n",
              "#sk-container-id-2 div.sk-serial {\n",
              "  display: flex;\n",
              "  flex-direction: column;\n",
              "  align-items: center;\n",
              "  background-color: var(--sklearn-color-background);\n",
              "  padding-right: 1em;\n",
              "  padding-left: 1em;\n",
              "}\n",
              "\n",
              "\n",
              "/* Toggleable style: style used for estimator/Pipeline/ColumnTransformer box that is\n",
              "clickable and can be expanded/collapsed.\n",
              "- Pipeline and ColumnTransformer use this feature and define the default style\n",
              "- Estimators will overwrite some part of the style using the `sk-estimator` class\n",
              "*/\n",
              "\n",
              "/* Pipeline and ColumnTransformer style (default) */\n",
              "\n",
              "#sk-container-id-2 div.sk-toggleable {\n",
              "  /* Default theme specific background. It is overwritten whether we have a\n",
              "  specific estimator or a Pipeline/ColumnTransformer */\n",
              "  background-color: var(--sklearn-color-background);\n",
              "}\n",
              "\n",
              "/* Toggleable label */\n",
              "#sk-container-id-2 label.sk-toggleable__label {\n",
              "  cursor: pointer;\n",
              "  display: block;\n",
              "  width: 100%;\n",
              "  margin-bottom: 0;\n",
              "  padding: 0.5em;\n",
              "  box-sizing: border-box;\n",
              "  text-align: center;\n",
              "}\n",
              "\n",
              "#sk-container-id-2 label.sk-toggleable__label-arrow:before {\n",
              "  /* Arrow on the left of the label */\n",
              "  content: \"▸\";\n",
              "  float: left;\n",
              "  margin-right: 0.25em;\n",
              "  color: var(--sklearn-color-icon);\n",
              "}\n",
              "\n",
              "#sk-container-id-2 label.sk-toggleable__label-arrow:hover:before {\n",
              "  color: var(--sklearn-color-text);\n",
              "}\n",
              "\n",
              "/* Toggleable content - dropdown */\n",
              "\n",
              "#sk-container-id-2 div.sk-toggleable__content {\n",
              "  max-height: 0;\n",
              "  max-width: 0;\n",
              "  overflow: hidden;\n",
              "  text-align: left;\n",
              "  /* unfitted */\n",
              "  background-color: var(--sklearn-color-unfitted-level-0);\n",
              "}\n",
              "\n",
              "#sk-container-id-2 div.sk-toggleable__content.fitted {\n",
              "  /* fitted */\n",
              "  background-color: var(--sklearn-color-fitted-level-0);\n",
              "}\n",
              "\n",
              "#sk-container-id-2 div.sk-toggleable__content pre {\n",
              "  margin: 0.2em;\n",
              "  border-radius: 0.25em;\n",
              "  color: var(--sklearn-color-text);\n",
              "  /* unfitted */\n",
              "  background-color: var(--sklearn-color-unfitted-level-0);\n",
              "}\n",
              "\n",
              "#sk-container-id-2 div.sk-toggleable__content.fitted pre {\n",
              "  /* unfitted */\n",
              "  background-color: var(--sklearn-color-fitted-level-0);\n",
              "}\n",
              "\n",
              "#sk-container-id-2 input.sk-toggleable__control:checked~div.sk-toggleable__content {\n",
              "  /* Expand drop-down */\n",
              "  max-height: 200px;\n",
              "  max-width: 100%;\n",
              "  overflow: auto;\n",
              "}\n",
              "\n",
              "#sk-container-id-2 input.sk-toggleable__control:checked~label.sk-toggleable__label-arrow:before {\n",
              "  content: \"▾\";\n",
              "}\n",
              "\n",
              "/* Pipeline/ColumnTransformer-specific style */\n",
              "\n",
              "#sk-container-id-2 div.sk-label input.sk-toggleable__control:checked~label.sk-toggleable__label {\n",
              "  color: var(--sklearn-color-text);\n",
              "  background-color: var(--sklearn-color-unfitted-level-2);\n",
              "}\n",
              "\n",
              "#sk-container-id-2 div.sk-label.fitted input.sk-toggleable__control:checked~label.sk-toggleable__label {\n",
              "  background-color: var(--sklearn-color-fitted-level-2);\n",
              "}\n",
              "\n",
              "/* Estimator-specific style */\n",
              "\n",
              "/* Colorize estimator box */\n",
              "#sk-container-id-2 div.sk-estimator input.sk-toggleable__control:checked~label.sk-toggleable__label {\n",
              "  /* unfitted */\n",
              "  background-color: var(--sklearn-color-unfitted-level-2);\n",
              "}\n",
              "\n",
              "#sk-container-id-2 div.sk-estimator.fitted input.sk-toggleable__control:checked~label.sk-toggleable__label {\n",
              "  /* fitted */\n",
              "  background-color: var(--sklearn-color-fitted-level-2);\n",
              "}\n",
              "\n",
              "#sk-container-id-2 div.sk-label label.sk-toggleable__label,\n",
              "#sk-container-id-2 div.sk-label label {\n",
              "  /* The background is the default theme color */\n",
              "  color: var(--sklearn-color-text-on-default-background);\n",
              "}\n",
              "\n",
              "/* On hover, darken the color of the background */\n",
              "#sk-container-id-2 div.sk-label:hover label.sk-toggleable__label {\n",
              "  color: var(--sklearn-color-text);\n",
              "  background-color: var(--sklearn-color-unfitted-level-2);\n",
              "}\n",
              "\n",
              "/* Label box, darken color on hover, fitted */\n",
              "#sk-container-id-2 div.sk-label.fitted:hover label.sk-toggleable__label.fitted {\n",
              "  color: var(--sklearn-color-text);\n",
              "  background-color: var(--sklearn-color-fitted-level-2);\n",
              "}\n",
              "\n",
              "/* Estimator label */\n",
              "\n",
              "#sk-container-id-2 div.sk-label label {\n",
              "  font-family: monospace;\n",
              "  font-weight: bold;\n",
              "  display: inline-block;\n",
              "  line-height: 1.2em;\n",
              "}\n",
              "\n",
              "#sk-container-id-2 div.sk-label-container {\n",
              "  text-align: center;\n",
              "}\n",
              "\n",
              "/* Estimator-specific */\n",
              "#sk-container-id-2 div.sk-estimator {\n",
              "  font-family: monospace;\n",
              "  border: 1px dotted var(--sklearn-color-border-box);\n",
              "  border-radius: 0.25em;\n",
              "  box-sizing: border-box;\n",
              "  margin-bottom: 0.5em;\n",
              "  /* unfitted */\n",
              "  background-color: var(--sklearn-color-unfitted-level-0);\n",
              "}\n",
              "\n",
              "#sk-container-id-2 div.sk-estimator.fitted {\n",
              "  /* fitted */\n",
              "  background-color: var(--sklearn-color-fitted-level-0);\n",
              "}\n",
              "\n",
              "/* on hover */\n",
              "#sk-container-id-2 div.sk-estimator:hover {\n",
              "  /* unfitted */\n",
              "  background-color: var(--sklearn-color-unfitted-level-2);\n",
              "}\n",
              "\n",
              "#sk-container-id-2 div.sk-estimator.fitted:hover {\n",
              "  /* fitted */\n",
              "  background-color: var(--sklearn-color-fitted-level-2);\n",
              "}\n",
              "\n",
              "/* Specification for estimator info (e.g. \"i\" and \"?\") */\n",
              "\n",
              "/* Common style for \"i\" and \"?\" */\n",
              "\n",
              ".sk-estimator-doc-link,\n",
              "a:link.sk-estimator-doc-link,\n",
              "a:visited.sk-estimator-doc-link {\n",
              "  float: right;\n",
              "  font-size: smaller;\n",
              "  line-height: 1em;\n",
              "  font-family: monospace;\n",
              "  background-color: var(--sklearn-color-background);\n",
              "  border-radius: 1em;\n",
              "  height: 1em;\n",
              "  width: 1em;\n",
              "  text-decoration: none !important;\n",
              "  margin-left: 1ex;\n",
              "  /* unfitted */\n",
              "  border: var(--sklearn-color-unfitted-level-1) 1pt solid;\n",
              "  color: var(--sklearn-color-unfitted-level-1);\n",
              "}\n",
              "\n",
              ".sk-estimator-doc-link.fitted,\n",
              "a:link.sk-estimator-doc-link.fitted,\n",
              "a:visited.sk-estimator-doc-link.fitted {\n",
              "  /* fitted */\n",
              "  border: var(--sklearn-color-fitted-level-1) 1pt solid;\n",
              "  color: var(--sklearn-color-fitted-level-1);\n",
              "}\n",
              "\n",
              "/* On hover */\n",
              "div.sk-estimator:hover .sk-estimator-doc-link:hover,\n",
              ".sk-estimator-doc-link:hover,\n",
              "div.sk-label-container:hover .sk-estimator-doc-link:hover,\n",
              ".sk-estimator-doc-link:hover {\n",
              "  /* unfitted */\n",
              "  background-color: var(--sklearn-color-unfitted-level-3);\n",
              "  color: var(--sklearn-color-background);\n",
              "  text-decoration: none;\n",
              "}\n",
              "\n",
              "div.sk-estimator.fitted:hover .sk-estimator-doc-link.fitted:hover,\n",
              ".sk-estimator-doc-link.fitted:hover,\n",
              "div.sk-label-container:hover .sk-estimator-doc-link.fitted:hover,\n",
              ".sk-estimator-doc-link.fitted:hover {\n",
              "  /* fitted */\n",
              "  background-color: var(--sklearn-color-fitted-level-3);\n",
              "  color: var(--sklearn-color-background);\n",
              "  text-decoration: none;\n",
              "}\n",
              "\n",
              "/* Span, style for the box shown on hovering the info icon */\n",
              ".sk-estimator-doc-link span {\n",
              "  display: none;\n",
              "  z-index: 9999;\n",
              "  position: relative;\n",
              "  font-weight: normal;\n",
              "  right: .2ex;\n",
              "  padding: .5ex;\n",
              "  margin: .5ex;\n",
              "  width: min-content;\n",
              "  min-width: 20ex;\n",
              "  max-width: 50ex;\n",
              "  color: var(--sklearn-color-text);\n",
              "  box-shadow: 2pt 2pt 4pt #999;\n",
              "  /* unfitted */\n",
              "  background: var(--sklearn-color-unfitted-level-0);\n",
              "  border: .5pt solid var(--sklearn-color-unfitted-level-3);\n",
              "}\n",
              "\n",
              ".sk-estimator-doc-link.fitted span {\n",
              "  /* fitted */\n",
              "  background: var(--sklearn-color-fitted-level-0);\n",
              "  border: var(--sklearn-color-fitted-level-3);\n",
              "}\n",
              "\n",
              ".sk-estimator-doc-link:hover span {\n",
              "  display: block;\n",
              "}\n",
              "\n",
              "/* \"?\"-specific style due to the `<a>` HTML tag */\n",
              "\n",
              "#sk-container-id-2 a.estimator_doc_link {\n",
              "  float: right;\n",
              "  font-size: 1rem;\n",
              "  line-height: 1em;\n",
              "  font-family: monospace;\n",
              "  background-color: var(--sklearn-color-background);\n",
              "  border-radius: 1rem;\n",
              "  height: 1rem;\n",
              "  width: 1rem;\n",
              "  text-decoration: none;\n",
              "  /* unfitted */\n",
              "  color: var(--sklearn-color-unfitted-level-1);\n",
              "  border: var(--sklearn-color-unfitted-level-1) 1pt solid;\n",
              "}\n",
              "\n",
              "#sk-container-id-2 a.estimator_doc_link.fitted {\n",
              "  /* fitted */\n",
              "  border: var(--sklearn-color-fitted-level-1) 1pt solid;\n",
              "  color: var(--sklearn-color-fitted-level-1);\n",
              "}\n",
              "\n",
              "/* On hover */\n",
              "#sk-container-id-2 a.estimator_doc_link:hover {\n",
              "  /* unfitted */\n",
              "  background-color: var(--sklearn-color-unfitted-level-3);\n",
              "  color: var(--sklearn-color-background);\n",
              "  text-decoration: none;\n",
              "}\n",
              "\n",
              "#sk-container-id-2 a.estimator_doc_link.fitted:hover {\n",
              "  /* fitted */\n",
              "  background-color: var(--sklearn-color-fitted-level-3);\n",
              "}\n",
              "</style><div id=\"sk-container-id-2\" class=\"sk-top-container\"><div class=\"sk-text-repr-fallback\"><pre>RegressionForest(max_depth=5, max_samples=0.4, min_samples_leaf=50,\n",
              "                 n_estimators=4000, random_state=1)</pre><b>In a Jupyter environment, please rerun this cell to show the HTML representation or trust the notebook. <br />On GitHub, the HTML representation is unable to render, please try loading this page with nbviewer.org.</b></div><div class=\"sk-container\" hidden><div class=\"sk-item\"><div class=\"sk-estimator fitted sk-toggleable\"><input class=\"sk-toggleable__control sk-hidden--visually\" id=\"sk-estimator-id-2\" type=\"checkbox\" checked><label for=\"sk-estimator-id-2\" class=\"sk-toggleable__label fitted sk-toggleable__label-arrow fitted\">&nbsp;RegressionForest<span class=\"sk-estimator-doc-link fitted\">i<span>Fitted</span></span></label><div class=\"sk-toggleable__content fitted\"><pre>RegressionForest(max_depth=5, max_samples=0.4, min_samples_leaf=50,\n",
              "                 n_estimators=4000, random_state=1)</pre></div> </div></div></div></div>"
            ]
          },
          "metadata": {},
          "execution_count": 40
        }
      ],
      "source": [
        "from econml.grf import RegressionForest\n",
        "\n",
        "drrf = RegressionForest(4000, max_depth=5,\n",
        "                        max_samples=max_samples,\n",
        "                        min_samples_leaf=min_samples_leaf,\n",
        "                        min_weight_fraction_leaf=.0,\n",
        "                        random_state=random_seed)\n",
        "drrf.fit(Z, dr_preds)"
      ]
    },
    {
      "cell_type": "markdown",
      "source": [
        "最重要特徴量の取得と表示"
      ],
      "metadata": {
        "id": "3VEYUw1f9ePp"
      }
    },
    {
      "cell_type": "code",
      "execution_count": 41,
      "metadata": {
        "id": "3OxZFkQ82_6F",
        "colab": {
          "base_uri": "https://localhost:8080/"
        },
        "outputId": "3b08511d-656d-4e8f-dfc2-881cf4f3d353"
      },
      "outputs": [
        {
          "output_type": "stream",
          "name": "stdout",
          "text": [
            "polviews\n"
          ]
        }
      ],
      "source": [
        "top_feat = np.argsort(drrf.feature_importances_)[-1]\n",
        "print(Z.columns[top_feat])"
      ]
    },
    {
      "cell_type": "markdown",
      "source": [
        "重要特徴量の分位点ごとの予測値準備 予測と信頼区間の計算＆グラフ描画"
      ],
      "metadata": {
        "id": "KPpF_4C59hLV"
      }
    },
    {
      "cell_type": "code",
      "execution_count": 42,
      "metadata": {
        "id": "K4hZOq3Z2_6F",
        "colab": {
          "base_uri": "https://localhost:8080/",
          "height": 449
        },
        "outputId": "9ec8373c-4235-4364-b112-8cf0941f95bf"
      },
      "outputs": [
        {
          "output_type": "display_data",
          "data": {
            "text/plain": [
              "<Figure size 640x480 with 1 Axes>"
            ],
            "image/png": "[encoded data removed]"
          },
          "metadata": {}
        }
      ],
      "source": [
        "grid = np.unique(np.percentile(Z.iloc[:, top_feat], np.arange(0, 105, 5)))\n",
        "Zpd = pd.DataFrame(np.tile(np.median(Z.values, axis=0, keepdims=True), (len(grid), 1)),\n",
        "                   columns=Z.columns)\n",
        "Zpd.iloc[:, top_feat] = grid\n",
        "\n",
        "preds, lb, ub = drrf.predict(Zpd, interval=True, alpha=.1)\n",
        "preds = preds.flatten()\n",
        "lb = lb.flatten()\n",
        "ub = ub.flatten()\n",
        "plt.errorbar(Zpd.iloc[:, top_feat], preds, yerr=(preds - lb, ub - preds))\n",
        "plt.xlabel(Zpd.columns[top_feat])\n",
        "plt.ylabel('Predicted CATE (at median value of other features)')\n",
        "plt.savefig(f'{data}-doubly-robust-forest.png', dpi=600)\n",
        "plt.show()"
      ]
    },
    {
      "cell_type": "markdown",
      "source": [
        "重要特徴量上位4つ"
      ],
      "metadata": {
        "id": "H7RFshpG9oeA"
      }
    },
    {
      "cell_type": "code",
      "execution_count": 43,
      "metadata": {
        "id": "yn_dmwD12_6F",
        "colab": {
          "base_uri": "https://localhost:8080/"
        },
        "outputId": "b1616a1e-4950-44d4-9160-9b823b7e04ad"
      },
      "outputs": [
        {
          "output_type": "execute_result",
          "data": {
            "text/plain": [
              "Index(['polviews', 'indus80', 'educ', 'hrs1'], dtype='object')"
            ]
          },
          "metadata": {},
          "execution_count": 43
        }
      ],
      "source": [
        "important_feats = Z.columns[np.argsort(drrf.feature_importances_)[::-1]]\n",
        "important_feats[:4]"
      ]
    },
    {
      "cell_type": "markdown",
      "source": [
        "4つのマージナル効果プロット"
      ],
      "metadata": {
        "id": "jq9SQp1L9rds"
      }
    },
    {
      "cell_type": "code",
      "execution_count": 44,
      "metadata": {
        "id": "eVw-mkQY2_6F",
        "colab": {
          "base_uri": "https://localhost:8080/",
          "height": 706
        },
        "outputId": "246e7749-79ec-4caa-b90a-e07c9335def3"
      },
      "outputs": [
        {
          "output_type": "display_data",
          "data": {
            "text/plain": [
              "<Figure size 1000x700 with 4 Axes>"
            ],
            "image/png": "[encoded data removed]"
          },
          "metadata": {}
        }
      ],
      "source": [
        "plt.figure(figsize=(10, 7))\n",
        "for it, feature in enumerate(important_feats[:4]):\n",
        "    plt.subplot(2, 2, it + 1)\n",
        "    grid = np.unique(np.percentile(Z[feature], np.arange(0, 105, 5)))\n",
        "    Zpd = pd.DataFrame(np.tile(np.median(Z, axis=0, keepdims=True), (len(grid), 1)),\n",
        "                       columns=Z.columns)\n",
        "    Zpd[feature] = grid\n",
        "\n",
        "    preds, lb, ub = drrf.predict(Zpd, interval=True, alpha=.1)\n",
        "    preds = preds.flatten()\n",
        "    lb = lb.flatten()\n",
        "    ub = ub.flatten()\n",
        "    plt.errorbar(Zpd[feature], preds, yerr=(preds - lb, ub - preds))\n",
        "    plt.xlabel(feature)\n",
        "    plt.ylabel('Predicted CATE')\n",
        "plt.tight_layout()\n",
        "plt.savefig(f'{data}-drrf-marginal-plots.png', dpi=600)\n",
        "plt.show()"
      ]
    },
    {
      "cell_type": "markdown",
      "source": [
        "（半合成データのとき）真のCATEとの比較"
      ],
      "metadata": {
        "id": "IaZ4buuJ93Au"
      }
    },
    {
      "cell_type": "code",
      "execution_count": 45,
      "metadata": {
        "id": "mAjrHKfA2_6F"
      },
      "outputs": [],
      "source": [
        "if semi_synth:\n",
        "    true_proj = true_cate(X)\n",
        "    preds, lb, ub = drrf.predict(Z, interval=True, alpha=.1)\n",
        "    preds = preds.flatten()\n",
        "    lb = lb.flatten()\n",
        "    ub = ub.flatten()\n",
        "    inds = np.argsort(true_proj)\n",
        "    plt.plot(true_proj[inds], preds[inds])\n",
        "    plt.fill_between(true_proj[inds], lb[inds].flatten(), ub[inds].flatten(), alpha=.4)\n",
        "    plt.plot(np.linspace(np.min(true_proj), np.max(true_proj), 100),\n",
        "             np.linspace(np.min(true_proj), np.max(true_proj), 100))\n",
        "    plt.xlabel('True CATE')\n",
        "    plt.ylabel('Predicted CATE')\n",
        "    plt.show()"
      ]
    },
    {
      "cell_type": "markdown",
      "metadata": {
        "id": "cfnCsNVD2_6F"
      },
      "source": [
        "# Policy Evaluation"
      ]
    },
    {
      "cell_type": "markdown",
      "metadata": {
        "id": "kt3-0rq12_6G"
      },
      "source": [
        "Suppose our goal is to estimate the best treatment policy $\\pi: Z \\to \\{0, 1\\}$. The policy gains over no treatment for any policy $\\pi$ can be identified as:\n",
        "\\begin{align}\n",
        "V(\\pi) := E[\\pi(Z)\\, (Y(1) - Y(0))] = E\\left[\\pi(Z)\\, Y^{DR}(g,p)\\right]\n",
        "\\end{align}"
      ]
    },
    {
      "cell_type": "markdown",
      "metadata": {
        "id": "6ier8uoA2_6G"
      },
      "source": [
        "#### Evaluating some personalized policy"
      ]
    },
    {
      "cell_type": "markdown",
      "source": [
        "政策適用による期待利益の平均値と、その95%信頼区間を計算しているコードです。"
      ],
      "metadata": {
        "id": "Iakd737k-Sy8"
      }
    },
    {
      "cell_type": "code",
      "execution_count": 46,
      "metadata": {
        "id": "udvQSs_E2_6G",
        "colab": {
          "base_uri": "https://localhost:8080/"
        },
        "outputId": "e6b75d56-21cf-4cf1-fe75-75aaf12e47c4"
      },
      "outputs": [
        {
          "output_type": "stream",
          "name": "stdout",
          "text": [
            "-0.04181, 0.00449, -0.05061, -0.03301\n"
          ]
        }
      ],
      "source": [
        "pi = (dr_preds - treatment_cost) * policy(Z)\n",
        "point = np.mean(pi)\n",
        "stderr = np.sqrt(np.var(pi) / pi.shape[0])\n",
        "print(f\"{point:.5f}, {stderr:.5f}, {point - 1.96 * stderr:.5f}, {point + 1.96 * stderr:.5f}\")"
      ]
    },
    {
      "cell_type": "markdown",
      "metadata": {
        "id": "zo7To0gD2_6G"
      },
      "source": [
        "#### As compared to treating everyone"
      ]
    },
    {
      "cell_type": "markdown",
      "source": [
        "前回のコードからpolicy(Z)がなくなり、単純に\n",
        "\n",
        "個々の効果予測 dr_preds からコスト treatment_cost を引いたものの平均と信頼区間を計算している。前者は政策を実施した集団に限定した平均効果。\n",
        "後者は集団全体での平均効果。"
      ],
      "metadata": {
        "id": "LBSAvkzO-c0I"
      }
    },
    {
      "cell_type": "code",
      "execution_count": 47,
      "metadata": {
        "id": "xeNoEkin2_6G",
        "colab": {
          "base_uri": "https://localhost:8080/"
        },
        "outputId": "1dc52a47-1438-45e9-9954-f8d2ad17a0cc"
      },
      "outputs": [
        {
          "output_type": "stream",
          "name": "stdout",
          "text": [
            "-0.06601, 0.00720, -0.08012, -0.05191\n"
          ]
        }
      ],
      "source": [
        "pi = (dr_preds - treatment_cost)\n",
        "point = np.mean(pi)\n",
        "stderr = np.sqrt(np.var(pi) / pi.shape[0])\n",
        "print(f\"{point:.5f}, {stderr:.5f}, {point - 1.96 * stderr:.5f}, {point + 1.96 * stderr:.5f}\")"
      ]
    },
    {
      "cell_type": "code",
      "execution_count": null,
      "metadata": {
        "id": "N1MMjO-uxj1p"
      },
      "outputs": [],
      "source": []
    }
  ],
  "metadata": {
    "accelerator": "GPU",
    "colab": {
      "gpuType": "A100",
      "machine_shape": "hm",
      "provenance": []
    },
    "kernelspec": {
      "display_name": "Python 3 (ipykernel)",
      "language": "python",
      "name": "python3"
    },
    "language_info": {
      "codemirror_mode": {
        "name": "ipython",
        "version": 3
      },
      "file_extension": ".py",
      "mimetype": "text/x-python",
      "name": "python",
      "nbconvert_exporter": "python",
      "pygments_lexer": "ipython3",
      "version": "3.11.5"
    }
  },
  "nbformat": 4,
  "nbformat_minor": 0
}